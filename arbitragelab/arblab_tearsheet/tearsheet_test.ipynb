{
 "cells": [
  {
   "cell_type": "code",
   "execution_count": 6,
   "metadata": {},
   "outputs": [],
   "source": [
    "import arbitragelab as al\n",
    "import dash\n",
    "import yfinance as yf"
   ]
  },
  {
   "cell_type": "code",
   "execution_count": 7,
   "metadata": {},
   "outputs": [],
   "source": [
    "import dash_core_components as dcc\n",
    "import dash_html_components as html\n",
    "import plotly.express as px\n",
    "import pandas as pd\n",
    "from flask import request"
   ]
  },
  {
   "cell_type": "markdown",
   "metadata": {},
   "source": [
    "## Data"
   ]
  },
  {
   "cell_type": "code",
   "execution_count": 8,
   "metadata": {},
   "outputs": [
    {
     "name": "stdout",
     "output_type": "stream",
     "text": [
      "[*********************100%***********************]  2 of 2 completed\n",
      "[*********************100%***********************]  2 of 2 completed\n"
     ]
    },
    {
     "data": {
      "text/html": [
       "<div>\n",
       "<style scoped>\n",
       "    .dataframe tbody tr th:only-of-type {\n",
       "        vertical-align: middle;\n",
       "    }\n",
       "\n",
       "    .dataframe tbody tr th {\n",
       "        vertical-align: top;\n",
       "    }\n",
       "\n",
       "    .dataframe thead th {\n",
       "        text-align: right;\n",
       "    }\n",
       "</style>\n",
       "<table border=\"1\" class=\"dataframe\">\n",
       "  <thead>\n",
       "    <tr style=\"text-align: right;\">\n",
       "      <th></th>\n",
       "      <th>GLD</th>\n",
       "      <th>GDXJ</th>\n",
       "    </tr>\n",
       "    <tr>\n",
       "      <th>Date</th>\n",
       "      <th></th>\n",
       "      <th></th>\n",
       "    </tr>\n",
       "  </thead>\n",
       "  <tbody>\n",
       "    <tr>\n",
       "      <th>2015-12-31</th>\n",
       "      <td>101.459999</td>\n",
       "      <td>17.784159</td>\n",
       "    </tr>\n",
       "    <tr>\n",
       "      <th>2016-01-04</th>\n",
       "      <td>102.889999</td>\n",
       "      <td>18.330364</td>\n",
       "    </tr>\n",
       "    <tr>\n",
       "      <th>2016-01-05</th>\n",
       "      <td>103.180000</td>\n",
       "      <td>18.367397</td>\n",
       "    </tr>\n",
       "    <tr>\n",
       "      <th>2016-01-06</th>\n",
       "      <td>104.669998</td>\n",
       "      <td>18.682161</td>\n",
       "    </tr>\n",
       "    <tr>\n",
       "      <th>2016-01-07</th>\n",
       "      <td>106.150002</td>\n",
       "      <td>19.117277</td>\n",
       "    </tr>\n",
       "  </tbody>\n",
       "</table>\n",
       "</div>"
      ],
      "text/plain": [
       "                   GLD       GDXJ\n",
       "Date                             \n",
       "2015-12-31  101.459999  17.784159\n",
       "2016-01-04  102.889999  18.330364\n",
       "2016-01-05  103.180000  18.367397\n",
       "2016-01-06  104.669998  18.682161\n",
       "2016-01-07  106.150002  19.117277"
      ]
     },
     "execution_count": 8,
     "metadata": {},
     "output_type": "execute_result"
    }
   ],
   "source": [
    "# Loading data\n",
    "train_data =  yf.download(\"GLD GDXJ\", start=\"2016-01-01\", end=\"2018-01-01\")\n",
    "test_data =  yf.download(\"GLD GDXJ\", start=\"2018-01-02\", end=\"2020-01-01\")\n",
    "\n",
    "# Taking close prices for chosen instruments\n",
    "train_three_elements = train_data[\"Adj Close\"][[\"GLD\", \"GDXJ\"]]\n",
    "\n",
    "test_three_elements = test_data[\"Adj Close\"][[\"GLD\", \"GDXJ\"]]\n",
    "\n",
    "# Looking at the downloaded data\n",
    "train_three_elements.head()"
   ]
  },
  {
   "cell_type": "markdown",
   "metadata": {},
   "source": [
    "### ADF"
   ]
  },
  {
   "cell_type": "code",
   "execution_count": 2,
   "metadata": {},
   "outputs": [],
   "source": [
    "from statsmodels.tsa.stattools import adfuller\n",
    "def adf_test(timeseries):\n",
    "    print ('Results of Dickey-Fuller Test:')\n",
    "    dftest = adfuller(timeseries, autolag='AIC')\n",
    "    dfoutput = pd.Series(dftest[0:4], index=['Test Statistic','p-value','#Lags Used','Number of Observations Used'])\n",
    "    for key,value in dftest[4].items():\n",
    "       dfoutput['Critical Value (%s)'%key] = value\n",
    "    print (dfoutput)"
   ]
  },
  {
   "cell_type": "code",
   "execution_count": 9,
   "metadata": {},
   "outputs": [
    {
     "name": "stdout",
     "output_type": "stream",
     "text": [
      "Results of Dickey-Fuller Test:\n",
      "Test Statistic                  -3.014962\n",
      "p-value                          0.033521\n",
      "#Lags Used                       4.000000\n",
      "Number of Observations Used    499.000000\n",
      "Critical Value (1%)             -3.443523\n",
      "Critical Value (5%)             -2.867350\n",
      "Critical Value (10%)            -2.569864\n",
      "dtype: float64\n"
     ]
    }
   ],
   "source": [
    "adf_test(train_three_elements['GLD'])"
   ]
  },
  {
   "cell_type": "code",
   "execution_count": 11,
   "metadata": {},
   "outputs": [
    {
     "data": {
      "text/plain": [
       "(-2.6073716854664704,\n",
       " 0.09148324139788433,\n",
       " 4,\n",
       " 499,\n",
       " {'1%': -3.4435228622952065,\n",
       "  '5%': -2.867349510566146,\n",
       "  '10%': -2.569864247011056},\n",
       " 1410.0891848889364)"
      ]
     },
     "execution_count": 11,
     "metadata": {},
     "output_type": "execute_result"
    }
   ],
   "source": [
    "adfuller(train_three_elements['GDXJ'], autolag='AIC')"
   ]
  },
  {
   "cell_type": "code",
   "execution_count": 10,
   "metadata": {},
   "outputs": [
    {
     "name": "stdout",
     "output_type": "stream",
     "text": [
      "Results of Dickey-Fuller Test:\n",
      "Test Statistic                  -2.607372\n",
      "p-value                          0.091483\n",
      "#Lags Used                       4.000000\n",
      "Number of Observations Used    499.000000\n",
      "Critical Value (1%)             -3.443523\n",
      "Critical Value (5%)             -2.867350\n",
      "Critical Value (10%)            -2.569864\n",
      "dtype: float64\n"
     ]
    }
   ],
   "source": [
    "adf_test(train_three_elements['GDXJ'])"
   ]
  },
  {
   "cell_type": "markdown",
   "metadata": {},
   "source": [
    "### Johansen"
   ]
  },
  {
   "cell_type": "code",
   "execution_count": 11,
   "metadata": {},
   "outputs": [],
   "source": [
    "# Initialising an object containing needed methods\n",
    "j_portfolio = al.cointegration_approach.JohansenPortfolio()\n",
    "\n",
    "# Fitting the data on a dataset of three elements with constant term\n",
    "j_portfolio.fit(train_three_elements, det_order=0)\n",
    "\n",
    "# Getting results of the eigenvalue and trace Johansen tests\n",
    "j_eigenvalue_statistics = j_portfolio.johansen_eigen_statistic\n",
    "j_trace_statistics = j_portfolio.johansen_trace_statistic\n",
    "j_cointegration_vectors = j_portfolio.cointegration_vectors\n",
    "\n"
   ]
  },
  {
   "cell_type": "code",
   "execution_count": 12,
   "metadata": {},
   "outputs": [
    {
     "data": {
      "text/html": [
       "<div>\n",
       "<style scoped>\n",
       "    .dataframe tbody tr th:only-of-type {\n",
       "        vertical-align: middle;\n",
       "    }\n",
       "\n",
       "    .dataframe tbody tr th {\n",
       "        vertical-align: top;\n",
       "    }\n",
       "\n",
       "    .dataframe thead th {\n",
       "        text-align: right;\n",
       "    }\n",
       "</style>\n",
       "<table border=\"1\" class=\"dataframe\">\n",
       "  <thead>\n",
       "    <tr style=\"text-align: right;\">\n",
       "      <th></th>\n",
       "      <th>GLD</th>\n",
       "      <th>GDXJ</th>\n",
       "    </tr>\n",
       "  </thead>\n",
       "  <tbody>\n",
       "    <tr>\n",
       "      <th>90%</th>\n",
       "      <td>12.2971</td>\n",
       "      <td>2.705500</td>\n",
       "    </tr>\n",
       "    <tr>\n",
       "      <th>95%</th>\n",
       "      <td>14.2639</td>\n",
       "      <td>3.841500</td>\n",
       "    </tr>\n",
       "    <tr>\n",
       "      <th>99%</th>\n",
       "      <td>18.5200</td>\n",
       "      <td>6.634900</td>\n",
       "    </tr>\n",
       "    <tr>\n",
       "      <th>eigen_value</th>\n",
       "      <td>10.2804</td>\n",
       "      <td>2.873192</td>\n",
       "    </tr>\n",
       "  </tbody>\n",
       "</table>\n",
       "</div>"
      ],
      "text/plain": [
       "                 GLD      GDXJ\n",
       "90%          12.2971  2.705500\n",
       "95%          14.2639  3.841500\n",
       "99%          18.5200  6.634900\n",
       "eigen_value  10.2804  2.873192"
      ]
     },
     "execution_count": 12,
     "metadata": {},
     "output_type": "execute_result"
    }
   ],
   "source": [
    "# First, the eigenvalue statistic test\n",
    "j_eigenvalue_statistics"
   ]
  },
  {
   "cell_type": "code",
   "execution_count": 13,
   "metadata": {},
   "outputs": [
    {
     "data": {
      "text/html": [
       "<div>\n",
       "<style scoped>\n",
       "    .dataframe tbody tr th:only-of-type {\n",
       "        vertical-align: middle;\n",
       "    }\n",
       "\n",
       "    .dataframe tbody tr th {\n",
       "        vertical-align: top;\n",
       "    }\n",
       "\n",
       "    .dataframe thead th {\n",
       "        text-align: right;\n",
       "    }\n",
       "</style>\n",
       "<table border=\"1\" class=\"dataframe\">\n",
       "  <thead>\n",
       "    <tr style=\"text-align: right;\">\n",
       "      <th></th>\n",
       "      <th>GLD</th>\n",
       "      <th>GDXJ</th>\n",
       "    </tr>\n",
       "  </thead>\n",
       "  <tbody>\n",
       "    <tr>\n",
       "      <th>90%</th>\n",
       "      <td>13.429400</td>\n",
       "      <td>2.705500</td>\n",
       "    </tr>\n",
       "    <tr>\n",
       "      <th>95%</th>\n",
       "      <td>15.494300</td>\n",
       "      <td>3.841500</td>\n",
       "    </tr>\n",
       "    <tr>\n",
       "      <th>99%</th>\n",
       "      <td>19.934900</td>\n",
       "      <td>6.634900</td>\n",
       "    </tr>\n",
       "    <tr>\n",
       "      <th>trace_statistic</th>\n",
       "      <td>13.153592</td>\n",
       "      <td>2.873192</td>\n",
       "    </tr>\n",
       "  </tbody>\n",
       "</table>\n",
       "</div>"
      ],
      "text/plain": [
       "                       GLD      GDXJ\n",
       "90%              13.429400  2.705500\n",
       "95%              15.494300  3.841500\n",
       "99%              19.934900  6.634900\n",
       "trace_statistic  13.153592  2.873192"
      ]
     },
     "execution_count": 13,
     "metadata": {},
     "output_type": "execute_result"
    }
   ],
   "source": [
    "# Next, the alternative trace statistic test\n",
    "j_trace_statistics"
   ]
  },
  {
   "cell_type": "code",
   "execution_count": 14,
   "metadata": {},
   "outputs": [
    {
     "data": {
      "text/html": [
       "<div>\n",
       "<style scoped>\n",
       "    .dataframe tbody tr th:only-of-type {\n",
       "        vertical-align: middle;\n",
       "    }\n",
       "\n",
       "    .dataframe tbody tr th {\n",
       "        vertical-align: top;\n",
       "    }\n",
       "\n",
       "    .dataframe thead th {\n",
       "        text-align: right;\n",
       "    }\n",
       "</style>\n",
       "<table border=\"1\" class=\"dataframe\">\n",
       "  <thead>\n",
       "    <tr style=\"text-align: right;\">\n",
       "      <th></th>\n",
       "      <th>GLD</th>\n",
       "      <th>GDXJ</th>\n",
       "    </tr>\n",
       "  </thead>\n",
       "  <tbody>\n",
       "    <tr>\n",
       "      <th>0</th>\n",
       "      <td>0.184139</td>\n",
       "      <td>0.003739</td>\n",
       "    </tr>\n",
       "    <tr>\n",
       "      <th>1</th>\n",
       "      <td>-0.206006</td>\n",
       "      <td>0.235060</td>\n",
       "    </tr>\n",
       "  </tbody>\n",
       "</table>\n",
       "</div>"
      ],
      "text/plain": [
       "        GLD      GDXJ\n",
       "0  0.184139  0.003739\n",
       "1 -0.206006  0.235060"
      ]
     },
     "execution_count": 14,
     "metadata": {},
     "output_type": "execute_result"
    }
   ],
   "source": [
    "# Coefficients to construct a mean-reverting portfolio \n",
    "j_cointegration_vectors"
   ]
  },
  {
   "cell_type": "markdown",
   "metadata": {},
   "source": [
    "### Portfolio calculation"
   ]
  },
  {
   "cell_type": "code",
   "execution_count": 15,
   "metadata": {},
   "outputs": [
    {
     "data": {
      "text/plain": [
       "GLD     0.184139\n",
       "GDXJ    0.003739\n",
       "Name: 0, dtype: float64"
      ]
     },
     "execution_count": 15,
     "metadata": {},
     "output_type": "execute_result"
    }
   ],
   "source": [
    "# Weights of elements for the Johansen portfolio\n",
    "j_cointegration_vectors.loc[0]"
   ]
  },
  {
   "cell_type": "code",
   "execution_count": 16,
   "metadata": {},
   "outputs": [
    {
     "data": {
      "text/plain": [
       "GLD     0.9801\n",
       "GDXJ    0.0199\n",
       "Name: 0, dtype: float64"
      ]
     },
     "execution_count": 16,
     "metadata": {},
     "output_type": "execute_result"
    }
   ],
   "source": [
    "# Scaling cointegration vectors so they sum up to 1\n",
    "j_scaled_vectors = j_cointegration_vectors.loc[0] / abs(j_cointegration_vectors.loc[0]).sum()\n",
    "\n",
    "j_scaled_vectors"
   ]
  },
  {
   "cell_type": "code",
   "execution_count": 17,
   "metadata": {},
   "outputs": [],
   "source": [
    "# Also adding weights to take initial prices of our ETFs into account\n",
    "weights  = train_three_elements.iloc[0] / abs(train_three_elements.iloc[0]).sum()"
   ]
  },
  {
   "cell_type": "code",
   "execution_count": 18,
   "metadata": {},
   "outputs": [
    {
     "ename": "NameError",
     "evalue": "name 'train_three_elements_returns' is not defined",
     "output_type": "error",
     "traceback": [
      "\u001b[1;31m---------------------------------------------------------------------------\u001b[0m",
      "\u001b[1;31mNameError\u001b[0m                                 Traceback (most recent call last)",
      "\u001b[1;32m<ipython-input-18-16390e94422d>\u001b[0m in \u001b[0;36m<module>\u001b[1;34m\u001b[0m\n\u001b[0;32m      1\u001b[0m \u001b[1;31m# Calculating portfolio values during the training period\u001b[0m\u001b[1;33m\u001b[0m\u001b[1;33m\u001b[0m\u001b[1;33m\u001b[0m\u001b[0m\n\u001b[1;32m----> 2\u001b[1;33m \u001b[0mj_portfolio_returns\u001b[0m \u001b[1;33m=\u001b[0m \u001b[1;33m(\u001b[0m\u001b[0mtrain_three_elements_returns\u001b[0m \u001b[1;33m*\u001b[0m \u001b[0mj_scaled_vectors\u001b[0m \u001b[1;33m*\u001b[0m \u001b[0mweights\u001b[0m\u001b[1;33m)\u001b[0m\u001b[1;33m.\u001b[0m\u001b[0msum\u001b[0m\u001b[1;33m(\u001b[0m\u001b[0maxis\u001b[0m\u001b[1;33m=\u001b[0m\u001b[1;36m1\u001b[0m\u001b[1;33m)\u001b[0m\u001b[1;33m\u001b[0m\u001b[1;33m\u001b[0m\u001b[0m\n\u001b[0m\u001b[0;32m      3\u001b[0m \u001b[0mj_portfolio_price\u001b[0m \u001b[1;33m=\u001b[0m \u001b[1;33m(\u001b[0m\u001b[0mj_portfolio_returns\u001b[0m \u001b[1;33m+\u001b[0m \u001b[1;36m1\u001b[0m\u001b[1;33m)\u001b[0m\u001b[1;33m.\u001b[0m\u001b[0mcumprod\u001b[0m\u001b[1;33m(\u001b[0m\u001b[1;33m)\u001b[0m\u001b[1;33m\u001b[0m\u001b[1;33m\u001b[0m\u001b[0m\n",
      "\u001b[1;31mNameError\u001b[0m: name 'train_three_elements_returns' is not defined"
     ]
    }
   ],
   "source": [
    "# Calculating portfolio values during the training period\n",
    "j_portfolio_returns = (train_three_elements_returns * j_scaled_vectors * weights).sum(axis=1)\n",
    "j_portfolio_price = (j_portfolio_returns + 1).cumprod()"
   ]
  },
  {
   "cell_type": "code",
   "execution_count": null,
   "metadata": {},
   "outputs": [],
   "source": [
    "# Plotting Johansen portfolio price\n",
    "j_portfolio_price.plot(title='Johansen portfolio price', figsize=(10,5));"
   ]
  },
  {
   "cell_type": "markdown",
   "metadata": {},
   "source": [
    "Another way to construct portfolios is by using the construct_mean_reverting_portfolio function from the JohansenPortfolio or the EngleGrangerPortfolio class. This portfolio is created by summing up price series with given coefficients."
   ]
  },
  {
   "cell_type": "code",
   "execution_count": 19,
   "metadata": {},
   "outputs": [
    {
     "data": {
      "image/png": "[encoded data removed]",
      "text/plain": [
       "<Figure size 720x360 with 1 Axes>"
      ]
     },
     "metadata": {
      "needs_background": "light"
     },
     "output_type": "display_data"
    }
   ],
   "source": [
    "# Alternative way to construct portfolios\n",
    "alternative_j_portfolio_price = j_portfolio.construct_mean_reverting_portfolio(train_three_elements, j_cointegration_vectors.loc[0])\n",
    "\n",
    "# Plotting the portfolio price\n",
    "alternative_j_portfolio_price.plot(title='Alternative Johansen portfolio price', figsize=(10,5));"
   ]
  },
  {
   "cell_type": "code",
   "execution_count": null,
   "metadata": {},
   "outputs": [],
   "source": []
  },
  {
   "cell_type": "code",
   "execution_count": 20,
   "metadata": {},
   "outputs": [
    {
     "data": {
      "image/png": "[encoded data removed]",
      "text/plain": [
       "<Figure size 432x288 with 1 Axes>"
      ]
     },
     "metadata": {
      "needs_background": "light"
     },
     "output_type": "display_data"
    }
   ],
   "source": [
    "import numpy as np\n",
    "import statsmodels.api as sm\n",
    "import pylab as py\n",
    "  \n",
    "# np.random generates different random numbers\n",
    "# whenever the code is executed\n",
    "# Note: When you execute the same code \n",
    "# the graph look different than shown below.\n",
    "  \n",
    "# Random data points generated\n",
    "data_points = np.random.normal(0, 1, 100)    \n",
    "  \n",
    "sm.qqplot(data_points, line ='45')\n",
    "py.show()"
   ]
  },
  {
   "cell_type": "code",
   "execution_count": 36,
   "metadata": {
    "collapsed": true,
    "jupyter": {
     "outputs_hidden": true
    }
   },
   "outputs": [
    {
     "data": {
      "text/plain": [
       "\u001b[1;31mSignature:\u001b[0m\n",
       " \u001b[0mstats\u001b[0m\u001b[1;33m.\u001b[0m\u001b[0mprobplot\u001b[0m\u001b[1;33m(\u001b[0m\u001b[1;33m\n",
       "\u001b[0m    \u001b[0mx\u001b[0m\u001b[1;33m,\u001b[0m\u001b[1;33m\n",
       "\u001b[0m    \u001b[0msparams\u001b[0m\u001b[1;33m=\u001b[0m\u001b[1;33m(\u001b[0m\u001b[1;33m)\u001b[0m\u001b[1;33m,\u001b[0m\u001b[1;33m\n",
       "\u001b[0m    \u001b[0mdist\u001b[0m\u001b[1;33m=\u001b[0m\u001b[1;34m'norm'\u001b[0m\u001b[1;33m,\u001b[0m\u001b[1;33m\n",
       "\u001b[0m    \u001b[0mfit\u001b[0m\u001b[1;33m=\u001b[0m\u001b[1;32mTrue\u001b[0m\u001b[1;33m,\u001b[0m\u001b[1;33m\n",
       "\u001b[0m    \u001b[0mplot\u001b[0m\u001b[1;33m=\u001b[0m\u001b[1;32mNone\u001b[0m\u001b[1;33m,\u001b[0m\u001b[1;33m\n",
       "\u001b[0m    \u001b[0mrvalue\u001b[0m\u001b[1;33m=\u001b[0m\u001b[1;32mFalse\u001b[0m\u001b[1;33m,\u001b[0m\u001b[1;33m\n",
       "\u001b[0m\u001b[1;33m)\u001b[0m\u001b[1;33m\u001b[0m\u001b[1;33m\u001b[0m\u001b[0m\n",
       "\u001b[1;31mDocstring:\u001b[0m\n",
       "Calculate quantiles for a probability plot, and optionally show the plot.\n",
       "\n",
       "Generates a probability plot of sample data against the quantiles of a\n",
       "specified theoretical distribution (the normal distribution by default).\n",
       "`probplot` optionally calculates a best-fit line for the data and plots the\n",
       "results using Matplotlib or a given plot function.\n",
       "\n",
       "Parameters\n",
       "----------\n",
       "x : array_like\n",
       "    Sample/response data from which `probplot` creates the plot.\n",
       "sparams : tuple, optional\n",
       "    Distribution-specific shape parameters (shape parameters plus location\n",
       "    and scale).\n",
       "dist : str or stats.distributions instance, optional\n",
       "    Distribution or distribution function name. The default is 'norm' for a\n",
       "    normal probability plot.  Objects that look enough like a\n",
       "    stats.distributions instance (i.e. they have a ``ppf`` method) are also\n",
       "    accepted.\n",
       "fit : bool, optional\n",
       "    Fit a least-squares regression (best-fit) line to the sample data if\n",
       "    True (default).\n",
       "plot : object, optional\n",
       "    If given, plots the quantiles and least squares fit.\n",
       "    `plot` is an object that has to have methods \"plot\" and \"text\".\n",
       "    The `matplotlib.pyplot` module or a Matplotlib Axes object can be used,\n",
       "    or a custom object with the same methods.\n",
       "    Default is None, which means that no plot is created.\n",
       "\n",
       "Returns\n",
       "-------\n",
       "(osm, osr) : tuple of ndarrays\n",
       "    Tuple of theoretical quantiles (osm, or order statistic medians) and\n",
       "    ordered responses (osr).  `osr` is simply sorted input `x`.\n",
       "    For details on how `osm` is calculated see the Notes section.\n",
       "(slope, intercept, r) : tuple of floats, optional\n",
       "    Tuple  containing the result of the least-squares fit, if that is\n",
       "    performed by `probplot`. `r` is the square root of the coefficient of\n",
       "    determination.  If ``fit=False`` and ``plot=None``, this tuple is not\n",
       "    returned.\n",
       "\n",
       "Notes\n",
       "-----\n",
       "Even if `plot` is given, the figure is not shown or saved by `probplot`;\n",
       "``plt.show()`` or ``plt.savefig('figname.png')`` should be used after\n",
       "calling `probplot`.\n",
       "\n",
       "`probplot` generates a probability plot, which should not be confused with\n",
       "a Q-Q or a P-P plot.  Statsmodels has more extensive functionality of this\n",
       "type, see ``statsmodels.api.ProbPlot``.\n",
       "\n",
       "The formula used for the theoretical quantiles (horizontal axis of the\n",
       "probability plot) is Filliben's estimate::\n",
       "\n",
       "    quantiles = dist.ppf(val), for\n",
       "\n",
       "            0.5**(1/n),                  for i = n\n",
       "      val = (i - 0.3175) / (n + 0.365),  for i = 2, ..., n-1\n",
       "            1 - 0.5**(1/n),              for i = 1\n",
       "\n",
       "where ``i`` indicates the i-th ordered value and ``n`` is the total number\n",
       "of values.\n",
       "\n",
       "Examples\n",
       "--------\n",
       ">>> from scipy import stats\n",
       ">>> import matplotlib.pyplot as plt\n",
       ">>> nsample = 100\n",
       ">>> np.random.seed(7654321)\n",
       "\n",
       "A t distribution with small degrees of freedom:\n",
       "\n",
       ">>> ax1 = plt.subplot(221)\n",
       ">>> x = stats.t.rvs(3, size=nsample)\n",
       ">>> res = stats.probplot(x, plot=plt)\n",
       "\n",
       "A t distribution with larger degrees of freedom:\n",
       "\n",
       ">>> ax2 = plt.subplot(222)\n",
       ">>> x = stats.t.rvs(25, size=nsample)\n",
       ">>> res = stats.probplot(x, plot=plt)\n",
       "\n",
       "A mixture of two normal distributions with broadcasting:\n",
       "\n",
       ">>> ax3 = plt.subplot(223)\n",
       ">>> x = stats.norm.rvs(loc=[0,5], scale=[1,1.5],\n",
       "...                    size=(nsample//2,2)).ravel()\n",
       ">>> res = stats.probplot(x, plot=plt)\n",
       "\n",
       "A standard normal distribution:\n",
       "\n",
       ">>> ax4 = plt.subplot(224)\n",
       ">>> x = stats.norm.rvs(loc=0, scale=1, size=nsample)\n",
       ">>> res = stats.probplot(x, plot=plt)\n",
       "\n",
       "Produce a new figure with a loggamma distribution, using the ``dist`` and\n",
       "``sparams`` keywords:\n",
       "\n",
       ">>> fig = plt.figure()\n",
       ">>> ax = fig.add_subplot(111)\n",
       ">>> x = stats.loggamma.rvs(c=2.5, size=500)\n",
       ">>> res = stats.probplot(x, dist=stats.loggamma, sparams=(2.5,), plot=ax)\n",
       ">>> ax.set_title(\"Probplot for loggamma dist with shape parameter 2.5\")\n",
       "\n",
       "Show the results with Matplotlib:\n",
       "\n",
       ">>> plt.show()\n",
       "\u001b[1;31mFile:\u001b[0m      d:\\programs\\anaconda\\envs\\arbitragelab\\lib\\site-packages\\scipy\\stats\\morestats.py\n",
       "\u001b[1;31mType:\u001b[0m      function\n"
      ]
     },
     "metadata": {},
     "output_type": "display_data"
    }
   ],
   "source": [
    "? stats.probplot"
   ]
  },
  {
   "cell_type": "markdown",
   "metadata": {},
   "source": [
    "# DATA ARBITRAGELAB"
   ]
  },
  {
   "cell_type": "code",
   "execution_count": null,
   "metadata": {},
   "outputs": [],
   "source": []
  },
  {
   "cell_type": "markdown",
   "metadata": {},
   "source": [
    "Imports"
   ]
  },
  {
   "cell_type": "code",
   "execution_count": 372,
   "metadata": {},
   "outputs": [],
   "source": [
    "import arbitragelab as al\n",
    "import yfinance as yf\n",
    "import pandas as pd\n",
    "import numpy as np\n",
    "from scipy import stats\n",
    "from scipy.stats import kurtosis, skew, shapiro\n",
    "from arbitragelab.cointegration_approach import get_half_life_of_mean_reversion\n",
    "from statsmodels.tsa.stattools import pacf, adfuller, acf"
   ]
  },
  {
   "cell_type": "markdown",
   "metadata": {},
   "source": [
    "Data raw"
   ]
  },
  {
   "cell_type": "code",
   "execution_count": 23,
   "metadata": {},
   "outputs": [
    {
     "name": "stdout",
     "output_type": "stream",
     "text": [
      "[*********************100%***********************]  2 of 2 completed\n",
      "[*********************100%***********************]  2 of 2 completed\n"
     ]
    }
   ],
   "source": [
    "# Loading data\n",
    "train_data =  yf.download(\"GLD GDXJ\", start=\"2016-01-01\", end=\"2018-01-01\")\n",
    "test_data =  yf.download(\"GLD GDXJ\", start=\"2018-01-02\", end=\"2020-01-01\")\n",
    "\n",
    "# Taking close prices for chosen instruments\n",
    "train_three_elements = train_data[\"Adj Close\"][[\"GLD\", \"GDXJ\"]]\n",
    "\n",
    "test_three_elements = test_data[\"Adj Close\"][[\"GLD\", \"GDXJ\"]]"
   ]
  },
  {
   "cell_type": "code",
   "execution_count": 24,
   "metadata": {},
   "outputs": [],
   "source": [
    "def adf_test(timeseries):\n",
    "    print ('Results of Dickey-Fuller Test:')\n",
    "    dftest = adfuller(timeseries, autolag='AIC')\n",
    "    dfoutput = pd.Series(dftest[0:4], index=['Test Statistic','p-value','#Lags Used','Number of Observations Used'])\n",
    "    for key,value in dftest[4].items():\n",
    "       dfoutput['Critical Value (%s)'%key] = value\n",
    "    print (dfoutput)\n",
    "    return (dftest)"
   ]
  },
  {
   "cell_type": "markdown",
   "metadata": {},
   "source": [
    "ADF test\n"
   ]
  },
  {
   "cell_type": "markdown",
   "metadata": {},
   "source": [
    " test statistic is less (more negative) than the critical value"
   ]
  },
  {
   "cell_type": "code",
   "execution_count": 25,
   "metadata": {},
   "outputs": [],
   "source": [
    "first_adf = adfuller(train_three_elements['GLD'], autolag='AIC')\n",
    "\n",
    "second_adf = adfuller(train_three_elements['GDXJ'], autolag='AIC')"
   ]
  },
  {
   "cell_type": "code",
   "execution_count": 320,
   "metadata": {},
   "outputs": [
    {
     "data": {
      "text/plain": [
       "[-3.4435228622952065, -2.867349510566146, -2.569864247011056]"
      ]
     },
     "execution_count": 320,
     "metadata": {},
     "output_type": "execute_result"
    }
   ],
   "source": [
    "list(adfuller(train_three_elements['GLD'])[4].values())"
   ]
  },
  {
   "cell_type": "code",
   "execution_count": 324,
   "metadata": {},
   "outputs": [],
   "source": [
    "ass_n=train_three_elements.columns[0]"
   ]
  },
  {
   "cell_type": "code",
   "execution_count": 331,
   "metadata": {},
   "outputs": [
    {
     "data": {
      "text/plain": [
       "Index(['GLD'], dtype='object')"
      ]
     },
     "execution_count": 331,
     "metadata": {},
     "output_type": "execute_result"
    }
   ],
   "source": [
    "a = pd.DataFrame(data=train_three_elements[ass_n])\n",
    "a.columns"
   ]
  },
  {
   "cell_type": "code",
   "execution_count": 332,
   "metadata": {},
   "outputs": [
    {
     "data": {
      "text/html": [
       "<div>\n",
       "<style scoped>\n",
       "    .dataframe tbody tr th:only-of-type {\n",
       "        vertical-align: middle;\n",
       "    }\n",
       "\n",
       "    .dataframe tbody tr th {\n",
       "        vertical-align: top;\n",
       "    }\n",
       "\n",
       "    .dataframe thead th {\n",
       "        text-align: right;\n",
       "    }\n",
       "</style>\n",
       "<table border=\"1\" class=\"dataframe\">\n",
       "  <thead>\n",
       "    <tr style=\"text-align: right;\">\n",
       "      <th></th>\n",
       "      <th>Confidence level</th>\n",
       "      <th>Value</th>\n",
       "    </tr>\n",
       "  </thead>\n",
       "  <tbody>\n",
       "    <tr>\n",
       "      <th>0</th>\n",
       "      <td>99%</td>\n",
       "      <td>-3.44352</td>\n",
       "    </tr>\n",
       "    <tr>\n",
       "      <th>1</th>\n",
       "      <td>95%</td>\n",
       "      <td>-2.86735</td>\n",
       "    </tr>\n",
       "    <tr>\n",
       "      <th>2</th>\n",
       "      <td>90%</td>\n",
       "      <td>-2.56986</td>\n",
       "    </tr>\n",
       "  </tbody>\n",
       "</table>\n",
       "</div>"
      ],
      "text/plain": [
       "  Confidence level    Value\n",
       "0              99% -3.44352\n",
       "1              95% -2.86735\n",
       "2              90% -2.56986"
      ]
     },
     "execution_count": 332,
     "metadata": {},
     "output_type": "execute_result"
    }
   ],
   "source": [
    "adf"
   ]
  },
  {
   "cell_type": "code",
   "execution_count": 27,
   "metadata": {},
   "outputs": [
    {
     "data": {
      "text/plain": [
       "[-3.4435228622952065, -2.867349510566146, -2.569864247011056]"
      ]
     },
     "execution_count": 27,
     "metadata": {},
     "output_type": "execute_result"
    }
   ],
   "source": [
    "list(first_adf[4].values())"
   ]
  },
  {
   "cell_type": "code",
   "execution_count": 28,
   "metadata": {},
   "outputs": [
    {
     "name": "stdout",
     "output_type": "stream",
     "text": [
      "Results of Dickey-Fuller Test:\n",
      "Test Statistic                  -2.607372\n",
      "p-value                          0.091483\n",
      "#Lags Used                       4.000000\n",
      "Number of Observations Used    499.000000\n",
      "Critical Value (1%)             -3.443523\n",
      "Critical Value (5%)             -2.867350\n",
      "Critical Value (10%)            -2.569864\n",
      "dtype: float64\n"
     ]
    },
    {
     "data": {
      "text/plain": [
       "(-2.6073716854664704,\n",
       " 0.09148324139788433,\n",
       " 4,\n",
       " 499,\n",
       " {'1%': -3.4435228622952065,\n",
       "  '5%': -2.867349510566146,\n",
       "  '10%': -2.569864247011056},\n",
       " 1410.0891848889364)"
      ]
     },
     "execution_count": 28,
     "metadata": {},
     "output_type": "execute_result"
    }
   ],
   "source": [
    "adf_test(train_three_elements['GDXJ'])"
   ]
  },
  {
   "cell_type": "code",
   "execution_count": 352,
   "metadata": {},
   "outputs": [
    {
     "data": {
      "text/html": [
       "<div>\n",
       "<style scoped>\n",
       "    .dataframe tbody tr th:only-of-type {\n",
       "        vertical-align: middle;\n",
       "    }\n",
       "\n",
       "    .dataframe tbody tr th {\n",
       "        vertical-align: top;\n",
       "    }\n",
       "\n",
       "    .dataframe thead th {\n",
       "        text-align: right;\n",
       "    }\n",
       "</style>\n",
       "<table border=\"1\" class=\"dataframe\">\n",
       "  <thead>\n",
       "    <tr style=\"text-align: right;\">\n",
       "      <th></th>\n",
       "      <th>GLD</th>\n",
       "      <th>GDXJ</th>\n",
       "    </tr>\n",
       "    <tr>\n",
       "      <th>Date</th>\n",
       "      <th></th>\n",
       "      <th></th>\n",
       "    </tr>\n",
       "  </thead>\n",
       "  <tbody>\n",
       "    <tr>\n",
       "      <th>2015-12-31</th>\n",
       "      <td>101.459999</td>\n",
       "      <td>17.784159</td>\n",
       "    </tr>\n",
       "    <tr>\n",
       "      <th>2016-01-04</th>\n",
       "      <td>102.889999</td>\n",
       "      <td>18.330364</td>\n",
       "    </tr>\n",
       "    <tr>\n",
       "      <th>2016-01-05</th>\n",
       "      <td>103.180000</td>\n",
       "      <td>18.367397</td>\n",
       "    </tr>\n",
       "    <tr>\n",
       "      <th>2016-01-06</th>\n",
       "      <td>104.669998</td>\n",
       "      <td>18.682161</td>\n",
       "    </tr>\n",
       "    <tr>\n",
       "      <th>2016-01-07</th>\n",
       "      <td>106.150002</td>\n",
       "      <td>19.117277</td>\n",
       "    </tr>\n",
       "    <tr>\n",
       "      <th>...</th>\n",
       "      <td>...</td>\n",
       "      <td>...</td>\n",
       "    </tr>\n",
       "    <tr>\n",
       "      <th>2017-12-22</th>\n",
       "      <td>120.940002</td>\n",
       "      <td>32.702591</td>\n",
       "    </tr>\n",
       "    <tr>\n",
       "      <th>2017-12-26</th>\n",
       "      <td>121.769997</td>\n",
       "      <td>33.453594</td>\n",
       "    </tr>\n",
       "    <tr>\n",
       "      <th>2017-12-27</th>\n",
       "      <td>122.230003</td>\n",
       "      <td>33.414581</td>\n",
       "    </tr>\n",
       "    <tr>\n",
       "      <th>2017-12-28</th>\n",
       "      <td>122.849998</td>\n",
       "      <td>33.404827</td>\n",
       "    </tr>\n",
       "    <tr>\n",
       "      <th>2017-12-29</th>\n",
       "      <td>123.650002</td>\n",
       "      <td>33.287788</td>\n",
       "    </tr>\n",
       "  </tbody>\n",
       "</table>\n",
       "<p>504 rows × 2 columns</p>\n",
       "</div>"
      ],
      "text/plain": [
       "                   GLD       GDXJ\n",
       "Date                             \n",
       "2015-12-31  101.459999  17.784159\n",
       "2016-01-04  102.889999  18.330364\n",
       "2016-01-05  103.180000  18.367397\n",
       "2016-01-06  104.669998  18.682161\n",
       "2016-01-07  106.150002  19.117277\n",
       "...                ...        ...\n",
       "2017-12-22  120.940002  32.702591\n",
       "2017-12-26  121.769997  33.453594\n",
       "2017-12-27  122.230003  33.414581\n",
       "2017-12-28  122.849998  33.404827\n",
       "2017-12-29  123.650002  33.287788\n",
       "\n",
       "[504 rows x 2 columns]"
      ]
     },
     "execution_count": 352,
     "metadata": {},
     "output_type": "execute_result"
    }
   ],
   "source": [
    "train_three_elements"
   ]
  },
  {
   "cell_type": "markdown",
   "metadata": {},
   "source": [
    "### **Data on Coint-related data**"
   ]
  },
  {
   "cell_type": "markdown",
   "metadata": {},
   "source": [
    "Engle-Granger"
   ]
  },
  {
   "cell_type": "code",
   "execution_count": 354,
   "metadata": {},
   "outputs": [],
   "source": [
    "# Initialising an object containing needed methods\n",
    "eg_portfolio = al.cointegration_approach.EngleGrangerPortfolio()\n",
    "\n",
    "# Fitting the data on a dataset of three elements with constant term\n",
    "eg_portfolio.fit(train_three_elements, add_constant=False)\n",
    "\n",
    "# Getting results of the Engle-Granger test\n",
    "eg_adf_statistics = eg_portfolio.adf_statistics\n",
    "eg_cointegration_vectors = eg_portfolio.cointegration_vectors"
   ]
  },
  {
   "cell_type": "code",
   "execution_count": 355,
   "metadata": {},
   "outputs": [
    {
     "data": {
      "text/html": [
       "<div>\n",
       "<style scoped>\n",
       "    .dataframe tbody tr th:only-of-type {\n",
       "        vertical-align: middle;\n",
       "    }\n",
       "\n",
       "    .dataframe tbody tr th {\n",
       "        vertical-align: top;\n",
       "    }\n",
       "\n",
       "    .dataframe thead th {\n",
       "        text-align: right;\n",
       "    }\n",
       "</style>\n",
       "<table border=\"1\" class=\"dataframe\">\n",
       "  <thead>\n",
       "    <tr style=\"text-align: right;\">\n",
       "      <th></th>\n",
       "      <th>GLD</th>\n",
       "      <th>GDXJ</th>\n",
       "    </tr>\n",
       "  </thead>\n",
       "  <tbody>\n",
       "    <tr>\n",
       "      <th>0</th>\n",
       "      <td>1.0</td>\n",
       "      <td>-3.481752</td>\n",
       "    </tr>\n",
       "  </tbody>\n",
       "</table>\n",
       "</div>"
      ],
      "text/plain": [
       "   GLD      GDXJ\n",
       "0  1.0 -3.481752"
      ]
     },
     "execution_count": 355,
     "metadata": {},
     "output_type": "execute_result"
    }
   ],
   "source": [
    "eg_cointegration_vectors"
   ]
  },
  {
   "cell_type": "code",
   "execution_count": 300,
   "metadata": {},
   "outputs": [
    {
     "data": {
      "text/html": [
       "<div>\n",
       "<style scoped>\n",
       "    .dataframe tbody tr th:only-of-type {\n",
       "        vertical-align: middle;\n",
       "    }\n",
       "\n",
       "    .dataframe tbody tr th {\n",
       "        vertical-align: top;\n",
       "    }\n",
       "\n",
       "    .dataframe thead th {\n",
       "        text-align: right;\n",
       "    }\n",
       "</style>\n",
       "<table border=\"1\" class=\"dataframe\">\n",
       "  <thead>\n",
       "    <tr style=\"text-align: right;\">\n",
       "      <th></th>\n",
       "      <th>0</th>\n",
       "    </tr>\n",
       "  </thead>\n",
       "  <tbody>\n",
       "    <tr>\n",
       "      <th>99%</th>\n",
       "      <td>-3.443523</td>\n",
       "    </tr>\n",
       "    <tr>\n",
       "      <th>95%</th>\n",
       "      <td>-2.867350</td>\n",
       "    </tr>\n",
       "    <tr>\n",
       "      <th>90%</th>\n",
       "      <td>-2.569864</td>\n",
       "    </tr>\n",
       "    <tr>\n",
       "      <th>statistic_value</th>\n",
       "      <td>-2.442489</td>\n",
       "    </tr>\n",
       "  </tbody>\n",
       "</table>\n",
       "</div>"
      ],
      "text/plain": [
       "                        0\n",
       "99%             -3.443523\n",
       "95%             -2.867350\n",
       "90%             -2.569864\n",
       "statistic_value -2.442489"
      ]
     },
     "execution_count": 300,
     "metadata": {},
     "output_type": "execute_result"
    }
   ],
   "source": [
    "eg_adf_statistics"
   ]
  },
  {
   "cell_type": "code",
   "execution_count": 339,
   "metadata": {},
   "outputs": [],
   "source": [
    "adf = {'Confidence level':['99%', '95%', '90%']}\n",
    "\n",
    "# adf['Value'] = eg_adf_statistics[:-1].reset_index()[0].astype(float).round(5)"
   ]
  },
  {
   "cell_type": "code",
   "execution_count": 361,
   "metadata": {},
   "outputs": [
    {
     "data": {
      "text/plain": [
       "[-3.4435, -2.86734, -2.56986]"
      ]
     },
     "execution_count": 361,
     "metadata": {},
     "output_type": "execute_result"
    }
   ],
   "source": [
    "list(eg_adf_statistics[:-1][0].round(5))"
   ]
  },
  {
   "cell_type": "code",
   "execution_count": 362,
   "metadata": {},
   "outputs": [
    {
     "data": {
      "text/plain": [
       "-2.2888656100651565"
      ]
     },
     "execution_count": 362,
     "metadata": {},
     "output_type": "execute_result"
    }
   ],
   "source": [
    "eg_adf_statistics[' '] = eg_adf_statistics.index\n",
    "\n",
    "eg_adf = eg_adf_statistics[:-1]\n",
    "\n",
    "test_stat = eg_adf_statistics.loc['statistic_value'][0]\n",
    "test_stat \n",
    "\n"
   ]
  },
  {
   "cell_type": "code",
   "execution_count": 89,
   "metadata": {},
   "outputs": [
    {
     "data": {
      "text/plain": [
       "-1.7004577107383319"
      ]
     },
     "execution_count": 89,
     "metadata": {},
     "output_type": "execute_result"
    }
   ],
   "source": [
    "eg_adf_statistics_2[' '] = eg_adf_statistics_2.index\n",
    "\n",
    "eg_adf_2 = eg_adf_statistics_2[:-1]\n",
    "\n",
    "eg_adf_2\n",
    "test_stat_2 = eg_adf_statistics_2.loc['statistic_value'][0]\n",
    "test_stat_2 "
   ]
  },
  {
   "cell_type": "code",
   "execution_count": 90,
   "metadata": {},
   "outputs": [
    {
     "data": {
      "text/plain": [
       "[-3.44352, -2.86735, -2.56986, -2.442488670394889]"
      ]
     },
     "execution_count": 90,
     "metadata": {},
     "output_type": "execute_result"
    }
   ],
   "source": [
    "# Looking at the statistic from the last step of the Engle-Granger test\n",
    "list(eg_adf_statistics[0])"
   ]
  },
  {
   "cell_type": "code",
   "execution_count": 91,
   "metadata": {},
   "outputs": [
    {
     "data": {
      "text/html": [
       "<div>\n",
       "<style scoped>\n",
       "    .dataframe tbody tr th:only-of-type {\n",
       "        vertical-align: middle;\n",
       "    }\n",
       "\n",
       "    .dataframe tbody tr th {\n",
       "        vertical-align: top;\n",
       "    }\n",
       "\n",
       "    .dataframe thead th {\n",
       "        text-align: right;\n",
       "    }\n",
       "</style>\n",
       "<table border=\"1\" class=\"dataframe\">\n",
       "  <thead>\n",
       "    <tr style=\"text-align: right;\">\n",
       "      <th></th>\n",
       "      <th>GLD</th>\n",
       "      <th>GDXJ</th>\n",
       "    </tr>\n",
       "  </thead>\n",
       "  <tbody>\n",
       "    <tr>\n",
       "      <th>0</th>\n",
       "      <td>1.0</td>\n",
       "      <td>-0.630068</td>\n",
       "    </tr>\n",
       "  </tbody>\n",
       "</table>\n",
       "</div>"
      ],
      "text/plain": [
       "   GLD      GDXJ\n",
       "0  1.0 -0.630068"
      ]
     },
     "execution_count": 91,
     "metadata": {},
     "output_type": "execute_result"
    }
   ],
   "source": [
    "eg_cointegration_vectors\n"
   ]
  },
  {
   "cell_type": "code",
   "execution_count": 92,
   "metadata": {},
   "outputs": [
    {
     "data": {
      "text/plain": [
       "Date\n",
       "2015-12-31   -8.234267\n",
       "2016-01-04   -7.148413\n",
       "2016-01-05   -6.881746\n",
       "2016-01-06   -5.590071\n",
       "2016-01-07   -4.384220\n",
       "                ...   \n",
       "2017-12-22    1.846107\n",
       "2017-12-26    2.202918\n",
       "2017-12-27    2.687506\n",
       "2017-12-28    3.313647\n",
       "2017-12-29    4.187392\n",
       "Name: GLD, Length: 504, dtype: float64"
      ]
     },
     "execution_count": 92,
     "metadata": {},
     "output_type": "execute_result"
    }
   ],
   "source": [
    "# Residuals\n",
    "\n",
    "res = eg_portfolio.residuals\n",
    "res"
   ]
  },
  {
   "cell_type": "code",
   "execution_count": 258,
   "metadata": {},
   "outputs": [],
   "source": [
    "# Q-Q plot data\n",
    "\n",
    "qq = stats.probplot(eg_portfolio.residuals, dist='norm', sparams=(1))\n",
    "x = np.array([qq[0][0][0], qq[0][0][-1]])"
   ]
  },
  {
   "cell_type": "code",
   "execution_count": 94,
   "metadata": {},
   "outputs": [],
   "source": [
    "# Initialising an object containing needed methods\n",
    "eg_portfolio_2 = al.cointegration_approach.EngleGrangerPortfolio()\n",
    "\n",
    "# Fitting the data on a dataset of three elements with constant term\n",
    "eg_portfolio_2.fit(train_three_elements[['GDXJ','GLD']], add_constant=True)\n",
    "\n",
    "# Getting results of the Engle-Granger test\n",
    "eg_adf_statistics_2 = eg_portfolio_2.adf_statistics\n",
    "eg_cointegration_vectors_2 = eg_portfolio_2.cointegration_vectors"
   ]
  },
  {
   "cell_type": "code",
   "execution_count": 272,
   "metadata": {},
   "outputs": [
    {
     "data": {
      "text/html": [
       "<div>\n",
       "<style scoped>\n",
       "    .dataframe tbody tr th:only-of-type {\n",
       "        vertical-align: middle;\n",
       "    }\n",
       "\n",
       "    .dataframe tbody tr th {\n",
       "        vertical-align: top;\n",
       "    }\n",
       "\n",
       "    .dataframe thead th {\n",
       "        text-align: right;\n",
       "    }\n",
       "</style>\n",
       "<table border=\"1\" class=\"dataframe\">\n",
       "  <thead>\n",
       "    <tr style=\"text-align: right;\">\n",
       "      <th></th>\n",
       "      <th>0</th>\n",
       "      <th></th>\n",
       "    </tr>\n",
       "  </thead>\n",
       "  <tbody>\n",
       "    <tr>\n",
       "      <th>99%</th>\n",
       "      <td>-3.443520</td>\n",
       "      <td>99%</td>\n",
       "    </tr>\n",
       "    <tr>\n",
       "      <th>95%</th>\n",
       "      <td>-2.867350</td>\n",
       "      <td>95%</td>\n",
       "    </tr>\n",
       "    <tr>\n",
       "      <th>90%</th>\n",
       "      <td>-2.569860</td>\n",
       "      <td>90%</td>\n",
       "    </tr>\n",
       "    <tr>\n",
       "      <th>statistic_value</th>\n",
       "      <td>-2.442489</td>\n",
       "      <td>statistic_value</td>\n",
       "    </tr>\n",
       "  </tbody>\n",
       "</table>\n",
       "</div>"
      ],
      "text/plain": [
       "                        0                 \n",
       "99%             -3.443520              99%\n",
       "95%             -2.867350              95%\n",
       "90%             -2.569860              90%\n",
       "statistic_value -2.442489  statistic_value"
      ]
     },
     "execution_count": 272,
     "metadata": {},
     "output_type": "execute_result"
    }
   ],
   "source": [
    "eg_adf_statistics"
   ]
  },
  {
   "cell_type": "code",
   "execution_count": 96,
   "metadata": {},
   "outputs": [
    {
     "data": {
      "text/plain": [
       "[-3.4434175660489905,\n",
       " -2.8673031724657454,\n",
       " -2.5698395516760275,\n",
       " -1.7004577107383319]"
      ]
     },
     "execution_count": 96,
     "metadata": {},
     "output_type": "execute_result"
    }
   ],
   "source": [
    "# Looking at the statistic from the last step of the Engle-Granger test\n",
    "list(eg_adf_statistics_2[0])"
   ]
  },
  {
   "cell_type": "code",
   "execution_count": 97,
   "metadata": {},
   "outputs": [
    {
     "data": {
      "text/html": [
       "<div>\n",
       "<style scoped>\n",
       "    .dataframe tbody tr th:only-of-type {\n",
       "        vertical-align: middle;\n",
       "    }\n",
       "\n",
       "    .dataframe tbody tr th {\n",
       "        vertical-align: top;\n",
       "    }\n",
       "\n",
       "    .dataframe thead th {\n",
       "        text-align: right;\n",
       "    }\n",
       "</style>\n",
       "<table border=\"1\" class=\"dataframe\">\n",
       "  <thead>\n",
       "    <tr style=\"text-align: right;\">\n",
       "      <th></th>\n",
       "      <th>GDXJ</th>\n",
       "      <th>GLD</th>\n",
       "    </tr>\n",
       "  </thead>\n",
       "  <tbody>\n",
       "    <tr>\n",
       "      <th>0</th>\n",
       "      <td>1.0</td>\n",
       "      <td>-0.862224</td>\n",
       "    </tr>\n",
       "  </tbody>\n",
       "</table>\n",
       "</div>"
      ],
      "text/plain": [
       "   GDXJ       GLD\n",
       "0   1.0 -0.862224"
      ]
     },
     "execution_count": 97,
     "metadata": {},
     "output_type": "execute_result"
    }
   ],
   "source": [
    "eg_cointegration_vectors_2\n"
   ]
  },
  {
   "cell_type": "code",
   "execution_count": 257,
   "metadata": {},
   "outputs": [
    {
     "data": {
      "text/plain": [
       "Date\n",
       "2015-12-31   -8.234267\n",
       "2016-01-04   -7.148413\n",
       "2016-01-05   -6.881746\n",
       "2016-01-06   -5.590071\n",
       "2016-01-07   -4.384220\n",
       "                ...   \n",
       "2017-12-22    1.846107\n",
       "2017-12-26    2.202918\n",
       "2017-12-27    2.687506\n",
       "2017-12-28    3.313647\n",
       "2017-12-29    4.187392\n",
       "Name: GLD, Length: 504, dtype: float64"
      ]
     },
     "execution_count": 257,
     "metadata": {},
     "output_type": "execute_result"
    }
   ],
   "source": [
    "# Residuals\n",
    "\n",
    "res = eg_portfolio.residuals\n",
    "res"
   ]
  },
  {
   "cell_type": "code",
   "execution_count": 99,
   "metadata": {},
   "outputs": [],
   "source": [
    "# Q-Q plot data\n",
    "\n",
    "qq_2 = stats.probplot(eg_portfolio_2.residuals, dist='norm', sparams=(1))\n",
    "x_2 = np.array([qq[0][0][0], qq[0][0][-1]])"
   ]
  },
  {
   "cell_type": "markdown",
   "metadata": {},
   "source": [
    "Johansen"
   ]
  },
  {
   "cell_type": "code",
   "execution_count": 100,
   "metadata": {},
   "outputs": [],
   "source": [
    "# Initialising an object containing needed methods\n",
    "j_portfolio = al.cointegration_approach.JohansenPortfolio()\n",
    "\n",
    "# Fitting the data on a dataset of three elements with constant term\n",
    "j_portfolio.fit(train_three_elements, det_order=0)\n",
    "\n",
    "# Getting results of the eigenvalue and trace Johansen tests\n",
    "j_eigenvalue_statistics = j_portfolio.johansen_eigen_statistic\n",
    "j_trace_statistics = j_portfolio.johansen_trace_statistic\n",
    "j_cointegration_vectors = j_portfolio.cointegration_vectors"
   ]
  },
  {
   "cell_type": "code",
   "execution_count": 101,
   "metadata": {},
   "outputs": [
    {
     "data": {
      "text/html": [
       "<div>\n",
       "<style scoped>\n",
       "    .dataframe tbody tr th:only-of-type {\n",
       "        vertical-align: middle;\n",
       "    }\n",
       "\n",
       "    .dataframe tbody tr th {\n",
       "        vertical-align: top;\n",
       "    }\n",
       "\n",
       "    .dataframe thead th {\n",
       "        text-align: right;\n",
       "    }\n",
       "</style>\n",
       "<table border=\"1\" class=\"dataframe\">\n",
       "  <thead>\n",
       "    <tr style=\"text-align: right;\">\n",
       "      <th></th>\n",
       "      <th>GLD</th>\n",
       "      <th>GDXJ</th>\n",
       "    </tr>\n",
       "  </thead>\n",
       "  <tbody>\n",
       "    <tr>\n",
       "      <th>90%</th>\n",
       "      <td>12.2971</td>\n",
       "      <td>2.705500</td>\n",
       "    </tr>\n",
       "    <tr>\n",
       "      <th>95%</th>\n",
       "      <td>14.2639</td>\n",
       "      <td>3.841500</td>\n",
       "    </tr>\n",
       "    <tr>\n",
       "      <th>99%</th>\n",
       "      <td>18.5200</td>\n",
       "      <td>6.634900</td>\n",
       "    </tr>\n",
       "    <tr>\n",
       "      <th>eigen_value</th>\n",
       "      <td>10.2804</td>\n",
       "      <td>2.873192</td>\n",
       "    </tr>\n",
       "  </tbody>\n",
       "</table>\n",
       "</div>"
      ],
      "text/plain": [
       "                 GLD      GDXJ\n",
       "90%          12.2971  2.705500\n",
       "95%          14.2639  3.841500\n",
       "99%          18.5200  6.634900\n",
       "eigen_value  10.2804  2.873192"
      ]
     },
     "execution_count": 101,
     "metadata": {},
     "output_type": "execute_result"
    }
   ],
   "source": [
    "# First, the eigenvalue statistic test\n",
    "j_eigenvalue_statistics"
   ]
  },
  {
   "cell_type": "code",
   "execution_count": 102,
   "metadata": {},
   "outputs": [
    {
     "data": {
      "text/html": [
       "<div>\n",
       "<style scoped>\n",
       "    .dataframe tbody tr th:only-of-type {\n",
       "        vertical-align: middle;\n",
       "    }\n",
       "\n",
       "    .dataframe tbody tr th {\n",
       "        vertical-align: top;\n",
       "    }\n",
       "\n",
       "    .dataframe thead th {\n",
       "        text-align: right;\n",
       "    }\n",
       "</style>\n",
       "<table border=\"1\" class=\"dataframe\">\n",
       "  <thead>\n",
       "    <tr style=\"text-align: right;\">\n",
       "      <th></th>\n",
       "      <th>GLD</th>\n",
       "      <th>GDXJ</th>\n",
       "    </tr>\n",
       "  </thead>\n",
       "  <tbody>\n",
       "    <tr>\n",
       "      <th>90%</th>\n",
       "      <td>13.429400</td>\n",
       "      <td>2.705500</td>\n",
       "    </tr>\n",
       "    <tr>\n",
       "      <th>95%</th>\n",
       "      <td>15.494300</td>\n",
       "      <td>3.841500</td>\n",
       "    </tr>\n",
       "    <tr>\n",
       "      <th>99%</th>\n",
       "      <td>19.934900</td>\n",
       "      <td>6.634900</td>\n",
       "    </tr>\n",
       "    <tr>\n",
       "      <th>trace_statistic</th>\n",
       "      <td>13.153592</td>\n",
       "      <td>2.873192</td>\n",
       "    </tr>\n",
       "  </tbody>\n",
       "</table>\n",
       "</div>"
      ],
      "text/plain": [
       "                       GLD      GDXJ\n",
       "90%              13.429400  2.705500\n",
       "95%              15.494300  3.841500\n",
       "99%              19.934900  6.634900\n",
       "trace_statistic  13.153592  2.873192"
      ]
     },
     "execution_count": 102,
     "metadata": {},
     "output_type": "execute_result"
    }
   ],
   "source": [
    "# Next, the alternative trace statistic test\n",
    "j_trace_statistics"
   ]
  },
  {
   "cell_type": "code",
   "execution_count": 103,
   "metadata": {},
   "outputs": [
    {
     "data": {
      "text/html": [
       "<div>\n",
       "<style scoped>\n",
       "    .dataframe tbody tr th:only-of-type {\n",
       "        vertical-align: middle;\n",
       "    }\n",
       "\n",
       "    .dataframe tbody tr th {\n",
       "        vertical-align: top;\n",
       "    }\n",
       "\n",
       "    .dataframe thead th {\n",
       "        text-align: right;\n",
       "    }\n",
       "</style>\n",
       "<table border=\"1\" class=\"dataframe\">\n",
       "  <thead>\n",
       "    <tr style=\"text-align: right;\">\n",
       "      <th></th>\n",
       "      <th>GLD</th>\n",
       "      <th>GDXJ</th>\n",
       "    </tr>\n",
       "  </thead>\n",
       "  <tbody>\n",
       "    <tr>\n",
       "      <th>0</th>\n",
       "      <td>0.184139</td>\n",
       "      <td>0.003739</td>\n",
       "    </tr>\n",
       "    <tr>\n",
       "      <th>1</th>\n",
       "      <td>-0.206006</td>\n",
       "      <td>0.235060</td>\n",
       "    </tr>\n",
       "  </tbody>\n",
       "</table>\n",
       "</div>"
      ],
      "text/plain": [
       "        GLD      GDXJ\n",
       "0  0.184139  0.003739\n",
       "1 -0.206006  0.235060"
      ]
     },
     "execution_count": 103,
     "metadata": {},
     "output_type": "execute_result"
    }
   ],
   "source": [
    "# Coefficients to construct a mean-reverting portfolio \n",
    "j_cointegration_vectors"
   ]
  },
  {
   "cell_type": "markdown",
   "metadata": {},
   "source": [
    "### **Portfolio creation**"
   ]
  },
  {
   "cell_type": "code",
   "execution_count": 104,
   "metadata": {},
   "outputs": [
    {
     "data": {
      "text/html": [
       "<div>\n",
       "<style scoped>\n",
       "    .dataframe tbody tr th:only-of-type {\n",
       "        vertical-align: middle;\n",
       "    }\n",
       "\n",
       "    .dataframe tbody tr th {\n",
       "        vertical-align: top;\n",
       "    }\n",
       "\n",
       "    .dataframe thead th {\n",
       "        text-align: right;\n",
       "    }\n",
       "</style>\n",
       "<table border=\"1\" class=\"dataframe\">\n",
       "  <thead>\n",
       "    <tr style=\"text-align: right;\">\n",
       "      <th></th>\n",
       "      <th>GLD</th>\n",
       "      <th>GDXJ</th>\n",
       "    </tr>\n",
       "    <tr>\n",
       "      <th>Date</th>\n",
       "      <th></th>\n",
       "      <th></th>\n",
       "    </tr>\n",
       "  </thead>\n",
       "  <tbody>\n",
       "    <tr>\n",
       "      <th>2016-01-04</th>\n",
       "      <td>0.014094</td>\n",
       "      <td>0.030713</td>\n",
       "    </tr>\n",
       "    <tr>\n",
       "      <th>2016-01-05</th>\n",
       "      <td>0.002819</td>\n",
       "      <td>0.002020</td>\n",
       "    </tr>\n",
       "    <tr>\n",
       "      <th>2016-01-06</th>\n",
       "      <td>0.014441</td>\n",
       "      <td>0.017137</td>\n",
       "    </tr>\n",
       "    <tr>\n",
       "      <th>2016-01-07</th>\n",
       "      <td>0.014140</td>\n",
       "      <td>0.023290</td>\n",
       "    </tr>\n",
       "    <tr>\n",
       "      <th>2016-01-08</th>\n",
       "      <td>-0.004428</td>\n",
       "      <td>-0.028571</td>\n",
       "    </tr>\n",
       "  </tbody>\n",
       "</table>\n",
       "</div>"
      ],
      "text/plain": [
       "                 GLD      GDXJ\n",
       "Date                          \n",
       "2016-01-04  0.014094  0.030713\n",
       "2016-01-05  0.002819  0.002020\n",
       "2016-01-06  0.014441  0.017137\n",
       "2016-01-07  0.014140  0.023290\n",
       "2016-01-08 -0.004428 -0.028571"
      ]
     },
     "execution_count": 104,
     "metadata": {},
     "output_type": "execute_result"
    }
   ],
   "source": [
    "# Calculating returns of our elements (ETFs)\n",
    "train_three_elements_returns = (train_three_elements / train_three_elements.shift(1) - 1)[1:]\n",
    "\n",
    "train_three_elements_returns.head()"
   ]
  },
  {
   "cell_type": "markdown",
   "metadata": {},
   "source": [
    "**Johasen**"
   ]
  },
  {
   "cell_type": "code",
   "execution_count": 105,
   "metadata": {},
   "outputs": [
    {
     "data": {
      "text/plain": [
       "GLD     0.184139\n",
       "GDXJ    0.003739\n",
       "Name: 0, dtype: float64"
      ]
     },
     "execution_count": 105,
     "metadata": {},
     "output_type": "execute_result"
    }
   ],
   "source": [
    "# Weights of elements for the Johansen portfolio\n",
    "j_cointegration_vectors.loc[0]"
   ]
  },
  {
   "cell_type": "code",
   "execution_count": 106,
   "metadata": {},
   "outputs": [
    {
     "data": {
      "text/plain": [
       "GLD     0.9801\n",
       "GDXJ    0.0199\n",
       "Name: 0, dtype: float64"
      ]
     },
     "execution_count": 106,
     "metadata": {},
     "output_type": "execute_result"
    }
   ],
   "source": [
    "# Scaling cointegration vectors so they sum up to 1\n",
    "j_scaled_vectors = j_cointegration_vectors.loc[0] / abs(j_cointegration_vectors.loc[0]).sum()\n",
    "\n",
    "j_scaled_vectors"
   ]
  },
  {
   "cell_type": "code",
   "execution_count": 107,
   "metadata": {},
   "outputs": [],
   "source": [
    "# Also adding weights to take initial prices of our ETFs into account\n",
    "weights  = train_three_elements.iloc[0] / abs(train_three_elements.iloc[0]).sum()"
   ]
  },
  {
   "cell_type": "code",
   "execution_count": 108,
   "metadata": {},
   "outputs": [],
   "source": [
    "# Also adding weights to take initial prices of our ETFs into account\n",
    "weights_2  = train_three_elements[['GDXJ','GLD']].iloc[0] / abs(train_three_elements[['GDXJ','GLD']].iloc[0]).sum()"
   ]
  },
  {
   "cell_type": "code",
   "execution_count": 109,
   "metadata": {},
   "outputs": [],
   "source": [
    "# Calculating portfolio values during the training period\n",
    "j_portfolio_returns = (train_three_elements_returns * j_scaled_vectors * weights).sum(axis=1)\n",
    "j_portfolio_price = (j_portfolio_returns + 1).cumprod()"
   ]
  },
  {
   "cell_type": "code",
   "execution_count": 110,
   "metadata": {},
   "outputs": [
    {
     "data": {
      "image/png": "[encoded data removed]",
      "text/plain": [
       "<Figure size 720x360 with 1 Axes>"
      ]
     },
     "metadata": {
      "needs_background": "light"
     },
     "output_type": "display_data"
    }
   ],
   "source": [
    "# Plotting Johansen portfolio price\n",
    "j_portfolio_price.plot(title='Johansen portfolio price', figsize=(10,5));"
   ]
  },
  {
   "cell_type": "markdown",
   "metadata": {},
   "source": [
    "**Engle-Granger**"
   ]
  },
  {
   "cell_type": "code",
   "execution_count": 111,
   "metadata": {},
   "outputs": [
    {
     "data": {
      "text/plain": [
       "GLD     1.000000\n",
       "GDXJ   -0.630068\n",
       "Name: 0, dtype: float64"
      ]
     },
     "execution_count": 111,
     "metadata": {},
     "output_type": "execute_result"
    }
   ],
   "source": [
    "# Weights of elements for the Engle-Granger portfolio\n",
    "eg_cointegration_vectors.loc[0]"
   ]
  },
  {
   "cell_type": "code",
   "execution_count": 112,
   "metadata": {},
   "outputs": [
    {
     "data": {
      "text/plain": [
       "GLD     0.613471\n",
       "GDXJ   -0.386529\n",
       "Name: 0, dtype: float64"
      ]
     },
     "execution_count": 112,
     "metadata": {},
     "output_type": "execute_result"
    }
   ],
   "source": [
    "# Scaling weights so they sum up to 1\n",
    "eg_scaled_vectors = eg_cointegration_vectors.loc[0] / abs(eg_cointegration_vectors.loc[0]).sum()\n",
    "\n",
    "eg_scaled_vectors"
   ]
  },
  {
   "cell_type": "code",
   "execution_count": 113,
   "metadata": {},
   "outputs": [],
   "source": [
    "# Calculating portfolio values during the training period\n",
    "eg_portfolio_returns = (train_three_elements_returns * eg_scaled_vectors * weights).sum(axis=1)\n",
    "eg_portfolio_price = (eg_portfolio_returns + 1).cumprod()"
   ]
  },
  {
   "cell_type": "code",
   "execution_count": 114,
   "metadata": {},
   "outputs": [
    {
     "data": {
      "image/png": "[encoded data removed]",
      "text/plain": [
       "<Figure size 720x360 with 1 Axes>"
      ]
     },
     "metadata": {
      "needs_background": "light"
     },
     "output_type": "display_data"
    }
   ],
   "source": [
    "# Plotting Engle-Granger portfolio price\n",
    "eg_portfolio_price.plot(title='Engle-Granger portfolio price', figsize=(10,5));"
   ]
  },
  {
   "cell_type": "code",
   "execution_count": 115,
   "metadata": {},
   "outputs": [
    {
     "data": {
      "text/plain": [
       "GDXJ    1.000000\n",
       "GLD    -0.862224\n",
       "Name: 0, dtype: float64"
      ]
     },
     "execution_count": 115,
     "metadata": {},
     "output_type": "execute_result"
    }
   ],
   "source": [
    "# Weights of elements for the Engle-Granger portfolio\n",
    "eg_cointegration_vectors_2.loc[0]"
   ]
  },
  {
   "cell_type": "code",
   "execution_count": 116,
   "metadata": {},
   "outputs": [
    {
     "data": {
      "text/plain": [
       "GDXJ    0.536992\n",
       "GLD    -0.463008\n",
       "Name: 0, dtype: float64"
      ]
     },
     "execution_count": 116,
     "metadata": {},
     "output_type": "execute_result"
    }
   ],
   "source": [
    "# Scaling weights so they sum up to 1\n",
    "eg_scaled_vectors_2 = eg_cointegration_vectors_2.loc[0] / abs(eg_cointegration_vectors_2.loc[0]).sum()\n",
    "\n",
    "eg_scaled_vectors_2"
   ]
  },
  {
   "cell_type": "code",
   "execution_count": 117,
   "metadata": {},
   "outputs": [],
   "source": [
    "# Calculating portfolio values during the training period\n",
    "eg_portfolio_returns_2 = (train_three_elements_returns[['GDXJ','GLD']] * eg_scaled_vectors_2 * weights_2).sum(axis=1)\n",
    "eg_portfolio_price_2 = (eg_portfolio_returns_2 + 1).cumprod()"
   ]
  },
  {
   "cell_type": "code",
   "execution_count": 118,
   "metadata": {},
   "outputs": [
    {
     "data": {
      "image/png": "[encoded data removed]",
      "text/plain": [
       "<Figure size 720x360 with 1 Axes>"
      ]
     },
     "metadata": {
      "needs_background": "light"
     },
     "output_type": "display_data"
    }
   ],
   "source": [
    "# Plotting Engle-Granger portfolio price\n",
    "eg_portfolio_price_2.plot(title='Engle-Granger portfolio price', figsize=(10,5));"
   ]
  },
  {
   "cell_type": "markdown",
   "metadata": {},
   "source": [
    "We can see that these portfolios perform similarly, as relative weights of elements in them are close. Let's compare them if we upscale the weights of the Johansen portfolio to match the weight of the first weight in the Engle-Granger portfolio."
   ]
  },
  {
   "cell_type": "code",
   "execution_count": 119,
   "metadata": {},
   "outputs": [
    {
     "data": {
      "text/html": [
       "<div>\n",
       "<style scoped>\n",
       "    .dataframe tbody tr th:only-of-type {\n",
       "        vertical-align: middle;\n",
       "    }\n",
       "\n",
       "    .dataframe tbody tr th {\n",
       "        vertical-align: top;\n",
       "    }\n",
       "\n",
       "    .dataframe thead th {\n",
       "        text-align: right;\n",
       "    }\n",
       "</style>\n",
       "<table border=\"1\" class=\"dataframe\">\n",
       "  <thead>\n",
       "    <tr style=\"text-align: right;\">\n",
       "      <th></th>\n",
       "      <th>Johansen weights</th>\n",
       "      <th>Engle-Granger weights</th>\n",
       "    </tr>\n",
       "  </thead>\n",
       "  <tbody>\n",
       "    <tr>\n",
       "      <th>GLD</th>\n",
       "      <td>0.452797</td>\n",
       "      <td>1.000000</td>\n",
       "    </tr>\n",
       "    <tr>\n",
       "      <th>GDXJ</th>\n",
       "      <td>0.009194</td>\n",
       "      <td>-0.630068</td>\n",
       "    </tr>\n",
       "  </tbody>\n",
       "</table>\n",
       "</div>"
      ],
      "text/plain": [
       "      Johansen weights  Engle-Granger weights\n",
       "GLD           0.452797               1.000000\n",
       "GDXJ          0.009194              -0.630068"
      ]
     },
     "execution_count": 119,
     "metadata": {},
     "output_type": "execute_result"
    }
   ],
   "source": [
    "# Scaling Johansen portfolio weights\n",
    "weights = pd.concat([j_cointegration_vectors.loc[0]*2.459,\n",
    "                     eg_cointegration_vectors.loc[0]],\n",
    "                    axis=1,\n",
    "                    keys = ['Johansen weights', 'Engle-Granger weights'])\n",
    "\n",
    "weights"
   ]
  },
  {
   "cell_type": "markdown",
   "metadata": {},
   "source": [
    "## RESIDUALS DATA"
   ]
  },
  {
   "cell_type": "markdown",
   "metadata": {},
   "source": [
    "Skewness & Kurtosis"
   ]
  },
  {
   "cell_type": "code",
   "execution_count": 262,
   "metadata": {},
   "outputs": [
    {
     "data": {
      "text/plain": [
       "(-0.7305115393889677, -0.19668952145303908)"
      ]
     },
     "execution_count": 262,
     "metadata": {},
     "output_type": "execute_result"
    }
   ],
   "source": [
    "skewn = skew(res)\n",
    "kurtos = kurtosis(res)\n",
    "\n",
    "skewn_2 = skew(res_2)\n",
    "kurtos_2 = kurtosis(res_2)\n",
    "skewn, kurtos"
   ]
  },
  {
   "cell_type": "code",
   "execution_count": 266,
   "metadata": {},
   "outputs": [],
   "source": [
    "res_df = pd.DataFrame(data={'Charachteristic': ['Standard Deviation', 'Half-life', 'Skewness', 'Kurtosis', 'Shapiro-Wilk normality test'], 'Value': [round(std,5), round(eg_res_half_life,5), round(skewn,5), round(kurtos,5), shap]})"
   ]
  },
  {
   "cell_type": "code",
   "execution_count": 267,
   "metadata": {},
   "outputs": [],
   "source": [
    "res_df_2 = pd.DataFrame(data={'Charachteristic': ['Standard Deviation', 'Half-life', 'Skewness', 'Kurtosis', 'Shapiro-Wilk normality test'], 'Value': [round(std_2,5), round(eg_res_half_life_2,5), round(skewn_2,5), round(kurtos_2,5), shap_2]})"
   ]
  },
  {
   "cell_type": "code",
   "execution_count": 268,
   "metadata": {},
   "outputs": [
    {
     "data": {
      "text/html": [
       "<div>\n",
       "<style scoped>\n",
       "    .dataframe tbody tr th:only-of-type {\n",
       "        vertical-align: middle;\n",
       "    }\n",
       "\n",
       "    .dataframe tbody tr th {\n",
       "        vertical-align: top;\n",
       "    }\n",
       "\n",
       "    .dataframe thead th {\n",
       "        text-align: right;\n",
       "    }\n",
       "</style>\n",
       "<table border=\"1\" class=\"dataframe\">\n",
       "  <thead>\n",
       "    <tr style=\"text-align: right;\">\n",
       "      <th></th>\n",
       "      <th>Charachteristic</th>\n",
       "      <th>Value</th>\n",
       "    </tr>\n",
       "  </thead>\n",
       "  <tbody>\n",
       "    <tr>\n",
       "      <th>0</th>\n",
       "      <td>Standard Deviation</td>\n",
       "      <td>3.64817</td>\n",
       "    </tr>\n",
       "    <tr>\n",
       "      <th>1</th>\n",
       "      <td>Half-life</td>\n",
       "      <td>33.4797</td>\n",
       "    </tr>\n",
       "    <tr>\n",
       "      <th>2</th>\n",
       "      <td>Skewness</td>\n",
       "      <td>-0.73051</td>\n",
       "    </tr>\n",
       "    <tr>\n",
       "      <th>3</th>\n",
       "      <td>Kurtosis</td>\n",
       "      <td>-0.19669</td>\n",
       "    </tr>\n",
       "    <tr>\n",
       "      <th>4</th>\n",
       "      <td>Shapiro-Wilk normality test</td>\n",
       "      <td>Failed</td>\n",
       "    </tr>\n",
       "  </tbody>\n",
       "</table>\n",
       "</div>"
      ],
      "text/plain": [
       "               Charachteristic    Value\n",
       "0           Standard Deviation  3.64817\n",
       "1                    Half-life  33.4797\n",
       "2                     Skewness -0.73051\n",
       "3                     Kurtosis -0.19669\n",
       "4  Shapiro-Wilk normality test   Failed"
      ]
     },
     "execution_count": 268,
     "metadata": {},
     "output_type": "execute_result"
    }
   ],
   "source": [
    "res_df\n"
   ]
  },
  {
   "cell_type": "code",
   "execution_count": 263,
   "metadata": {},
   "outputs": [],
   "source": [
    "eg_res_half_life = get_half_life_of_mean_reversion(res)\n",
    "eg_res_half_life_2 = get_half_life_of_mean_reversion(res_2)"
   ]
  },
  {
   "cell_type": "code",
   "execution_count": 264,
   "metadata": {},
   "outputs": [
    {
     "data": {
      "text/plain": [
       "0.9862629771232605"
      ]
     },
     "execution_count": 264,
     "metadata": {},
     "output_type": "execute_result"
    }
   ],
   "source": [
    "std = res.std()\n",
    "std_2 = res_2.std()\n",
    "\n",
    "stat"
   ]
  },
  {
   "cell_type": "code",
   "execution_count": 265,
   "metadata": {},
   "outputs": [],
   "source": [
    "stat, p = shapiro(res)\n",
    "alpha = 0.05\n",
    "\n",
    "p,alpha\n",
    "\n",
    "if p>alpha:\n",
    "    shap='Passed'\n",
    "else:\n",
    "    shap = 'Failed'"
   ]
  },
  {
   "cell_type": "code",
   "execution_count": 230,
   "metadata": {},
   "outputs": [],
   "source": [
    "stat_2, p_2 = shapiro(res_2)\n",
    "alpha_2 = 0.05\n",
    "\n",
    "p_2,alpha\n",
    "\n",
    "if p_2>alpha:\n",
    "    shap_2='Passed'\n",
    "else:\n",
    "    shap_2 = 'Failed'"
   ]
  },
  {
   "cell_type": "code",
   "execution_count": 373,
   "metadata": {},
   "outputs": [
    {
     "name": "stderr",
     "output_type": "stream",
     "text": [
      "D:\\programs\\Anaconda\\envs\\arbitragelab\\lib\\site-packages\\statsmodels\\tsa\\stattools.py:667: FutureWarning:\n",
      "\n",
      "fft=True will become the default after the release of the 0.12 release of statsmodels. To suppress this warning, explicitly set fft=False.\n",
      "\n"
     ]
    }
   ],
   "source": [
    "PACF = pacf(res, nlags=20)\n",
    "ACF = acf(res, nlags=20)"
   ]
  },
  {
   "cell_type": "code",
   "execution_count": 125,
   "metadata": {},
   "outputs": [],
   "source": [
    "import numpy as np\n",
    "from scipy import stats\n",
    "import plotly.graph_objects as go\n",
    "\n",
    "qq = stats.probplot(eg_portfolio.residuals, dist='norm', sparams=(1))\n",
    "x = np.array([qq[0][0][0], qq[0][0][-1]])\n",
    "\n",
    "# fig = go.Figure()\n",
    "# fig.add_scatter(x=qq[0][0], y=qq[0][1], mode='markers')\n",
    "# fig.add_scatter(x=x, y=qq[1][1] + qq[1][0]*x, mode='lines')\n",
    "# fig.layout.update(showlegend=False)\n",
    "# fig.show()"
   ]
  },
  {
   "cell_type": "code",
   "execution_count": 374,
   "metadata": {},
   "outputs": [],
   "source": [
    "res_2 = eg_portfolio_2.residuals\n",
    "\n",
    "qq_2 = stats.probplot(eg_portfolio_2.residuals, dist='norm', sparams=(1))\n",
    "\n",
    "x_2 = np.array([qq_2[0][0][0], qq_2[0][0][-1]])\n",
    "\n",
    "PACF_2 = pacf(res_2, nlags=20)\n",
    "\n",
    "ACF_2 = acf(res_2, nlags=20)\n",
    "\n"
   ]
  },
  {
   "cell_type": "code",
   "execution_count": 127,
   "metadata": {},
   "outputs": [
    {
     "name": "stdout",
     "output_type": "stream",
     "text": [
      "Dash is running on http://127.0.0.1:8050/\n",
      "\n",
      "Dash is running on http://127.0.0.1:8050/\n",
      "\n",
      "Dash is running on http://127.0.0.1:8050/\n",
      "\n",
      "Dash is running on http://127.0.0.1:8050/\n",
      "\n",
      "Dash is running on http://127.0.0.1:8050/\n",
      "\n",
      "Dash is running on http://127.0.0.1:8050/\n",
      "\n",
      "Dash is running on http://127.0.0.1:8050/\n",
      "\n",
      " * Serving Flask app \"__main__\" (lazy loading)\n",
      " * Environment: production\n",
      "   WARNING: This is a development server. Do not use it in a production deployment.\n",
      "   Use a production WSGI server instead.\n",
      " * Debug mode: off\n"
     ]
    },
    {
     "name": "stderr",
     "output_type": "stream",
     "text": [
      " * Running on http://127.0.0.1:8050/ (Press CTRL+C to quit)\n"
     ]
    }
   ],
   "source": [
    "\n",
    "fig_1 = go.Figure()\n",
    "fig_1.add_trace(go.Scatter(\n",
    "    x= np.arange(len(PACF)),\n",
    "    y= PACF,\n",
    "    name= 'PACF',\n",
    "    ))\n",
    "fig_1.update_xaxes(rangeslider_visible=True)\n",
    "fig_1.update_layout(\n",
    "    title=\"Partial Autocorrelation\",\n",
    "    xaxis_title=\"Lag\",\n",
    "    yaxis_title=\"Partial Autocorrelation\",\n",
    "    #     autosize=False,\n",
    "    #     width=500,\n",
    "         height=500,\n",
    "    )\n",
    "\n",
    "app.layout = html.Div(children=[\n",
    "    dcc.Graph(\n",
    "        id='example-graph-2',\n",
    "        figure=fig_1\n",
    "        , style={'width':'30%', \n",
    "                    'height':'80%',\n",
    "                    'margin-top': 0,\n",
    "                    'margin-rigt': 30, \n",
    "#                     'vertical-align': 'top', \n",
    "                    'horizontal-align': 'left',\n",
    "#                     'display':'inline-block'\n",
    "                }),\n",
    "\n",
    "\n",
    "])\n",
    "\n",
    "if __name__ == '__main__':\n",
    "    app.run_server()"
   ]
  },
  {
   "cell_type": "markdown",
   "metadata": {},
   "source": [
    "### **Compiled data**"
   ]
  },
  {
   "cell_type": "code",
   "execution_count": null,
   "metadata": {},
   "outputs": [],
   "source": [
    "residuals_data = {'skewness':skew, 'kurtosis':kurtosis, 'half-life':eg_res_half_life, 'standard deviation':std, 'normality p':p}"
   ]
  },
  {
   "cell_type": "code",
   "execution_count": 346,
   "metadata": {},
   "outputs": [],
   "source": [
    "confidence_levels = ['Confidence level',['99%', '95%', '90%']]"
   ]
  },
  {
   "cell_type": "code",
   "execution_count": 349,
   "metadata": {},
   "outputs": [
    {
     "ename": "NameError",
     "evalue": "name 'confidence_level' is not defined",
     "output_type": "error",
     "traceback": [
      "\u001b[1;31m---------------------------------------------------------------------------\u001b[0m",
      "\u001b[1;31mNameError\u001b[0m                                 Traceback (most recent call last)",
      "\u001b[1;32m<ipython-input-349-85f8c8dc61e7>\u001b[0m in \u001b[0;36m<module>\u001b[1;34m\u001b[0m\n\u001b[1;32m----> 1\u001b[1;33m \u001b[0mdata\u001b[0m \u001b[1;33m=\u001b[0m \u001b[1;33m{\u001b[0m\u001b[0mconfidence_level\u001b[0m\u001b[1;33m[\u001b[0m\u001b[1;36m0\u001b[0m\u001b[1;33m]\u001b[0m\u001b[1;33m:\u001b[0m\u001b[0mconfidence_level\u001b[0m\u001b[1;33m[\u001b[0m\u001b[1;36m1\u001b[0m\u001b[1;33m]\u001b[0m\u001b[1;33m}\u001b[0m\u001b[1;33m\u001b[0m\u001b[1;33m\u001b[0m\u001b[0m\n\u001b[0m",
      "\u001b[1;31mNameError\u001b[0m: name 'confidence_level' is not defined"
     ]
    }
   ],
   "source": [
    "data = {confidence_levels[0]:confidence_levels[1]}"
   ]
  },
  {
   "cell_type": "code",
   "execution_count": null,
   "metadata": {},
   "outputs": [],
   "source": [
    "eg_portfolio_price.index"
   ]
  },
  {
   "cell_type": "markdown",
   "metadata": {},
   "source": [
    "# VISUALS PLOTLY"
   ]
  },
  {
   "cell_type": "markdown",
   "metadata": {},
   "source": [
    "Imports"
   ]
  },
  {
   "cell_type": "code",
   "execution_count": 50,
   "metadata": {},
   "outputs": [],
   "source": [
    "import plotly.graph_objects as go\n",
    "import plotly.express as px"
   ]
  },
  {
   "cell_type": "code",
   "execution_count": null,
   "metadata": {},
   "outputs": [],
   "source": [
    "external_stylesheets = ['https://codepen.io/chriddyp/pen/bWLwgP.css']\n",
    "\n",
    "app = dash.Dash(__name__, external_stylesheets=external_stylesheets)\n",
    "\n",
    "fig = go.Figure()\n",
    "fig.add_trace(go.Scatter(x=eg_portfolio_price.index, y=eg_portfolio_price,\n",
    "                    mode='lines', line=dict(color='darkturquoise')))\n",
    "fig.update_layout(\n",
    "    title=\"GLD/GDXJ portfolio price\",\n",
    "    xaxis_title=\"Date\",\n",
    "    yaxis_title=\"Price\",\n",
    "    \n",
    "    #     autosize=False,\n",
    "    #     width=500,\n",
    "         height=500,\n",
    "    )\n",
    "\n",
    "fig.update_xaxes(rangeslider_visible=True)\n",
    "\n",
    "app.layout = html.Div(children=[\n",
    "    \n",
    "    \n",
    "     dcc.Graph(\n",
    "        id='example-graph',\n",
    "        figure=fig\n",
    "        , style={'width':'90%', \n",
    "                    'height':'90%',\n",
    "                    'margin-top': 30,\n",
    "                    'margin-rigt': 30, \n",
    "#                     'vertical-align': 'top', \n",
    "                    'horizontal-align': 'left',\n",
    "#                     'display':'inline-block'\n",
    "                })  \n",
    "\n",
    "    \n",
    "    \n",
    "])\n",
    "\n",
    "if __name__ == '__main__':\n",
    "    app.run_server()"
   ]
  },
  {
   "cell_type": "code",
   "execution_count": null,
   "metadata": {},
   "outputs": [],
   "source": [
    "external_stylesheets = ['https://codepen.io/chriddyp/pen/bWLwgP.css']\n",
    "\n",
    "df_pacf = PACF\n",
    "fig = go.Figure()\n",
    "fig.add_trace(go.Scatter(\n",
    "    x= np.arange(len(df_pacf)),\n",
    "    y= df_pacf,\n",
    "    name= 'PACF',\n",
    "    ))\n",
    "fig.update_xaxes(rangeslider_visible=True)\n",
    "fig.update_layout(\n",
    "    title=\"Partial Autocorrelation\",\n",
    "    xaxis_title=\"Lag\",\n",
    "    yaxis_title=\"Partial Autocorrelation\",\n",
    "    #     autosize=False,\n",
    "    #     width=500,\n",
    "         height=500,\n",
    "    )\n",
    "\n",
    "app = dash.Dash(__name__, external_stylesheets=external_stylesheets)\n",
    "\n",
    "app.layout = html.Div(children=[\n",
    "    \n",
    "    dcc.Graph(\n",
    "        id='example-graph',\n",
    "        figure=fig\n",
    "        , style={'width':'90%', \n",
    "                    'height':'90%',\n",
    "                    'margin-top': 30,\n",
    "                    'margin-rigt': 30, \n",
    "#                     'vertical-align': 'top', \n",
    "                    'horizontal-align': 'left',\n",
    "#                     'display':'inline-block'\n",
    "                })  \n",
    "    \n",
    "    \n",
    "])\n",
    "\n",
    "if __name__ == '__main__':\n",
    "    app.run_server()"
   ]
  },
  {
   "cell_type": "markdown",
   "metadata": {},
   "source": [
    "## **PACF**"
   ]
  },
  {
   "cell_type": "code",
   "execution_count": 270,
   "metadata": {
    "collapsed": true,
    "jupyter": {
     "outputs_hidden": true
    }
   },
   "outputs": [
    {
     "name": "stdout",
     "output_type": "stream",
     "text": [
      "Dash is running on http://127.0.0.1:8050/\n",
      "\n",
      "Dash is running on http://127.0.0.1:8050/\n",
      "\n",
      "Dash is running on http://127.0.0.1:8050/\n",
      "\n",
      "Dash is running on http://127.0.0.1:8050/\n",
      "\n",
      "Dash is running on http://127.0.0.1:8050/\n",
      "\n",
      "Dash is running on http://127.0.0.1:8050/\n",
      "\n",
      "Dash is running on http://127.0.0.1:8050/\n",
      "\n",
      "Dash is running on http://127.0.0.1:8050/\n",
      "\n",
      "Dash is running on http://127.0.0.1:8050/\n",
      "\n",
      "Dash is running on http://127.0.0.1:8050/\n",
      "\n",
      "Dash is running on http://127.0.0.1:8050/\n",
      "\n",
      "Dash is running on http://127.0.0.1:8050/\n",
      "\n",
      "Dash is running on http://127.0.0.1:8050/\n",
      "\n",
      "Dash is running on http://127.0.0.1:8050/\n",
      "\n",
      "Dash is running on http://127.0.0.1:8050/\n",
      "\n",
      "Dash is running on http://127.0.0.1:8050/\n",
      "\n",
      "Dash is running on http://127.0.0.1:8050/\n",
      "\n",
      "Dash is running on http://127.0.0.1:8050/\n",
      "\n",
      "Dash is running on http://127.0.0.1:8050/\n",
      "\n",
      "Dash is running on http://127.0.0.1:8050/\n",
      "\n",
      "Dash is running on http://127.0.0.1:8050/\n",
      "\n",
      "Dash is running on http://127.0.0.1:8050/\n",
      "\n",
      "Dash is running on http://127.0.0.1:8050/\n",
      "\n",
      "Dash is running on http://127.0.0.1:8050/\n",
      "\n",
      "Dash is running on http://127.0.0.1:8050/\n",
      "\n",
      "Dash is running on http://127.0.0.1:8050/\n",
      "\n",
      "Dash is running on http://127.0.0.1:8050/\n",
      "\n",
      "Dash is running on http://127.0.0.1:8050/\n",
      "\n",
      "Dash is running on http://127.0.0.1:8050/\n",
      "\n",
      "Dash is running on http://127.0.0.1:8050/\n",
      "\n",
      "Dash is running on http://127.0.0.1:8050/\n",
      "\n",
      "Dash is running on http://127.0.0.1:8050/\n",
      "\n",
      "Dash is running on http://127.0.0.1:8050/\n",
      "\n",
      "Dash is running on http://127.0.0.1:8050/\n",
      "\n",
      "Dash is running on http://127.0.0.1:8050/\n",
      "\n",
      "Dash is running on http://127.0.0.1:8050/\n",
      "\n",
      "Dash is running on http://127.0.0.1:8050/\n",
      "\n",
      "Dash is running on http://127.0.0.1:8050/\n",
      "\n",
      "Dash is running on http://127.0.0.1:8050/\n",
      "\n",
      "Dash is running on http://127.0.0.1:8050/\n",
      "\n",
      "Dash is running on http://127.0.0.1:8050/\n",
      "\n",
      "Dash is running on http://127.0.0.1:8050/\n",
      "\n",
      "Dash is running on http://127.0.0.1:8050/\n",
      "\n",
      "Dash is running on http://127.0.0.1:8050/\n",
      "\n",
      "Dash is running on http://127.0.0.1:8050/\n",
      "\n",
      "Dash is running on http://127.0.0.1:8050/\n",
      "\n",
      "Dash is running on http://127.0.0.1:8050/\n",
      "\n",
      "Dash is running on http://127.0.0.1:8050/\n",
      "\n",
      "Dash is running on http://127.0.0.1:8050/\n",
      "\n",
      "Dash is running on http://127.0.0.1:8050/\n",
      "\n",
      "Dash is running on http://127.0.0.1:8050/\n",
      "\n",
      "Dash is running on http://127.0.0.1:8050/\n",
      "\n",
      "Dash is running on http://127.0.0.1:8050/\n",
      "\n",
      "Dash is running on http://127.0.0.1:8050/\n",
      "\n",
      "Dash is running on http://127.0.0.1:8050/\n",
      "\n",
      "Dash is running on http://127.0.0.1:8050/\n",
      "\n",
      "Dash is running on http://127.0.0.1:8050/\n",
      "\n",
      "Dash is running on http://127.0.0.1:8050/\n",
      "\n",
      "Dash is running on http://127.0.0.1:8050/\n",
      "\n",
      "Dash is running on http://127.0.0.1:8050/\n",
      "\n",
      "Dash is running on http://127.0.0.1:8050/\n",
      "\n",
      "Dash is running on http://127.0.0.1:8050/\n",
      "\n",
      "Dash is running on http://127.0.0.1:8050/\n",
      "\n",
      "Dash is running on http://127.0.0.1:8050/\n",
      "\n",
      "Dash is running on http://127.0.0.1:8050/\n",
      "\n",
      "Dash is running on http://127.0.0.1:8050/\n",
      "\n",
      "Dash is running on http://127.0.0.1:8050/\n",
      "\n",
      "Dash is running on http://127.0.0.1:8050/\n",
      "\n",
      "Dash is running on http://127.0.0.1:8050/\n",
      "\n",
      "Dash is running on http://127.0.0.1:8050/\n",
      "\n",
      "Dash is running on http://127.0.0.1:8050/\n",
      "\n",
      "Dash is running on http://127.0.0.1:8050/\n",
      "\n",
      "Dash is running on http://127.0.0.1:8050/\n",
      "\n",
      "Dash is running on http://127.0.0.1:8050/\n",
      "\n",
      "Dash is running on http://127.0.0.1:8050/\n",
      "\n",
      "Dash is running on http://127.0.0.1:8050/\n",
      "\n",
      "Dash is running on http://127.0.0.1:8050/\n",
      "\n",
      "Dash is running on http://127.0.0.1:8050/\n",
      "\n",
      "Dash is running on http://127.0.0.1:8050/\n",
      "\n",
      "Dash is running on http://127.0.0.1:8050/\n",
      "\n",
      "Dash is running on http://127.0.0.1:8050/\n",
      "\n",
      "Dash is running on http://127.0.0.1:8050/\n",
      "\n",
      "Dash is running on http://127.0.0.1:8050/\n",
      "\n",
      "Dash is running on http://127.0.0.1:8050/\n",
      "\n",
      "Dash is running on http://127.0.0.1:8050/\n",
      "\n",
      "Dash is running on http://127.0.0.1:8050/\n",
      "\n",
      "Dash is running on http://127.0.0.1:8050/\n",
      "\n",
      "Dash is running on http://127.0.0.1:8050/\n",
      "\n",
      "Dash is running on http://127.0.0.1:8050/\n",
      "\n",
      "Dash is running on http://127.0.0.1:8050/\n",
      "\n",
      "Dash is running on http://127.0.0.1:8050/\n",
      "\n",
      "Dash is running on http://127.0.0.1:8050/\n",
      "\n",
      "Dash is running on http://127.0.0.1:8050/\n",
      "\n",
      "Dash is running on http://127.0.0.1:8050/\n",
      "\n",
      "Dash is running on http://127.0.0.1:8050/\n",
      "\n",
      "Dash is running on http://127.0.0.1:8050/\n",
      "\n",
      "Dash is running on http://127.0.0.1:8050/\n",
      "\n",
      "Dash is running on http://127.0.0.1:8050/\n",
      "\n",
      "Dash is running on http://127.0.0.1:8050/\n",
      "\n",
      "Dash is running on http://127.0.0.1:8050/\n",
      "\n",
      "Dash is running on http://127.0.0.1:8050/\n",
      "\n",
      "Dash is running on http://127.0.0.1:8050/\n",
      "\n",
      "Dash is running on http://127.0.0.1:8050/\n",
      "\n",
      "Dash is running on http://127.0.0.1:8050/\n",
      "\n",
      "Dash is running on http://127.0.0.1:8050/\n",
      "\n",
      "Dash is running on http://127.0.0.1:8050/\n",
      "\n",
      "Dash is running on http://127.0.0.1:8050/\n",
      "\n",
      "Dash is running on http://127.0.0.1:8050/\n",
      "\n",
      "Dash is running on http://127.0.0.1:8050/\n",
      "\n",
      "Dash is running on http://127.0.0.1:8050/\n",
      "\n",
      " * Serving Flask app \"__main__\" (lazy loading)\n",
      " * Environment: production\n",
      "   WARNING: This is a development server. Do not use it in a production deployment.\n",
      "   Use a production WSGI server instead.\n",
      " * Debug mode: off\n"
     ]
    },
    {
     "name": "stderr",
     "output_type": "stream",
     "text": [
      " * Running on http://127.0.0.1:8050/ (Press CTRL+C to quit)\n",
      "127.0.0.1 - - [13/Apr/2021 09:35:10] \"\u001b[37mGET / HTTP/1.1\u001b[0m\" 200 -\n",
      "127.0.0.1 - - [13/Apr/2021 09:35:10] \"\u001b[37mGET /_dash-component-suites/dash_renderer/polyfill@7.v1_9_0m1617880301.8.7.min.js HTTP/1.1\u001b[0m\" 200 -\n",
      "127.0.0.1 - - [13/Apr/2021 09:35:10] \"\u001b[37mGET /_dash-component-suites/dash_renderer/prop-types@15.v1_9_0m1617880301.7.2.min.js HTTP/1.1\u001b[0m\" 200 -\n",
      "127.0.0.1 - - [13/Apr/2021 09:35:10] \"\u001b[37mGET /_dash-component-suites/dash_renderer/react@16.v1_9_0m1617880301.14.0.min.js HTTP/1.1\u001b[0m\" 200 -\n",
      "127.0.0.1 - - [13/Apr/2021 09:35:10] \"\u001b[37mGET /_dash-component-suites/dash_renderer/react-dom@16.v1_9_0m1617880301.14.0.min.js HTTP/1.1\u001b[0m\" 200 -\n",
      "127.0.0.1 - - [13/Apr/2021 09:35:10] \"\u001b[37mGET /_dash-component-suites/dash_html_components/dash_html_components.v1_1_2m1617880302.min.js HTTP/1.1\u001b[0m\" 200 -\n",
      "127.0.0.1 - - [13/Apr/2021 09:35:10] \"\u001b[37mGET /_dash-component-suites/dash_core_components/dash_core_components-shared.v1_15_0m1617880302.js HTTP/1.1\u001b[0m\" 200 -\n",
      "127.0.0.1 - - [13/Apr/2021 09:35:10] \"\u001b[37mGET /_dash-component-suites/dash_table/bundle.v4_11_2m1617880301.js HTTP/1.1\u001b[0m\" 200 -\n",
      "127.0.0.1 - - [13/Apr/2021 09:35:10] \"\u001b[37mGET /_dash-component-suites/dash_renderer/dash_renderer.v1_9_0m1617880301.min.js HTTP/1.1\u001b[0m\" 200 -\n",
      "127.0.0.1 - - [13/Apr/2021 09:35:10] \"\u001b[37mGET /_dash-component-suites/dash_core_components/dash_core_components.v1_15_0m1617880302.min.js HTTP/1.1\u001b[0m\" 200 -\n",
      "127.0.0.1 - - [13/Apr/2021 09:35:11] \"\u001b[37mGET /_dash-layout HTTP/1.1\u001b[0m\" 200 -\n",
      "127.0.0.1 - - [13/Apr/2021 09:35:11] \"\u001b[37mGET /_dash-dependencies HTTP/1.1\u001b[0m\" 200 -\n",
      "127.0.0.1 - - [13/Apr/2021 09:35:11] \"\u001b[37mGET /_favicon.ico?v=1.19.0 HTTP/1.1\u001b[0m\" 200 -\n"
     ]
    }
   ],
   "source": [
    "external_stylesheets = ['https://codepen.io/chriddyp/pen/bWLwgP.css']\n",
    "\n",
    "trace2 = {\n",
    "  \"name\": \"pacf\", \n",
    "  \"type\": \"bar\", \n",
    "  \"y\": PACF\n",
    "}\n",
    "\n",
    "fig = go.Figure(data=trace2)\n",
    "\n",
    "app = dash.Dash(__name__, external_stylesheets=external_stylesheets)\n",
    "\n",
    "app.layout = html.Div(children=[\n",
    "    \n",
    "    dcc.Graph(\n",
    "        id='example-graph',\n",
    "        figure=fig\n",
    "        , style={'width':'40%', \n",
    "                    'height':'90%',\n",
    "                    'margin-top': 30,\n",
    "                    'margin-rigt': 30, \n",
    "#                     'vertical-align': 'top', \n",
    "                    'horizontal-align': 'left',\n",
    "#                     'display':'inline-block'\n",
    "                })  \n",
    "])\n",
    "\n",
    "if __name__ == '__main__':\n",
    "    app.run_server()"
   ]
  },
  {
   "cell_type": "code",
   "execution_count": null,
   "metadata": {},
   "outputs": [],
   "source": [
    "external_stylesheets = ['https://codepen.io/chriddyp/pen/bWLwgP.css']\n",
    "\n",
    "app = dash.Dash(__name__, external_stylesheets=external_stylesheets)\n",
    "\n",
    "app.layout = html.Div(children=[\n",
    "    \n",
    "    \n",
    "])\n",
    "\n",
    "if __name__ == '__main__':\n",
    "    app.run_server()"
   ]
  },
  {
   "cell_type": "code",
   "execution_count": null,
   "metadata": {},
   "outputs": [],
   "source": [
    "external_stylesheets = ['https://codepen.io/chriddyp/pen/bWLwgP.css']\n",
    "\n",
    "app = dash.Dash(__name__, external_stylesheets=external_stylesheets)\n",
    "\n",
    "app.layout = html.Div(children=[\n",
    "    \n",
    "    \n",
    "])\n",
    "\n",
    "if __name__ == '__main__':\n",
    "    app.run_server()"
   ]
  },
  {
   "cell_type": "code",
   "execution_count": null,
   "metadata": {},
   "outputs": [],
   "source": [
    "external_stylesheets = ['https://codepen.io/chriddyp/pen/bWLwgP.css']\n",
    "\n",
    "app = dash.Dash(__name__, external_stylesheets=external_stylesheets)\n",
    "\n",
    "app.layout = html.Div(children=[\n",
    "    \n",
    "    \n",
    "])\n",
    "\n",
    "if __name__ == '__main__':\n",
    "    app.run_server()"
   ]
  },
  {
   "cell_type": "markdown",
   "metadata": {},
   "source": [
    "# VISUALS DASH"
   ]
  },
  {
   "cell_type": "markdown",
   "metadata": {},
   "source": [
    "Imports"
   ]
  },
  {
   "cell_type": "code",
   "execution_count": 70,
   "metadata": {},
   "outputs": [],
   "source": [
    "import dash\n",
    "import dash_core_components as dcc\n",
    "import dash_html_components as html\n",
    "from flask import request\n",
    "import dash_table"
   ]
  },
  {
   "cell_type": "code",
   "execution_count": 52,
   "metadata": {},
   "outputs": [
    {
     "ename": "NameError",
     "evalue": "name 'fig_1' is not defined",
     "output_type": "error",
     "traceback": [
      "\u001b[1;31m---------------------------------------------------------------------------\u001b[0m",
      "\u001b[1;31mNameError\u001b[0m                                 Traceback (most recent call last)",
      "\u001b[1;32m<ipython-input-52-c174a5e22990>\u001b[0m in \u001b[0;36m<module>\u001b[1;34m\u001b[0m\n\u001b[0;32m     58\u001b[0m     dcc.Graph(\n\u001b[0;32m     59\u001b[0m         \u001b[0mid\u001b[0m\u001b[1;33m=\u001b[0m\u001b[1;34m'example-graph-2'\u001b[0m\u001b[1;33m,\u001b[0m\u001b[1;33m\u001b[0m\u001b[1;33m\u001b[0m\u001b[0m\n\u001b[1;32m---> 60\u001b[1;33m         \u001b[0mfigure\u001b[0m\u001b[1;33m=\u001b[0m\u001b[0mfig_1\u001b[0m\u001b[1;33m\u001b[0m\u001b[1;33m\u001b[0m\u001b[0m\n\u001b[0m\u001b[0;32m     61\u001b[0m         , style={'width':'30%', \n\u001b[0;32m     62\u001b[0m                     \u001b[1;34m'height'\u001b[0m\u001b[1;33m:\u001b[0m\u001b[1;34m'80%'\u001b[0m\u001b[1;33m,\u001b[0m\u001b[1;33m\u001b[0m\u001b[1;33m\u001b[0m\u001b[0m\n",
      "\u001b[1;31mNameError\u001b[0m: name 'fig_1' is not defined"
     ]
    }
   ],
   "source": [
    "external_stylesheets = ['https://codepen.io/chriddyp/pen/bWLwgP.css']\n",
    "\n",
    "app = dash.Dash(__name__, external_stylesheets=external_stylesheets)\n",
    "\n",
    "# assume you have a \"long-form\" data frame\n",
    "# see https://plotly.com/python/px-arguments/ for more options\n",
    "\n",
    "fig =  go.Figure()\n",
    "fig.add_scatter(x=qq[0][0], y=qq[0][1], mode='markers')\n",
    "fig.add_scatter(x=x, y=qq[1][1] + qq[1][0]*x, mode='lines')\n",
    "fig.layout.update(showlegend=False)\n",
    "\n",
    "\n",
    "\n",
    "\n",
    "app.layout = html.Div(children=[\n",
    "    html.Div(children=[\n",
    "        html.Img(src='/assets/LB_Hudson_Thames_ProductLogos_ArbitrageLab-01.png', \n",
    "             style={'width':'15%', \n",
    "                    'height':'15%',\n",
    "                    'margin-bottom': 30,\n",
    "                    'margin-left': 30, \n",
    "                    'vertical-align': 'top', \n",
    "                    'horizontal-align': 'left',\n",
    "                    'display':'inline-block'\n",
    "                   }),\n",
    "\n",
    "        html.H1(children='Hello Dash',\n",
    "                style={'padding-bottom': '1%',\n",
    "                       'vertical-align': 'bottom', \n",
    "                       'horizontal-align': 'right',\n",
    "                       'display':'inline-block'\n",
    "                   })]),\n",
    "\n",
    "    html.Div(children='''\n",
    "        Q-Q PLOT.\n",
    "        ''',\n",
    "             style={'font-family':'Josefin Sans', \n",
    "                    'font-weight':'300',\n",
    "                    'font-size': 30,\n",
    "                    'margin-left': 70, \n",
    "                    'align': 'center',\n",
    "#                     'display':'inline-block'\n",
    "                    \n",
    "                }),\n",
    "\n",
    "    dcc.Graph(\n",
    "        id='example-graph',\n",
    "        figure=fig\n",
    "        , style={'width':'30%', \n",
    "                    'height':'80%',\n",
    "                    'margin-top': 0,\n",
    "                    'margin-rigt': 30, \n",
    "#                     'vertical-align': 'top', \n",
    "                    'horizontal-align': 'left',\n",
    "                    'display':'inline-block'\n",
    "                }),\n",
    "    dcc.Graph(\n",
    "        id='example-graph-2',\n",
    "        figure=fig_1\n",
    "        , style={'width':'30%', \n",
    "                    'height':'80%',\n",
    "                    'margin-top': 0,\n",
    "                    'margin-rigt': 30, \n",
    "#                     'vertical-align': 'top', \n",
    "                    'horizontal-align': 'left',\n",
    "#                     'display':'inline-block'\n",
    "                }),\n",
    "\n",
    "\n",
    "])\n",
    "\n",
    "if __name__ == '__main__':\n",
    "    app.run_server()"
   ]
  },
  {
   "cell_type": "code",
   "execution_count": 99,
   "metadata": {
    "collapsed": true,
    "jupyter": {
     "outputs_hidden": true
    }
   },
   "outputs": [
    {
     "name": "stdout",
     "output_type": "stream",
     "text": [
      "Dash is running on http://127.0.0.1:8050/\n",
      "\n",
      "Dash is running on http://127.0.0.1:8050/\n",
      "\n",
      "Dash is running on http://127.0.0.1:8050/\n",
      "\n",
      "Dash is running on http://127.0.0.1:8050/\n",
      "\n",
      "Dash is running on http://127.0.0.1:8050/\n",
      "\n",
      "Dash is running on http://127.0.0.1:8050/\n",
      "\n",
      "Dash is running on http://127.0.0.1:8050/\n",
      "\n",
      "Dash is running on http://127.0.0.1:8050/\n",
      "\n",
      "Dash is running on http://127.0.0.1:8050/\n",
      "\n",
      "Dash is running on http://127.0.0.1:8050/\n",
      "\n",
      "Dash is running on http://127.0.0.1:8050/\n",
      "\n",
      "Dash is running on http://127.0.0.1:8050/\n",
      "\n",
      "Dash is running on http://127.0.0.1:8050/\n",
      "\n",
      "Dash is running on http://127.0.0.1:8050/\n",
      "\n",
      "Dash is running on http://127.0.0.1:8050/\n",
      "\n",
      "Dash is running on http://127.0.0.1:8050/\n",
      "\n",
      "Dash is running on http://127.0.0.1:8050/\n",
      "\n",
      "Dash is running on http://127.0.0.1:8050/\n",
      "\n",
      "Dash is running on http://127.0.0.1:8050/\n",
      "\n",
      "Dash is running on http://127.0.0.1:8050/\n",
      "\n",
      "Dash is running on http://127.0.0.1:8050/\n",
      "\n",
      "Dash is running on http://127.0.0.1:8050/\n",
      "\n",
      "Dash is running on http://127.0.0.1:8050/\n",
      "\n",
      "Dash is running on http://127.0.0.1:8050/\n",
      "\n",
      "Dash is running on http://127.0.0.1:8050/\n",
      "\n",
      "Dash is running on http://127.0.0.1:8050/\n",
      "\n",
      "Dash is running on http://127.0.0.1:8050/\n",
      "\n",
      "Dash is running on http://127.0.0.1:8050/\n",
      "\n",
      "Dash is running on http://127.0.0.1:8050/\n",
      "\n",
      "Dash is running on http://127.0.0.1:8050/\n",
      "\n",
      "Dash is running on http://127.0.0.1:8050/\n",
      "\n",
      "Dash is running on http://127.0.0.1:8050/\n",
      "\n",
      "Dash is running on http://127.0.0.1:8050/\n",
      "\n",
      "Dash is running on http://127.0.0.1:8050/\n",
      "\n",
      "Dash is running on http://127.0.0.1:8050/\n",
      "\n",
      "Dash is running on http://127.0.0.1:8050/\n",
      "\n",
      "Dash is running on http://127.0.0.1:8050/\n",
      "\n",
      "Dash is running on http://127.0.0.1:8050/\n",
      "\n"
     ]
    },
    {
     "name": "stderr",
     "output_type": "stream",
     "text": [
      "INFO:__main__:Dash is running on http://127.0.0.1:8050/\n",
      "\n"
     ]
    },
    {
     "name": "stdout",
     "output_type": "stream",
     "text": [
      " * Serving Flask app \"__main__\" (lazy loading)\n",
      " * Environment: production\n",
      "   WARNING: This is a development server. Do not use it in a production deployment.\n",
      "   Use a production WSGI server instead.\n",
      " * Debug mode: off\n"
     ]
    }
   ],
   "source": [
    "external_stylesheets = ['https://codepen.io/chriddyp/pen/bWLwgP.css']\n",
    "\n",
    "app = dash.Dash(__name__, external_stylesheets=external_stylesheets)\n",
    "\n",
    "fig = go.Figure()\n",
    "fig.add_trace(go.Scatter(x=train_three_elements.index, y=train_three_elements['GLD'],\n",
    "                    mode='lines', line=dict(color='darkturquoise')))\n",
    "fig.update_layout(\n",
    "    title=\"GLD/GDXJ portfolio price\",\n",
    "    xaxis_title=\"Date\",\n",
    "    yaxis_title=\"Price\",\n",
    "    #     autosize=False,\n",
    "    #     width=500,\n",
    "         height=500,\n",
    "    )\n",
    "\n",
    "fig.update_xaxes(rangeslider_visible=True)\n",
    "\n",
    "app.layout = html.Div(children=[\n",
    "    \n",
    "    \n",
    "     dcc.Graph(\n",
    "        id='example-graph',\n",
    "        figure=fig\n",
    "        , style={'width':'90%', \n",
    "                    'height':'90%',\n",
    "                    'margin-top': 30,\n",
    "                    'margin-rigt': 30, \n",
    "#                     'vertical-align': 'top', \n",
    "                    'horizontal-align': 'left',\n",
    "#                     'display':'inline-block'\n",
    "                })  \n",
    "\n",
    "    \n",
    "    \n",
    "])\n",
    "\n",
    "if __name__ == '__main__':\n",
    "    app.run_server()"
   ]
  },
  {
   "cell_type": "code",
   "execution_count": 71,
   "metadata": {},
   "outputs": [],
   "source": [
    "norm_GLD = (train_three_elements['GLD'] - train_three_elements['GLD'].min())/(train_three_elements['GLD'].max()-train_three_elements['GLD'].min())\n",
    "norm_GDXJ = (train_three_elements['GDXJ'] - train_three_elements['GDXJ'].min())/(train_three_elements['GDXJ'].max()-train_three_elements['GDXJ'].min())"
   ]
  },
  {
   "cell_type": "code",
   "execution_count": null,
   "metadata": {},
   "outputs": [],
   "source": [
    "height: auto;"
   ]
  },
  {
   "cell_type": "code",
   "execution_count": null,
   "metadata": {},
   "outputs": [
    {
     "name": "stdout",
     "output_type": "stream",
     "text": [
      "Dash is running on http://127.0.0.1:8050/\n",
      "\n",
      "Dash is running on http://127.0.0.1:8050/\n",
      "\n",
      "Dash is running on http://127.0.0.1:8050/\n",
      "\n",
      "Dash is running on http://127.0.0.1:8050/\n",
      "\n",
      "Dash is running on http://127.0.0.1:8050/\n",
      "\n",
      "Dash is running on http://127.0.0.1:8050/\n",
      "\n",
      "Dash is running on http://127.0.0.1:8050/\n",
      "\n",
      "Dash is running on http://127.0.0.1:8050/\n",
      "\n",
      "Dash is running on http://127.0.0.1:8050/\n",
      "\n",
      "Dash is running on http://127.0.0.1:8050/\n",
      "\n",
      "Dash is running on http://127.0.0.1:8050/\n",
      "\n",
      "Dash is running on http://127.0.0.1:8050/\n",
      "\n",
      "Dash is running on http://127.0.0.1:8050/\n",
      "\n",
      "Dash is running on http://127.0.0.1:8050/\n",
      "\n",
      "Dash is running on http://127.0.0.1:8050/\n",
      "\n",
      "Dash is running on http://127.0.0.1:8050/\n",
      "\n",
      "Dash is running on http://127.0.0.1:8050/\n",
      "\n",
      "Dash is running on http://127.0.0.1:8050/\n",
      "\n",
      "Dash is running on http://127.0.0.1:8050/\n",
      "\n",
      "Dash is running on http://127.0.0.1:8050/\n",
      "\n",
      "Dash is running on http://127.0.0.1:8050/\n",
      "\n",
      "Dash is running on http://127.0.0.1:8050/\n",
      "\n",
      "Dash is running on http://127.0.0.1:8050/\n",
      "\n",
      "Dash is running on http://127.0.0.1:8050/\n",
      "\n",
      "Dash is running on http://127.0.0.1:8050/\n",
      "\n",
      "Dash is running on http://127.0.0.1:8050/\n",
      "\n",
      "Dash is running on http://127.0.0.1:8050/\n",
      "\n",
      "Dash is running on http://127.0.0.1:8050/\n",
      "\n",
      "Dash is running on http://127.0.0.1:8050/\n",
      "\n",
      "Dash is running on http://127.0.0.1:8050/\n",
      "\n",
      "Dash is running on http://127.0.0.1:8050/\n",
      "\n",
      "Dash is running on http://127.0.0.1:8050/\n",
      "\n",
      "Dash is running on http://127.0.0.1:8050/\n",
      "\n",
      "Dash is running on http://127.0.0.1:8050/\n",
      "\n",
      "Dash is running on http://127.0.0.1:8050/\n",
      "\n",
      "Dash is running on http://127.0.0.1:8050/\n",
      "\n",
      "Dash is running on http://127.0.0.1:8050/\n",
      "\n",
      "Dash is running on http://127.0.0.1:8050/\n",
      "\n",
      "Dash is running on http://127.0.0.1:8050/\n",
      "\n",
      "Dash is running on http://127.0.0.1:8050/\n",
      "\n",
      "Dash is running on http://127.0.0.1:8050/\n",
      "\n",
      "Dash is running on http://127.0.0.1:8050/\n",
      "\n",
      "Dash is running on http://127.0.0.1:8050/\n",
      "\n",
      "Dash is running on http://127.0.0.1:8050/\n",
      "\n",
      "Dash is running on http://127.0.0.1:8050/\n",
      "\n",
      "Dash is running on http://127.0.0.1:8050/\n",
      "\n",
      "Dash is running on http://127.0.0.1:8050/\n",
      "\n",
      "Dash is running on http://127.0.0.1:8050/\n",
      "\n",
      "Dash is running on http://127.0.0.1:8050/\n",
      "\n",
      "Dash is running on http://127.0.0.1:8050/\n",
      "\n",
      "Dash is running on http://127.0.0.1:8050/\n",
      "\n",
      "Dash is running on http://127.0.0.1:8050/\n",
      "\n",
      "Dash is running on http://127.0.0.1:8050/\n",
      "\n",
      "Dash is running on http://127.0.0.1:8050/\n",
      "\n",
      "Dash is running on http://127.0.0.1:8050/\n",
      "\n",
      "Dash is running on http://127.0.0.1:8050/\n",
      "\n",
      "Dash is running on http://127.0.0.1:8050/\n",
      "\n",
      "Dash is running on http://127.0.0.1:8050/\n",
      "\n",
      "Dash is running on http://127.0.0.1:8050/\n",
      "\n",
      "Dash is running on http://127.0.0.1:8050/\n",
      "\n",
      "Dash is running on http://127.0.0.1:8050/\n",
      "\n",
      "Dash is running on http://127.0.0.1:8050/\n",
      "\n",
      "Dash is running on http://127.0.0.1:8050/\n",
      "\n",
      "Dash is running on http://127.0.0.1:8050/\n",
      "\n",
      "Dash is running on http://127.0.0.1:8050/\n",
      "\n",
      "Dash is running on http://127.0.0.1:8050/\n",
      "\n",
      "Dash is running on http://127.0.0.1:8050/\n",
      "\n",
      "Dash is running on http://127.0.0.1:8050/\n",
      "\n",
      "Dash is running on http://127.0.0.1:8050/\n",
      "\n",
      "Dash is running on http://127.0.0.1:8050/\n",
      "\n",
      "Dash is running on http://127.0.0.1:8050/\n",
      "\n",
      "Dash is running on http://127.0.0.1:8050/\n",
      "\n",
      "Dash is running on http://127.0.0.1:8050/\n",
      "\n",
      "Dash is running on http://127.0.0.1:8050/\n",
      "\n",
      "Dash is running on http://127.0.0.1:8050/\n",
      "\n",
      "Dash is running on http://127.0.0.1:8050/\n",
      "\n",
      "Dash is running on http://127.0.0.1:8050/\n",
      "\n",
      "Dash is running on http://127.0.0.1:8050/\n",
      "\n",
      "Dash is running on http://127.0.0.1:8050/\n",
      "\n",
      "Dash is running on http://127.0.0.1:8050/\n",
      "\n",
      "Dash is running on http://127.0.0.1:8050/\n",
      "\n",
      "Dash is running on http://127.0.0.1:8050/\n",
      "\n",
      "Dash is running on http://127.0.0.1:8050/\n",
      "\n",
      "Dash is running on http://127.0.0.1:8050/\n",
      "\n",
      "Dash is running on http://127.0.0.1:8050/\n",
      "\n",
      "Dash is running on http://127.0.0.1:8050/\n",
      "\n",
      "Dash is running on http://127.0.0.1:8050/\n",
      "\n",
      "Dash is running on http://127.0.0.1:8050/\n",
      "\n",
      "Dash is running on http://127.0.0.1:8050/\n",
      "\n",
      "Dash is running on http://127.0.0.1:8050/\n",
      "\n",
      "Dash is running on http://127.0.0.1:8050/\n",
      "\n",
      " * Serving Flask app \"__main__\" (lazy loading)\n",
      " * Environment: production\n",
      "   WARNING: This is a development server. Do not use it in a production deployment.\n",
      "   Use a production WSGI server instead.\n",
      " * Debug mode: off\n"
     ]
    },
    {
     "name": "stderr",
     "output_type": "stream",
     "text": [
      " * Running on http://127.0.0.1:8050/ (Press CTRL+C to quit)\n"
     ]
    }
   ],
   "source": [
    "import dash\n",
    "import dash_core_components as dcc\n",
    "import dash_html_components as html\n",
    "from dash.dependencies import Input, Output\n",
    "\n",
    "\n",
    "blue = '#0C9AAC'\n",
    "orange = '#DE612F'\n",
    "grey = '#949494'\n",
    "light_grey = '#F2F3F4'\n",
    "black = '#0B0D13'\n",
    "white = '#ffffff'\n",
    "oxford_blue = '#072040'\n",
    "colors = {\n",
    "    'background': light_grey,\n",
    "    'text': black,\n",
    "    'highlight': blue,\n",
    "    'white': white,\n",
    "    'orange': orange\n",
    "}\n",
    "\n",
    "asset_prices = go.Figure()\n",
    "asset_prices.add_trace(go.Scatter(x=train_three_elements.index, y=norm_GLD,\n",
    "                    mode='lines', line=dict(color=blue), name='GLD'))\n",
    "asset_prices.add_trace(go.Scatter(x=train_three_elements.index, y=norm_GDXJ,\n",
    "                    mode='lines', line=dict(color=orange), name='GDXJ'))\n",
    "asset_prices.update_layout(\n",
    "    legend=dict(\n",
    "    yanchor=\"top\",\n",
    "    y=0.97,\n",
    "    xanchor=\"left\",\n",
    "    x=0.925),\n",
    "    title=\"Asset prices\",\n",
    "    xaxis_title=\"Date\",\n",
    "    yaxis_title=\"Price\",\n",
    "    font_family='Josefin Sans', \n",
    "    font_size=18,\n",
    "    #     autosize=False,\n",
    "    #     width=500,\n",
    "    height=500,\n",
    "    hovermode='x unified'\n",
    "    )\n",
    "\n",
    "\n",
    "\n",
    "asset_prices.update_xaxes(rangeslider_visible=True)\n",
    "\n",
    "\n",
    "app = dash.Dash()\n",
    "\n",
    "\n",
    "app.layout = html.Div(style={'backgroundColor': colors['background'], 'padding-bottom': 30}, children=[\n",
    "    \n",
    "    html.Img(src='/assets/LB_Hudson_Thames_ProductLogos_ArbitrageLab-13.png', \n",
    "         style={'width':'20%', \n",
    "                'height':'20%',\n",
    "                'padding-top': 50,                \n",
    "                'display': 'block',\n",
    "                'margin-left': 'auto',\n",
    "                'margin-right': 'auto'\n",
    "               }),\n",
    "\n",
    "    html.H1(\n",
    "        children='COINTEGRATION ANALYSIS OF GLD/GDXJ',\n",
    "        style={\n",
    "            'textAlign': 'center',\n",
    "            'color': colors['text'],\n",
    "            'font-family':'Josefin Sans', \n",
    "            'font-weight':'300',\n",
    "            'font-size': 50,\n",
    "            'padding-top': 30,\n",
    "            'padding-left': 50,\n",
    "            'margin-top': 30,\n",
    "            'margin-left': 'auto',\n",
    "            'margin-right': 'auto'\n",
    "        }\n",
    "    ),\n",
    "    \n",
    "   # INITIAL DIV \n",
    "    html.Div(style={'margin-left': '5%', 'margin-right': '5%',\n",
    "                    'margin-top': '5%', 'margin-bottom': '5%',  \n",
    "                    'backgroundColor': colors['white'],\n",
    "                    'horizontal-align': 'center'}, children=[\n",
    "        \n",
    "        html.Div(style={'backgroundColor': colors['white'],\n",
    "                    'display':'inline-block', 'padding-left': 30,\n",
    "                    'padding-right': 50, 'padding-top': 60,\n",
    "                    'padding-bottom': 50, 'margin-left': 50,\n",
    "                    'margin-right': 50, 'margin-top': 0,\n",
    "                    'margin-bottom': 50, 'vertical-align':'center', \n",
    "                    'horizontal-align': 'center', 'height': 315, 'width': '20%'}, children=[        \n",
    "        \n",
    "            html.H2(\n",
    "            children='The results of the ADF tests:',\n",
    "            style={\n",
    "                'textAlign': 'left',\n",
    "                'color': colors['text'],\n",
    "                'font-family':'Josefin Sans', \n",
    "                'font-weight':'500',\n",
    "                'font-size': 24,\n",
    "                'padding-bottom': '20%',\n",
    "            }\n",
    "            ),\n",
    "\n",
    "            html.P(\n",
    "            children='GLD',\n",
    "            style={\n",
    "                'textAlign': 'left',\n",
    "                'color': colors['highlight'],\n",
    "                'font-family':'Josefin Sans', \n",
    "                'font-weight':'500',\n",
    "                'font-size': 20\n",
    "\n",
    "            }),\n",
    "\n",
    "\n",
    "            html.P(\n",
    "            children='The hypothesis is not rejected at 95% confidence level',\n",
    "            style={\n",
    "                'textAlign': 'left',\n",
    "                'color': colors['text'],\n",
    "                'font-family':'Roboto', \n",
    "                'font-weight':'300',\n",
    "                'font-size': 18\n",
    "\n",
    "            }),\n",
    "\n",
    "            html.P(\n",
    "            children='GDXJ',\n",
    "            style={\n",
    "                'textAlign': 'left',\n",
    "                'color': colors['highlight'],\n",
    "                'font-family':'Josefin Sans', \n",
    "                'font-weight':'500',\n",
    "                'font-size': 20\n",
    "\n",
    "            }),\n",
    "\n",
    "\n",
    "            html.P(\n",
    "            children='The hypothesis is not rejected at 90% confidence level',\n",
    "            style={\n",
    "                'textAlign': 'left',\n",
    "                'color': colors['text'],\n",
    "                'font-family':'Roboto', \n",
    "                'font-weight':'300',\n",
    "                'font-size': 18\n",
    "\n",
    "            }),\n",
    "\n",
    "\n",
    "        ]),\n",
    "    \n",
    "    dcc.Graph(\n",
    "        id='example-graph',\n",
    "        figure=asset_prices\n",
    "        , style={'width': '60%', \n",
    "                 'height': '100%',\n",
    "                 'padding-left': 50,\n",
    "                 #'padding-right': 50,\n",
    "                 'padding-top': 50,\n",
    "                 'padding-bottom': 30, \n",
    "                 #'margin-right': 50, \n",
    "                 'margin-top': 0,\n",
    "                 'margin-bottom': 0, 'vertical-align':'top', \n",
    "                 'horizontal-align': 'right',\n",
    "                 'display':'inline-block',\n",
    "                 'font-family':'Josefin Sans', \n",
    "                 'font-weight':'300',\n",
    "                 'font-size': 24,\n",
    "             \n",
    "                })\n",
    "        \n",
    "        \n",
    "    ]),\n",
    "    \n",
    "    \n",
    "    html.Div(style={'margin-left': '5%', 'margin-right': '5%',\n",
    "                    'margin-top': '5%', 'margin-bottom': '5%', \n",
    "#                     'margin-left': '1%',\n",
    "#                     'margin-right': '0%', 'margin-top': '1%',\n",
    "#                     'margin-bottom': '1%', \n",
    "                    'backgroundColor': colors['white'],\n",
    "                    'horizontal-align': 'center'}, children=[\n",
    "        \n",
    "        \n",
    "            html.H2(\n",
    "                children='ENGLE-GRANGER APPROACH',\n",
    "                style={\n",
    "                    'textAlign': 'left',\n",
    "                    'color': colors['text'],\n",
    "                    'font-family':'Josefin Sans', \n",
    "                    'font-weight':'300',\n",
    "                    'font-size': 40,\n",
    "                    'padding-left': 50,\n",
    "                    'padding-right': 50,\n",
    "                    'padding-top': 60,\n",
    "                    'padding-bottom': 0,\n",
    "                    'margin-left': 50,\n",
    "                    'margin-right': 50,\n",
    "                    'margin-top': 0,\n",
    "                    'margin-bottom': 0,\n",
    "                    \n",
    "                }\n",
    "            ),         \n",
    "            \n",
    "            html.Div(style={'display':'block',\n",
    "                            'padding-left': 50,\n",
    "                            'padding-right': 50,\n",
    "                            'padding-top': 60,\n",
    "                            'padding-bottom': 0,\n",
    "                            'margin-left': 50,\n",
    "                            'margin-right': 50,\n",
    "                            'margin-top': 0,\n",
    "                            'margin-bottom': 0,\n",
    "                            'vertical-align':'center',\n",
    "                            'horizontal-align': 'right'}, children=[               \n",
    "                \n",
    "                html.Button('GLD/GDXJ', id='btn-nclicks-1', n_clicks=0, style={'BackgroundColor': colors['white'], 'padding-left': 40,\n",
    "                                                                               'padding-right': 40, 'padding-top': 20,\n",
    "                                                                               'padding-bottom': 20, 'margin-left': 0,\n",
    "                                                                               'margin-right': 25, 'margin-top': 0,\n",
    "                                                                               'margin-bottom': 0, 'font-family':'Josefin Sans',\n",
    "                                                                               'font-weight':'300', 'font-size': 20,\n",
    "                                                                              }),\n",
    "                \n",
    "                html.Button('GDXJ/GLD', id='btn-nclicks-2', n_clicks=0, style={'BackgroundColor': colors['white'], 'padding-left': 40,\n",
    "                                                                               'padding-right': 40, 'padding-top': 20,\n",
    "                                                                               'padding-bottom': 20, 'margin-left': 25,\n",
    "                                                                               'margin-right': 40, 'margin-top': 0,\n",
    "                                                                               'margin-bottom': 0, 'font-family':'Josefin Sans',\n",
    "                                                                               'font-weight':'300', 'font-size': 20,\n",
    "                                                                              }),\n",
    "            ]),\n",
    "                \n",
    "            \n",
    "            \n",
    "                \n",
    "            html.Div(id='container-button'),\n",
    "              \n",
    "    ])\n",
    "])\n",
    "\n",
    "@app.callback(Output('container-button', 'children'),\n",
    "              Input('btn-nclicks-1', 'n_clicks'),\n",
    "              Input('btn-nclicks-2', 'n_clicks'))\n",
    "\n",
    "def displayClick(btn1, btn2):\n",
    "    changed_id = [p['prop_id'] for p in dash.callback_context.triggered][0]\n",
    "    if 'btn-nclicks-1' in changed_id:\n",
    "        asset_1 = 'GLD'\n",
    "        asset_2 = 'GDXJ'\n",
    "        coint_test = eg_adf\n",
    "        test_statistic = test_stat\n",
    "        beta = eg_cointegration_vectors.loc[0][1]\n",
    "        portfolio_price = eg_portfolio_price\n",
    "        portfolio_return = eg_portfolio_returns\n",
    "        pacf = PACF\n",
    "        acf = ACF\n",
    "        residuals = res\n",
    "        qq_data = qq\n",
    "        x_data = x\n",
    "        res_data = res_df\n",
    "        \n",
    "    elif 'btn-nclicks-2' in changed_id:\n",
    "        asset_1 = 'GDXJ'\n",
    "        asset_2 = 'GLD'\n",
    "        coint_test = eg_adf_2\n",
    "        test_statistic = test_stat_2\n",
    "        beta = eg_cointegration_vectors_2.loc[0][1]\n",
    "        portfolio_price = eg_portfolio_price_2\n",
    "        portfolio_return = eg_portfolio_returns_2\n",
    "        pacf = PACF_2\n",
    "        acf = ACF_2\n",
    "        residuals = res_2\n",
    "        qq_data = qq_2\n",
    "        x_data = x_2\n",
    "        res_data = res_df_2\n",
    "        \n",
    "    else:\n",
    "        asset_1 = 'GLD'\n",
    "        asset_2 = 'GDXJ'\n",
    "        coint_test = eg_adf\n",
    "        test_statistic = test_stat\n",
    "        beta = eg_cointegration_vectors.loc[0][1]\n",
    "        portfolio_price = eg_portfolio_price\n",
    "        portfolio_return = eg_portfolio_returns\n",
    "        pacf = PACF\n",
    "        acf = ACF\n",
    "        residuals = res\n",
    "        qq_data = qq\n",
    "        x_data = x\n",
    "        res_data = res_df\n",
    "    \n",
    "    \n",
    "    portfolio = go.Figure()\n",
    "    portfolio.add_trace(go.Scatter(x=portfolio_price.index, y=portfolio_price,\n",
    "                    mode='lines', line=dict(color=blue), name='Portfolio price'))\n",
    "    portfolio.add_trace(go.Scatter(x=portfolio_return.index, y=portfolio_return,\n",
    "                    mode='lines', line=dict(color=orange), name='Portfolio return', visible='legendonly'))\n",
    "    portfolio.update_layout(\n",
    "        legend=dict(\n",
    "        yanchor=\"top\",\n",
    "        y=0.97,\n",
    "        xanchor=\"left\",\n",
    "        x=0.77),\n",
    "        title=\"Normalized portfolio\",\n",
    "        xaxis_title=\"Date\",\n",
    "        yaxis_title=\"Price\",\n",
    "        font_family='Josefin Sans', \n",
    "        font_size=18,\n",
    "        height=500,\n",
    "        )\n",
    "    portfolio.update_xaxes(rangeslider_visible=True)\n",
    "    \n",
    "    trace = {\n",
    "        \"name\": \"PACF\", \n",
    "        \"type\": \"bar\",\n",
    "        \"marker_color\": blue,\n",
    "        \"y\": pacf\n",
    "        \n",
    "    }\n",
    "    \n",
    "    _pacf_plot = go.Figure(data=trace)\n",
    "    \n",
    "    _pacf_plot.update_layout(\n",
    "        title=\"PACF\",\n",
    "        xaxis_title=\"Lag\",\n",
    "        #yaxis_title=\"Price\",\n",
    "        font_family='Josefin Sans', \n",
    "        font_size=14,\n",
    "        height = 250,\n",
    "        margin=dict(l=30, r=30, t=50, b=30))\n",
    "    \n",
    "    trace = {\n",
    "        \"name\": \"ACF\", \n",
    "        \"type\": \"bar\",\n",
    "        \"marker_color\": blue,\n",
    "        \"y\": acf\n",
    "        \n",
    "    }\n",
    "    \n",
    "    _acf_plot = go.Figure(data=trace)\n",
    "    \n",
    "    _acf_plot.update_layout(\n",
    "        title=\"ACF\",\n",
    "        xaxis_title=\"Lag\",\n",
    "        #yaxis_title=\"Price\",\n",
    "        font_family='Josefin Sans', \n",
    "        font_size=14,\n",
    "        height = 250,\n",
    "        margin=dict(l=30, r=30, t=50, b=30))\n",
    "    \n",
    "    resid_plot = go.Figure()\n",
    "    resid_plot.add_trace(go.Scatter(x=residuals.index, y=residuals,\n",
    "                    mode='lines', line=dict(color=orange)))\n",
    "    resid_plot.add_shape(type='line',\n",
    "                         x0='2015-12-31', y0=0, x1='2017-12-29', y1=0, \n",
    "                         line=dict(color=grey, dash='dash'))\n",
    "    resid_plot.update_layout(\n",
    "        title=\"Residuals plot\",\n",
    "        font_family='Josefin Sans', \n",
    "        font_size=14,\n",
    "        height = 250,\n",
    "        margin=dict(l=30, r=30, t=50, b=30)\n",
    "        )\n",
    "    \n",
    "    _qq_plot =  go.Figure()\n",
    "    _qq_plot.add_scatter(x=qq_data[0][0], y=qq_data[0][1], mode='markers', line=dict(color=blue))\n",
    "    _qq_plot.add_scatter(x=x, y=qq_data[1][1] + qq_data[1][0]*x_data, mode='lines', line=dict(color=grey))\n",
    "    _qq_plot.update_layout(\n",
    "            title=\"Q-Q Plot\",\n",
    "        font_family='Josefin Sans', \n",
    "        font_size=14,\n",
    "        height = 550,\n",
    "        margin=dict(l=30, r=30, t=50, b=30),\n",
    "        showlegend=False\n",
    "        )\n",
    "    \n",
    "        \n",
    "    \n",
    "    return html.Div(style={'padding-left': 50,\n",
    "                            'padding-right': 0,\n",
    "                            'padding-top': 20,\n",
    "                            'padding-bottom': 50,\n",
    "                            'margin-left': 50,\n",
    "                            'margin-right': 0,\n",
    "                            'margin-top': 0,\n",
    "                            'margin-bottom': 0,\n",
    "                            'backgroundColor': colors['white'],\n",
    "                            'horizontal-align': 'center', \n",
    "                             }, children=[\n",
    "        # Equation\n",
    "        html.Div(style={'backgroundColor': colors['white'],\n",
    "                        'padding-top': 30,\n",
    "                        'textAlign':'left', \n",
    "                        'horizontal-align':'center'}, children=[\n",
    "                 \n",
    "                 html.H2(children='{} ='.format(asset_1),\n",
    "                    style={'textAlign': 'left',\n",
    "                           'color': colors['text'],\n",
    "                           'font-family':'Josefin Sans', \n",
    "                           'font-weight':'300',\n",
    "                           'font-size': 30,\n",
    "                           'padding-bottom': 30,\n",
    "                           'display':'inline-block'\n",
    "                          }\n",
    "                    ),\n",
    "            \n",
    "                html.H2(children='⠀{}⠀'.format(round(beta,4)),\n",
    "                        style={'textAlign': 'left',\n",
    "                               'color': colors['highlight'],\n",
    "                               'font-family':'Josefin Sans', \n",
    "                               'font-weight':'400',\n",
    "                               'font-size': 30,\n",
    "                               'padding-bottom': 30,\n",
    "                               'display':'inline-block'\n",
    "                              }\n",
    "                        ),\n",
    "\n",
    "                html.H2(children='* {} + ε(t)'.format(asset_2),\n",
    "                        style={'textAlign': 'left',\n",
    "                               'color': colors['text'],\n",
    "                               'font-family':'Josefin Sans', \n",
    "                               'font-weight':'300',\n",
    "                               'font-size': 30,\n",
    "                               'padding-bottom': 30,\n",
    "                               'display':'inline-block'\n",
    "                              }\n",
    "                        ),\n",
    "                 \n",
    "             ]),\n",
    "        \n",
    "        # Coint tests\n",
    "        html.Div(children=[\n",
    "        \n",
    "            html.Div(style={'backgroundColor': colors['white'],\n",
    "                        'display':'inline-block', 'padding-left': 0,\n",
    "                        'padding-right': 50, 'padding-top': 0,\n",
    "                        'padding-bottom': 0, 'margin-left': 0,\n",
    "                        'margin-right': 10, 'margin-top': 0,\n",
    "                        'margin-bottom': 0, 'vertical-align':'center', \n",
    "                        'horizontal-align': 'center', 'width': '22%'}, children=[ \n",
    "\n",
    "\n",
    "                      html.H3(children='Cointegration test results:',\n",
    "                              style={'textAlign': 'left',\n",
    "                                       'color': colors['text'],\n",
    "                                       'font-family':'Josefin Sans', \n",
    "                                       'font-weight':'500',\n",
    "                                       'font-size': 22,\n",
    "                                       'padding-bottom': '2%',\n",
    "                                       'display':'block'\n",
    "                                      }\n",
    "                                ),\n",
    "                      html.P(children='HYPOTHESIS REJECTED',\n",
    "                            style={'textAlign': 'left',\n",
    "                                   'color': colors['orange'],\n",
    "                                   'font-family':'Josefin Sans', \n",
    "                                   'font-weight':'350',\n",
    "                                   'font-size': 20,\n",
    "                                   'padding-bottom': '15%',\n",
    "                                   'padding-top': 0,\n",
    "                                   'display':'block'\n",
    "                                  }\n",
    "                            ),\n",
    "\n",
    "                      dash_table.DataTable(\n",
    "                      data=coint_test.to_dict('records'),\n",
    "                        columns=[{'id': c, 'name': c} for c in coint_test.columns],\n",
    "                        style_as_list_view=True,\n",
    "\n",
    "                        style_cell={'padding': '10px', \n",
    "                                    'backgroundColor': 'white',\n",
    "                                    'fontSize': 14,\n",
    "                                    'font-family':'Roboto'},\n",
    "\n",
    "                        style_header={'backgroundColor': 'white',\n",
    "                                        'fontWeight': 'bold',\n",
    "                                        'fontSize': 14,\n",
    "                                        'font-family':'Josefin Sans'\n",
    "\n",
    "                        },),\n",
    "\n",
    "\n",
    "                      html.Div(style={'display':'block'},children=[\n",
    "\n",
    "                                  html.P(\n",
    "                                    children='Test statistic value: ',\n",
    "                                    style={'textAlign': 'left',\n",
    "                                           'color': colors['text'],\n",
    "                                           'font-family':'Josefin Sans', \n",
    "                                           'font-weight':'400',\n",
    "                                           'font-size': 18,\n",
    "                                           'padding-bottom': '10%',\n",
    "                                           'display':'inline-block'\n",
    "                                          }\n",
    "                                    ),\n",
    "\n",
    "                                 html.P(children='⠀{}⠀'.format(round(test_statistic,5)),\n",
    "                                        style={'textAlign': 'center',\n",
    "                                               'color': colors['highlight'],\n",
    "                                               'font-family':'Josefin Sans', \n",
    "                                               'font-weight':'400',\n",
    "                                               'font-size': 18,\n",
    "                                               'padding-bottom': '10%',\n",
    "                                               'display':'inline-block'\n",
    "                                              }\n",
    "                                        ),\n",
    "\n",
    "                                  ]),\n",
    "\n",
    "\n",
    "                  ]),\n",
    "\n",
    "                  dcc.Graph(\n",
    "                      id='example-graph-3',\n",
    "                      figure=portfolio,\n",
    "                      style={'width': '68%', \n",
    "                     'height': '100%',\n",
    "                     'padding-left': 50,\n",
    "                     #'padding-right': 50,\n",
    "                     'padding-top': 0,\n",
    "                     'padding-bottom': 50, \n",
    "                     #'margin-right': 50, \n",
    "                     'margin-top': 0,\n",
    "                     'margin-bottom': 0, 'vertical-align':'top', \n",
    "                     'horizontal-align': 'right',\n",
    "                     'display':'inline-block',\n",
    "                     'font-family':'Josefin Sans', \n",
    "                     'font-weight':'300',\n",
    "                     'font-size': 20,})                                          \n",
    "        \n",
    "        ]),\n",
    "        \n",
    "        # Coint tests\n",
    "        html.Div(id='resid',children=[\n",
    "            \n",
    "            html.Div(style={'backgroundColor': colors['white'],\n",
    "                        'display':'inline-block', 'padding-left': 0,\n",
    "                        'padding-right': 0, 'padding-top': 0,\n",
    "                        'padding-bottom': 0, 'margin-left': 0,\n",
    "                        'margin-right': 0, 'margin-top': 0,\n",
    "                        'margin-bottom': 0, 'vertical-align':'center', \n",
    "                        'horizontal-align': 'center', 'width': '100%'}, children=[ \n",
    "\n",
    "\n",
    "                      html.H3(children='Residuals analysis results:',\n",
    "                              style={'textAlign': 'left',\n",
    "                                       'color': colors['text'],\n",
    "                                       'font-family':'Josefin Sans', \n",
    "                                       'font-weight':'500',\n",
    "                                       'font-size': 22,\n",
    "                                       'padding-bottom': '2%',\n",
    "                                       'display':'block'\n",
    "                                      }\n",
    "                                ),\n",
    "                html.Div(style={'backgroundColor': colors['white'],\n",
    "                        'display':'inline-block', 'padding-left': 0,\n",
    "                        'padding-right': 20, 'padding-top': 0,\n",
    "                        'padding-bottom': 0, 'margin-left': 0,\n",
    "                        'margin-right': 0, 'margin-top': 0,\n",
    "                        'margin-bottom': 0, 'vertical-align':'top', \n",
    "                        'horizontal-align': 'center', 'width': '30%'}, children=[ \n",
    "                    \n",
    "                 dash_table.DataTable(\n",
    "                      data=res_data.to_dict('records'),\n",
    "                        columns=[{'id': c, 'name': c} for c in res_data.columns],\n",
    "                        style_as_list_view=True,\n",
    "\n",
    "                        style_cell={'padding': '10px', \n",
    "                                    'backgroundColor': 'white',\n",
    "                                    'fontSize': 14,\n",
    "                                    'font-family':'Roboto',\n",
    "                                    'textAlign':'left'},\n",
    "\n",
    "                        style_header={'padding': '15px',\n",
    "                                      'backgroundColor': colors['background'],\n",
    "                                      'fontSize': 18,\n",
    "                                      'font-family':'Josefin Sans',\n",
    "                                      'textAlign':'left'\n",
    "\n",
    "                        }),\n",
    "                    \n",
    "                 dcc.Graph(\n",
    "                          id='example-graph-9',\n",
    "                          figure=resid_plot,\n",
    "                          style={'width': '100%', \n",
    "                         'height': '100%',\n",
    "                         'padding-left': 0,\n",
    "                         #'padding-right': 50,\n",
    "                         'padding-top': 50,\n",
    "                         'padding-bottom': 0, \n",
    "                         #'margin-right': 50, \n",
    "                         'margin-top': 0,\n",
    "                         'margin-bottom': 0, 'vertical-align':'top', \n",
    "                         'horizontal-align': 'right',\n",
    "                         'display':'block',\n",
    "                         'font-family':'Josefin Sans', \n",
    "                         'font-weight':'300',\n",
    "                         'font-size': 20,}),\n",
    "                \n",
    "                ]),\n",
    "                \n",
    "                \n",
    "                html.Div(style={'backgroundColor': colors['white'],\n",
    "                        'display':'inline-block', 'width': '30%', 'vertical-align':'center', \n",
    "                        'horizontal-align': 'center',},children=[\n",
    "                    \n",
    "                      dcc.Graph(\n",
    "                          id='example-graph-4',\n",
    "                          figure=_pacf_plot,\n",
    "                          style={'width': '100%', \n",
    "                         'height': '100%',\n",
    "                         'padding-left': 0,\n",
    "                         #'padding-right': 50,\n",
    "                         'padding-top': 0,\n",
    "                         'padding-bottom': 50, \n",
    "                         #'margin-right': 50, \n",
    "                         'margin-top': 0,\n",
    "                         'margin-bottom': 0, 'vertical-align':'top', \n",
    "                         'horizontal-align': 'right',\n",
    "                         'display':'block',\n",
    "                         'font-family':'Josefin Sans', \n",
    "                         'font-weight':'300',\n",
    "                         'font-size': 20,}),\n",
    "                \n",
    "                      dcc.Graph(\n",
    "                          id='example-graph-5',\n",
    "                          figure=_acf_plot,\n",
    "                          style={'width': '100%', \n",
    "                         'height': '100%',\n",
    "                         'padding-left': 0,\n",
    "                         #'padding-right': 50,\n",
    "                         'padding-top': 0,\n",
    "                         'padding-bottom': 50, \n",
    "                         #'margin-right': 50, \n",
    "                         'margin-top': 0,\n",
    "                         'margin-bottom': 0, 'vertical-align':'top', \n",
    "                         'horizontal-align': 'right',\n",
    "                         'display':'block',\n",
    "                         'font-family':'Josefin Sans', \n",
    "                         'font-weight':'300',\n",
    "                         'font-size': 20,}),\n",
    "                ]),\n",
    "                \n",
    "                html.Div(style={'backgroundColor': colors['white'],\n",
    "                        'display':'inline-block', 'padding-left': 0,\n",
    "                        'padding-right': 0, 'padding-top': 0,\n",
    "                        'padding-bottom': 0, 'margin-left': 0,\n",
    "                        'margin-right': 0, 'margin-top': 0,\n",
    "                        'margin-bottom': 0, 'vertical-align':'center', \n",
    "                        'horizontal-align': 'center', 'width': '30%'}, children=[ \n",
    "                    \n",
    "                 dcc.Graph(\n",
    "                          id='example-graph-6',\n",
    "                          figure=_qq_plot,\n",
    "                          style={'width': '100%', \n",
    "                         'height': '100%',\n",
    "                         'padding-left': 10,\n",
    "                         #'padding-right': 50,\n",
    "                         'padding-top': 0,\n",
    "                         'padding-bottom': 50, \n",
    "                         #'margin-right': 50, \n",
    "                         'margin-top': 0,\n",
    "                         'margin-bottom': 0, 'vertical-align':'top', \n",
    "                         'horizontal-align': 'right',\n",
    "                         'display':'block',\n",
    "                         'font-family':'Josefin Sans', \n",
    "                         'font-weight':'300',\n",
    "                         'font-size': 20,}),\n",
    "                \n",
    "                 \n",
    "                ]),\n",
    "                \n",
    "                \n",
    "            \n",
    "            ]), \n",
    "            \n",
    "            \n",
    "            \n",
    "            \n",
    "            \n",
    "        ]),\n",
    "        \n",
    "    \n",
    "   ])\n",
    "        \n",
    "        \n",
    "if __name__ == '__main__':\n",
    "    app.run_server()"
   ]
  },
  {
   "cell_type": "code",
   "execution_count": 244,
   "metadata": {},
   "outputs": [
    {
     "data": {
      "text/plain": [
       "Date\n",
       "2015-12-31   -0.006846\n",
       "2016-01-04   -0.693621\n",
       "2016-01-05   -0.906633\n",
       "2016-01-06   -1.876581\n",
       "2016-01-07   -2.717559\n",
       "                ...   \n",
       "2017-12-22   -1.884535\n",
       "2017-12-26   -1.849172\n",
       "2017-12-27   -2.284814\n",
       "2017-12-28   -2.829142\n",
       "2017-12-29   -3.635963\n",
       "Name: GDXJ, Length: 504, dtype: float64"
      ]
     },
     "execution_count": 244,
     "metadata": {},
     "output_type": "execute_result"
    }
   ],
   "source": [
    "            \n",
    "#             html.Div(style={'padding-top': 0,\n",
    "#                             'padding-left': 50,\n",
    "#                             'margin-top': 0,\n",
    "#                             'margin-left': 'auto',\n",
    "#                             'margin-right': 'auto',\n",
    "#                             'backgroundColor': colors['white'],\n",
    "#                             'horizontal-align': 'center'}, children=[\n",
    "        \n",
    "#         html.Div(style={'backgroundColor': colors['white'],\n",
    "#                                 'display':'inline-block', 'padding-left': 0,\n",
    "#                                 'padding-right': 0, 'padding-top': 50,\n",
    "#                                 'padding-bottom': '6%', 'margin-left': 0,\n",
    "#                                 'margin-right': 0, 'margin-top': 50,\n",
    "#                                 'margin-bottom': 50, 'vertical-align':'center', \n",
    "#                                 'horizontal-align': 'center', 'height': 315}, children=[ \n",
    "                    \n",
    "                    \n",
    "#                     html.H2(\n",
    "#                         children='{} = {} * {} + ε(t)'.format('GLD',\n",
    "#                                                                eg_cointegration_vectors.loc[0][1], \n",
    "#                                                               'GDXJ'),\n",
    "#                         style={'textAlign': 'left',\n",
    "#                                'color': colors['text'],\n",
    "#                                'font-family':'Josefin Sans', \n",
    "#                                'font-weight':'500',\n",
    "#                                'font-size': 26,\n",
    "#                                'padding-bottom': '20%',\n",
    "#                               }\n",
    "#                     ),\n",
    "\n",
    "#                     html.P(\n",
    "#                     children='GLD',\n",
    "#                     style={'textAlign': 'left',\n",
    "#                            'color': colors['highlight'],\n",
    "#                            'font-family':'Josefin Sans', \n",
    "#                            'font-weight':'500',\n",
    "#                            'font-size': 24,\n",
    "#                           }\n",
    "#                     ),\n",
    "\n",
    "\n",
    "#                     html.P(\n",
    "#                     children='The hypothesis is not rejected at 95% confidence level',\n",
    "#                     style={'textAlign': 'left',\n",
    "#                            'color': colors['text'],\n",
    "#                            'font-family':'Roboto', \n",
    "#                            'font-weight':'300',\n",
    "#                            'font-size': 24,\n",
    "#                            }\n",
    "#                     ),\n",
    "\n",
    "#                     html.P(\n",
    "#                     children='GDXJ',\n",
    "#                     style={'textAlign': 'left',\n",
    "#                            'color': colors['highlight'],\n",
    "#                            'font-family':'Josefin Sans', \n",
    "#                            'font-weight':'500',\n",
    "#                            'font-size': 24,\n",
    "#                           }\n",
    "#                     ),\n",
    "\n",
    "\n",
    "#                     html.P(\n",
    "#                     children='The hypothesis is not rejected at 90% confidence level',\n",
    "#                     style={'textAlign': 'left',\n",
    "#                            'color': colors['text'],\n",
    "#                            'font-family':'Roboto', \n",
    "#                            'font-weight':'300',\n",
    "#                            'font-size': 24,\n",
    "#                           }\n",
    "#                     ),\n",
    "\n",
    "\n",
    "#                 ]), \n",
    "#             ]),\n",
    "                \n",
    "                \n",
    "  "
   ]
  },
  {
   "cell_type": "code",
   "execution_count": 255,
   "metadata": {},
   "outputs": [
    {
     "data": {
      "text/plain": [
       "Date\n",
       "2015-12-31   -0.006846\n",
       "2016-01-04   -0.693621\n",
       "2016-01-05   -0.906633\n",
       "2016-01-06   -1.876581\n",
       "2016-01-07   -2.717559\n",
       "                ...   \n",
       "2017-12-22   -1.884535\n",
       "2017-12-26   -1.849172\n",
       "2017-12-27   -2.284814\n",
       "2017-12-28   -2.829142\n",
       "2017-12-29   -3.635963\n",
       "Name: GDXJ, Length: 504, dtype: float64"
      ]
     },
     "execution_count": 255,
     "metadata": {},
     "output_type": "execute_result"
    }
   ],
   "source": [
    "res_2"
   ]
  },
  {
   "cell_type": "code",
   "execution_count": 156,
   "metadata": {},
   "outputs": [],
   "source": [
    "eg_adf_statistics[' '] = eg_adf_statistics.index\n",
    "\n",
    "eg_adf = eg_adf_statistics[:-1]\n"
   ]
  },
  {
   "cell_type": "code",
   "execution_count": 76,
   "metadata": {},
   "outputs": [],
   "source": [
    "eg_adf_statistics_2[' '] = eg_adf_statistics_2.index\n",
    "\n",
    "eg_adf_2 = eg_adf_statistics_2[:-1]\n"
   ]
  },
  {
   "cell_type": "code",
   "execution_count": 86,
   "metadata": {},
   "outputs": [
    {
     "data": {
      "text/plain": [
       "-0.6300681663889197"
      ]
     },
     "execution_count": 86,
     "metadata": {},
     "output_type": "execute_result"
    }
   ],
   "source": [
    "# Weights of elements for the Engle-Granger portfolio\n",
    "eg_cointegration_vectors.loc[0][1]"
   ]
  },
  {
   "cell_type": "code",
   "execution_count": 368,
   "metadata": {},
   "outputs": [
    {
     "data": {
      "text/html": [
       "<div>\n",
       "<style scoped>\n",
       "    .dataframe tbody tr th:only-of-type {\n",
       "        vertical-align: middle;\n",
       "    }\n",
       "\n",
       "    .dataframe tbody tr th {\n",
       "        vertical-align: top;\n",
       "    }\n",
       "\n",
       "    .dataframe thead th {\n",
       "        text-align: right;\n",
       "    }\n",
       "</style>\n",
       "<table border=\"1\" class=\"dataframe\">\n",
       "  <thead>\n",
       "    <tr style=\"text-align: right;\">\n",
       "      <th></th>\n",
       "      <th>Value</th>\n",
       "      <th>Significance level</th>\n",
       "    </tr>\n",
       "  </thead>\n",
       "  <tbody>\n",
       "    <tr>\n",
       "      <th>99%</th>\n",
       "      <td>-3.44350</td>\n",
       "      <td>99%</td>\n",
       "    </tr>\n",
       "    <tr>\n",
       "      <th>95%</th>\n",
       "      <td>-2.86734</td>\n",
       "      <td>95%</td>\n",
       "    </tr>\n",
       "    <tr>\n",
       "      <th>90%</th>\n",
       "      <td>-2.56986</td>\n",
       "      <td>90%</td>\n",
       "    </tr>\n",
       "  </tbody>\n",
       "</table>\n",
       "</div>"
      ],
      "text/plain": [
       "       Value Significance level\n",
       "99% -3.44350                99%\n",
       "95% -2.86734                95%\n",
       "90% -2.56986                90%"
      ]
     },
     "execution_count": 368,
     "metadata": {},
     "output_type": "execute_result"
    }
   ],
   "source": [
    "eg_adf=eg_adf.set_axis(['Value', 'Significance level'], axis=1, inplace=False)\n",
    "eg_adf = eg_adf\n",
    "eg_adf['Value'] = eg_adf['Value'].round(decimals=5)\n",
    "eg_adf = eg_adf\n",
    "eg_adf"
   ]
  },
  {
   "cell_type": "code",
   "execution_count": 366,
   "metadata": {},
   "outputs": [
    {
     "data": {
      "text/html": [
       "<div>\n",
       "<style scoped>\n",
       "    .dataframe tbody tr th:only-of-type {\n",
       "        vertical-align: middle;\n",
       "    }\n",
       "\n",
       "    .dataframe tbody tr th {\n",
       "        vertical-align: top;\n",
       "    }\n",
       "\n",
       "    .dataframe thead th {\n",
       "        text-align: right;\n",
       "    }\n",
       "</style>\n",
       "<table border=\"1\" class=\"dataframe\">\n",
       "  <thead>\n",
       "    <tr style=\"text-align: right;\">\n",
       "      <th></th>\n",
       "      <th>Value</th>\n",
       "      <th>Significance level</th>\n",
       "    </tr>\n",
       "  </thead>\n",
       "  <tbody>\n",
       "    <tr>\n",
       "      <th>99%</th>\n",
       "      <td>-3.44342</td>\n",
       "      <td>99%</td>\n",
       "    </tr>\n",
       "    <tr>\n",
       "      <th>95%</th>\n",
       "      <td>-2.86730</td>\n",
       "      <td>95%</td>\n",
       "    </tr>\n",
       "    <tr>\n",
       "      <th>90%</th>\n",
       "      <td>-2.56984</td>\n",
       "      <td>90%</td>\n",
       "    </tr>\n",
       "  </tbody>\n",
       "</table>\n",
       "</div>"
      ],
      "text/plain": [
       "       Value Significance level\n",
       "99% -3.44342                99%\n",
       "95% -2.86730                95%\n",
       "90% -2.56984                90%"
      ]
     },
     "execution_count": 366,
     "metadata": {},
     "output_type": "execute_result"
    }
   ],
   "source": [
    "eg_adf_2=eg_adf_2.set_axis(['Value', 'Significance level'], axis=1, inplace=False)\n",
    "eg_adf_2 = eg_adf_2\n",
    "eg_adf_2['Value'] = round(eg_adf_2['Value'],5)\n",
    "eg_adf_2 = eg_adf_2\n",
    "eg_adf_2"
   ]
  },
  {
   "cell_type": "code",
   "execution_count": 315,
   "metadata": {},
   "outputs": [
    {
     "data": {
      "text/plain": [
       "GLD     0.613471\n",
       "GDXJ   -0.386529\n",
       "Name: 0, dtype: float64"
      ]
     },
     "execution_count": 315,
     "metadata": {},
     "output_type": "execute_result"
    }
   ],
   "source": [
    "# Scaling weights so they sum up to 1\n",
    "eg_scaled_vectors = eg_cointegration_vectors.loc[0] / abs(eg_cointegration_vectors.loc[0]).sum()\n",
    "\n",
    "eg_scaled_vectors"
   ]
  },
  {
   "cell_type": "code",
   "execution_count": 104,
   "metadata": {},
   "outputs": [],
   "source": [
    "# Calculating portfolio values during the training period\n",
    "eg_portfolio_returns = (train_three_elements_returns * eg_scaled_vectors * weights).sum(axis=1)\n",
    "eg_portfolio_price = (eg_portfolio_returns + 1).cumprod()"
   ]
  },
  {
   "cell_type": "code",
   "execution_count": 105,
   "metadata": {},
   "outputs": [
    {
     "data": {
      "image/png": "[encoded data removed]",
      "text/plain": [
       "<Figure size 720x360 with 1 Axes>"
      ]
     },
     "metadata": {
      "needs_background": "light"
     },
     "output_type": "display_data"
    }
   ],
   "source": [
    "# Plotting Engle-Granger portfolio price\n",
    "eg_portfolio_price.plot(title='Engle-Granger portfolio price', figsize=(10,5));"
   ]
  },
  {
   "cell_type": "code",
   "execution_count": 143,
   "metadata": {
    "collapsed": true,
    "jupyter": {
     "outputs_hidden": true
    }
   },
   "outputs": [
    {
     "name": "stdout",
     "output_type": "stream",
     "text": [
      "Dash is running on http://127.0.0.1:8050/\n",
      "\n",
      "Dash is running on http://127.0.0.1:8050/\n",
      "\n",
      "Dash is running on http://127.0.0.1:8050/\n",
      "\n",
      "Dash is running on http://127.0.0.1:8050/\n",
      "\n",
      "Dash is running on http://127.0.0.1:8050/\n",
      "\n",
      "Dash is running on http://127.0.0.1:8050/\n",
      "\n",
      "Dash is running on http://127.0.0.1:8050/\n",
      "\n",
      "Dash is running on http://127.0.0.1:8050/\n",
      "\n",
      "Dash is running on http://127.0.0.1:8050/\n",
      "\n",
      "Dash is running on http://127.0.0.1:8050/\n",
      "\n",
      "Dash is running on http://127.0.0.1:8050/\n",
      "\n",
      "Dash is running on http://127.0.0.1:8050/\n",
      "\n",
      "Dash is running on http://127.0.0.1:8050/\n",
      "\n",
      "Dash is running on http://127.0.0.1:8050/\n",
      "\n",
      "Dash is running on http://127.0.0.1:8050/\n",
      "\n",
      "Dash is running on http://127.0.0.1:8050/\n",
      "\n",
      "Dash is running on http://127.0.0.1:8050/\n",
      "\n",
      "Dash is running on http://127.0.0.1:8050/\n",
      "\n",
      "Dash is running on http://127.0.0.1:8050/\n",
      "\n",
      "Dash is running on http://127.0.0.1:8050/\n",
      "\n",
      "Dash is running on http://127.0.0.1:8050/\n",
      "\n",
      "Dash is running on http://127.0.0.1:8050/\n",
      "\n",
      "Dash is running on http://127.0.0.1:8050/\n",
      "\n",
      "Dash is running on http://127.0.0.1:8050/\n",
      "\n",
      "Dash is running on http://127.0.0.1:8050/\n",
      "\n",
      "Dash is running on http://127.0.0.1:8050/\n",
      "\n",
      "Dash is running on http://127.0.0.1:8050/\n",
      "\n",
      "Dash is running on http://127.0.0.1:8050/\n",
      "\n",
      "Dash is running on http://127.0.0.1:8050/\n",
      "\n",
      "Dash is running on http://127.0.0.1:8050/\n",
      "\n",
      "Dash is running on http://127.0.0.1:8050/\n",
      "\n",
      "Dash is running on http://127.0.0.1:8050/\n",
      "\n",
      "Dash is running on http://127.0.0.1:8050/\n",
      "\n",
      "Dash is running on http://127.0.0.1:8050/\n",
      "\n",
      "Dash is running on http://127.0.0.1:8050/\n",
      "\n",
      "Dash is running on http://127.0.0.1:8050/\n",
      "\n",
      "Dash is running on http://127.0.0.1:8050/\n",
      "\n",
      "Dash is running on http://127.0.0.1:8050/\n",
      "\n",
      "Dash is running on http://127.0.0.1:8050/\n",
      "\n",
      "Dash is running on http://127.0.0.1:8050/\n",
      "\n",
      "Dash is running on http://127.0.0.1:8050/\n",
      "\n",
      "Dash is running on http://127.0.0.1:8050/\n",
      "\n",
      "Dash is running on http://127.0.0.1:8050/\n",
      "\n",
      "Dash is running on http://127.0.0.1:8050/\n",
      "\n",
      "Dash is running on http://127.0.0.1:8050/\n",
      "\n",
      "Dash is running on http://127.0.0.1:8050/\n",
      "\n",
      "Dash is running on http://127.0.0.1:8050/\n",
      "\n",
      "Dash is running on http://127.0.0.1:8050/\n",
      "\n",
      "Dash is running on http://127.0.0.1:8050/\n",
      "\n",
      "Dash is running on http://127.0.0.1:8050/\n",
      "\n",
      "Dash is running on http://127.0.0.1:8050/\n",
      "\n",
      "Dash is running on http://127.0.0.1:8050/\n",
      "\n",
      "Dash is running on http://127.0.0.1:8050/\n",
      "\n",
      "Dash is running on http://127.0.0.1:8050/\n",
      "\n",
      "Dash is running on http://127.0.0.1:8050/\n",
      "\n",
      "Dash is running on http://127.0.0.1:8050/\n",
      "\n",
      "Dash is running on http://127.0.0.1:8050/\n",
      "\n",
      "Dash is running on http://127.0.0.1:8050/\n",
      "\n",
      "Dash is running on http://127.0.0.1:8050/\n",
      "\n",
      "Dash is running on http://127.0.0.1:8050/\n",
      "\n",
      "Dash is running on http://127.0.0.1:8050/\n",
      "\n",
      "Dash is running on http://127.0.0.1:8050/\n",
      "\n",
      "Dash is running on http://127.0.0.1:8050/\n",
      "\n",
      "Dash is running on http://127.0.0.1:8050/\n",
      "\n",
      "Dash is running on http://127.0.0.1:8050/\n",
      "\n",
      "Dash is running on http://127.0.0.1:8050/\n",
      "\n",
      "Dash is running on http://127.0.0.1:8050/\n",
      "\n",
      "Dash is running on http://127.0.0.1:8050/\n",
      "\n",
      "Dash is running on http://127.0.0.1:8050/\n",
      "\n",
      "Dash is running on http://127.0.0.1:8050/\n",
      "\n",
      "Dash is running on http://127.0.0.1:8050/\n",
      "\n",
      "Dash is running on http://127.0.0.1:8050/\n",
      "\n"
     ]
    },
    {
     "name": "stderr",
     "output_type": "stream",
     "text": [
      "INFO:__main__:Dash is running on http://127.0.0.1:8050/\n",
      "\n"
     ]
    },
    {
     "name": "stdout",
     "output_type": "stream",
     "text": [
      " * Serving Flask app \"__main__\" (lazy loading)\n",
      " * Environment: production\n",
      "   WARNING: This is a development server. Do not use it in a production deployment.\n",
      "   Use a production WSGI server instead.\n",
      " * Debug mode: off\n"
     ]
    }
   ],
   "source": [
    "external_stylesheets = ['https://codepen.io/chriddyp/pen/bWLwgP.css']\n",
    "\n",
    "app = dash.Dash(__name__, external_stylesheets=external_stylesheets)\n",
    "\n",
    "fig = go.Figure()\n",
    "fig.add_trace(go.Scatter(x=eg_portfolio_price.index, y=eg_portfolio_price,\n",
    "                    mode='lines', line=dict(color='darkturquoise')))\n",
    "fig.update_layout(\n",
    "    title=\"GLD/GDXJ portfolio price\",\n",
    "    xaxis_title=\"Date\",\n",
    "    yaxis_title=\"Price\",\n",
    "    #     autosize=False,\n",
    "    #     width=500,\n",
    "         height=500,\n",
    "    )\n",
    "\n",
    "fig.update_xaxes(rangeslider_visible=True)\n",
    "\n",
    "app.layout = html.Div(children=[\n",
    "    \n",
    "    \n",
    "     dcc.Graph(\n",
    "        id='example-graph',\n",
    "        figure=fig\n",
    "        , style={'width':'90%', \n",
    "                    'height':'90%',\n",
    "                    'margin-top': 30,\n",
    "                    'margin-rigt': 30, \n",
    "#                     'vertical-align': 'top', \n",
    "                    'horizontal-align': 'left',\n",
    "#                     'display':'inline-block'\n",
    "                })  \n",
    "\n",
    "    \n",
    "    \n",
    "])\n",
    "\n",
    "if __name__ == '__main__':\n",
    "    app.run_server()"
   ]
  },
  {
   "cell_type": "code",
   "execution_count": 142,
   "metadata": {
    "collapsed": true,
    "jupyter": {
     "outputs_hidden": true
    }
   },
   "outputs": [
    {
     "name": "stdout",
     "output_type": "stream",
     "text": [
      "Dash is running on http://127.0.0.1:8050/\n",
      "\n",
      "Dash is running on http://127.0.0.1:8050/\n",
      "\n",
      "Dash is running on http://127.0.0.1:8050/\n",
      "\n",
      "Dash is running on http://127.0.0.1:8050/\n",
      "\n",
      "Dash is running on http://127.0.0.1:8050/\n",
      "\n",
      "Dash is running on http://127.0.0.1:8050/\n",
      "\n",
      "Dash is running on http://127.0.0.1:8050/\n",
      "\n",
      "Dash is running on http://127.0.0.1:8050/\n",
      "\n",
      "Dash is running on http://127.0.0.1:8050/\n",
      "\n",
      "Dash is running on http://127.0.0.1:8050/\n",
      "\n",
      "Dash is running on http://127.0.0.1:8050/\n",
      "\n",
      "Dash is running on http://127.0.0.1:8050/\n",
      "\n",
      "Dash is running on http://127.0.0.1:8050/\n",
      "\n",
      "Dash is running on http://127.0.0.1:8050/\n",
      "\n",
      "Dash is running on http://127.0.0.1:8050/\n",
      "\n",
      "Dash is running on http://127.0.0.1:8050/\n",
      "\n",
      "Dash is running on http://127.0.0.1:8050/\n",
      "\n",
      "Dash is running on http://127.0.0.1:8050/\n",
      "\n",
      "Dash is running on http://127.0.0.1:8050/\n",
      "\n",
      "Dash is running on http://127.0.0.1:8050/\n",
      "\n",
      "Dash is running on http://127.0.0.1:8050/\n",
      "\n",
      "Dash is running on http://127.0.0.1:8050/\n",
      "\n",
      "Dash is running on http://127.0.0.1:8050/\n",
      "\n",
      "Dash is running on http://127.0.0.1:8050/\n",
      "\n",
      "Dash is running on http://127.0.0.1:8050/\n",
      "\n",
      "Dash is running on http://127.0.0.1:8050/\n",
      "\n",
      "Dash is running on http://127.0.0.1:8050/\n",
      "\n",
      "Dash is running on http://127.0.0.1:8050/\n",
      "\n",
      "Dash is running on http://127.0.0.1:8050/\n",
      "\n",
      "Dash is running on http://127.0.0.1:8050/\n",
      "\n",
      "Dash is running on http://127.0.0.1:8050/\n",
      "\n",
      "Dash is running on http://127.0.0.1:8050/\n",
      "\n",
      "Dash is running on http://127.0.0.1:8050/\n",
      "\n",
      "Dash is running on http://127.0.0.1:8050/\n",
      "\n",
      "Dash is running on http://127.0.0.1:8050/\n",
      "\n",
      "Dash is running on http://127.0.0.1:8050/\n",
      "\n",
      "Dash is running on http://127.0.0.1:8050/\n",
      "\n",
      "Dash is running on http://127.0.0.1:8050/\n",
      "\n",
      "Dash is running on http://127.0.0.1:8050/\n",
      "\n",
      "Dash is running on http://127.0.0.1:8050/\n",
      "\n",
      "Dash is running on http://127.0.0.1:8050/\n",
      "\n",
      "Dash is running on http://127.0.0.1:8050/\n",
      "\n",
      "Dash is running on http://127.0.0.1:8050/\n",
      "\n",
      "Dash is running on http://127.0.0.1:8050/\n",
      "\n",
      "Dash is running on http://127.0.0.1:8050/\n",
      "\n",
      "Dash is running on http://127.0.0.1:8050/\n",
      "\n",
      "Dash is running on http://127.0.0.1:8050/\n",
      "\n",
      "Dash is running on http://127.0.0.1:8050/\n",
      "\n",
      "Dash is running on http://127.0.0.1:8050/\n",
      "\n",
      "Dash is running on http://127.0.0.1:8050/\n",
      "\n",
      "Dash is running on http://127.0.0.1:8050/\n",
      "\n",
      "Dash is running on http://127.0.0.1:8050/\n",
      "\n",
      "Dash is running on http://127.0.0.1:8050/\n",
      "\n",
      "Dash is running on http://127.0.0.1:8050/\n",
      "\n",
      "Dash is running on http://127.0.0.1:8050/\n",
      "\n",
      "Dash is running on http://127.0.0.1:8050/\n",
      "\n",
      "Dash is running on http://127.0.0.1:8050/\n",
      "\n",
      "Dash is running on http://127.0.0.1:8050/\n",
      "\n",
      "Dash is running on http://127.0.0.1:8050/\n",
      "\n",
      "Dash is running on http://127.0.0.1:8050/\n",
      "\n",
      "Dash is running on http://127.0.0.1:8050/\n",
      "\n",
      "Dash is running on http://127.0.0.1:8050/\n",
      "\n",
      "Dash is running on http://127.0.0.1:8050/\n",
      "\n",
      "Dash is running on http://127.0.0.1:8050/\n",
      "\n",
      "Dash is running on http://127.0.0.1:8050/\n",
      "\n",
      "Dash is running on http://127.0.0.1:8050/\n",
      "\n",
      "Dash is running on http://127.0.0.1:8050/\n",
      "\n",
      "Dash is running on http://127.0.0.1:8050/\n",
      "\n",
      "Dash is running on http://127.0.0.1:8050/\n",
      "\n",
      "Dash is running on http://127.0.0.1:8050/\n",
      "\n",
      "Dash is running on http://127.0.0.1:8050/\n",
      "\n"
     ]
    },
    {
     "name": "stderr",
     "output_type": "stream",
     "text": [
      "INFO:__main__:Dash is running on http://127.0.0.1:8050/\n",
      "\n"
     ]
    },
    {
     "name": "stdout",
     "output_type": "stream",
     "text": [
      " * Serving Flask app \"__main__\" (lazy loading)\n",
      " * Environment: production\n",
      "   WARNING: This is a development server. Do not use it in a production deployment.\n",
      "   Use a production WSGI server instead.\n",
      " * Debug mode: off\n"
     ]
    }
   ],
   "source": [
    "external_stylesheets = ['https://codepen.io/chriddyp/pen/bWLwgP.css']\n",
    "\n",
    "app = dash.Dash(__name__, external_stylesheets=external_stylesheets)\n",
    "\n",
    "fig = go.Figure()\n",
    "fig.add_trace(go.Scatter(x=eg_portfolio_price.index, y=eg_portfolio_price,\n",
    "                    mode='lines', line=dict(color='darkturquoise')))\n",
    "fig.update_layout(\n",
    "    title=\"GLD/GDXJ portfolio price\",\n",
    "    xaxis_title=\"Date\",\n",
    "    yaxis_title=\"Price\",\n",
    "    #     autosize=False,\n",
    "    #     width=500,\n",
    "         height=500,\n",
    "    )\n",
    "\n",
    "fig.update_xaxes(rangeslider_visible=True)\n",
    "\n",
    "app.layout = html.Div(children=[\n",
    "    \n",
    "    \n",
    "     dcc.Graph(\n",
    "        id='example-graph',\n",
    "        figure=fig\n",
    "        , style={'width':'90%', \n",
    "                    'height':'90%',\n",
    "                    'margin-top': 30,\n",
    "                    'margin-rigt': 30, \n",
    "#                     'vertical-align': 'top', \n",
    "                    'horizontal-align': 'left',\n",
    "#                     'display':'inline-block'\n",
    "                })  \n",
    "\n",
    "    \n",
    "    \n",
    "])\n",
    "\n",
    "if __name__ == '__main__':\n",
    "    app.run_server()"
   ]
  },
  {
   "cell_type": "code",
   "execution_count": 130,
   "metadata": {
    "collapsed": true,
    "jupyter": {
     "outputs_hidden": true
    }
   },
   "outputs": [
    {
     "name": "stdout",
     "output_type": "stream",
     "text": [
      "Dash is running on http://127.0.0.1:8050/\n",
      "\n",
      "Dash is running on http://127.0.0.1:8050/\n",
      "\n",
      "Dash is running on http://127.0.0.1:8050/\n",
      "\n",
      "Dash is running on http://127.0.0.1:8050/\n",
      "\n",
      "Dash is running on http://127.0.0.1:8050/\n",
      "\n",
      "Dash is running on http://127.0.0.1:8050/\n",
      "\n",
      "Dash is running on http://127.0.0.1:8050/\n",
      "\n",
      "Dash is running on http://127.0.0.1:8050/\n",
      "\n",
      "Dash is running on http://127.0.0.1:8050/\n",
      "\n",
      "Dash is running on http://127.0.0.1:8050/\n",
      "\n",
      "Dash is running on http://127.0.0.1:8050/\n",
      "\n",
      "Dash is running on http://127.0.0.1:8050/\n",
      "\n",
      "Dash is running on http://127.0.0.1:8050/\n",
      "\n",
      "Dash is running on http://127.0.0.1:8050/\n",
      "\n",
      "Dash is running on http://127.0.0.1:8050/\n",
      "\n",
      "Dash is running on http://127.0.0.1:8050/\n",
      "\n",
      "Dash is running on http://127.0.0.1:8050/\n",
      "\n",
      "Dash is running on http://127.0.0.1:8050/\n",
      "\n",
      "Dash is running on http://127.0.0.1:8050/\n",
      "\n",
      "Dash is running on http://127.0.0.1:8050/\n",
      "\n",
      "Dash is running on http://127.0.0.1:8050/\n",
      "\n",
      "Dash is running on http://127.0.0.1:8050/\n",
      "\n",
      "Dash is running on http://127.0.0.1:8050/\n",
      "\n",
      "Dash is running on http://127.0.0.1:8050/\n",
      "\n",
      "Dash is running on http://127.0.0.1:8050/\n",
      "\n",
      "Dash is running on http://127.0.0.1:8050/\n",
      "\n",
      "Dash is running on http://127.0.0.1:8050/\n",
      "\n",
      "Dash is running on http://127.0.0.1:8050/\n",
      "\n",
      "Dash is running on http://127.0.0.1:8050/\n",
      "\n",
      "Dash is running on http://127.0.0.1:8050/\n",
      "\n",
      "Dash is running on http://127.0.0.1:8050/\n",
      "\n",
      "Dash is running on http://127.0.0.1:8050/\n",
      "\n",
      "Dash is running on http://127.0.0.1:8050/\n",
      "\n",
      "Dash is running on http://127.0.0.1:8050/\n",
      "\n",
      "Dash is running on http://127.0.0.1:8050/\n",
      "\n",
      "Dash is running on http://127.0.0.1:8050/\n",
      "\n",
      "Dash is running on http://127.0.0.1:8050/\n",
      "\n",
      "Dash is running on http://127.0.0.1:8050/\n",
      "\n",
      "Dash is running on http://127.0.0.1:8050/\n",
      "\n",
      "Dash is running on http://127.0.0.1:8050/\n",
      "\n",
      "Dash is running on http://127.0.0.1:8050/\n",
      "\n",
      "Dash is running on http://127.0.0.1:8050/\n",
      "\n",
      "Dash is running on http://127.0.0.1:8050/\n",
      "\n",
      "Dash is running on http://127.0.0.1:8050/\n",
      "\n",
      "Dash is running on http://127.0.0.1:8050/\n",
      "\n",
      "Dash is running on http://127.0.0.1:8050/\n",
      "\n",
      "Dash is running on http://127.0.0.1:8050/\n",
      "\n",
      "Dash is running on http://127.0.0.1:8050/\n",
      "\n",
      "Dash is running on http://127.0.0.1:8050/\n",
      "\n",
      "Dash is running on http://127.0.0.1:8050/\n",
      "\n",
      "Dash is running on http://127.0.0.1:8050/\n",
      "\n",
      "Dash is running on http://127.0.0.1:8050/\n",
      "\n",
      "Dash is running on http://127.0.0.1:8050/\n",
      "\n",
      "Dash is running on http://127.0.0.1:8050/\n",
      "\n",
      "Dash is running on http://127.0.0.1:8050/\n",
      "\n",
      "Dash is running on http://127.0.0.1:8050/\n",
      "\n",
      "Dash is running on http://127.0.0.1:8050/\n",
      "\n",
      "Dash is running on http://127.0.0.1:8050/\n",
      "\n",
      "Dash is running on http://127.0.0.1:8050/\n",
      "\n"
     ]
    },
    {
     "name": "stderr",
     "output_type": "stream",
     "text": [
      "INFO:__main__:Dash is running on http://127.0.0.1:8050/\n",
      "\n"
     ]
    },
    {
     "name": "stdout",
     "output_type": "stream",
     "text": [
      " * Serving Flask app \"__main__\" (lazy loading)\n",
      " * Environment: production\n",
      "   WARNING: This is a development server. Do not use it in a production deployment.\n",
      "   Use a production WSGI server instead.\n",
      " * Debug mode: off\n"
     ]
    }
   ],
   "source": [
    "external_stylesheets = ['https://codepen.io/chriddyp/pen/bWLwgP.css']\n",
    "\n",
    "app = dash.Dash(__name__, external_stylesheets=external_stylesheets)\n",
    "\n",
    "fig = go.Figure()\n",
    "fig.add_trace(go.Scatter(x=eg_portfolio_price.index, y=eg_portfolio_price,\n",
    "                    mode='lines', line=dict(color='darkturquoise')))\n",
    "fig.update_layout(\n",
    "    title=\"GLD/GDXJ portfolio price\",\n",
    "    xaxis_title=\"Date\",\n",
    "    yaxis_title=\"Price\",\n",
    "    #     autosize=False,\n",
    "    #     width=500,\n",
    "         height=500,\n",
    "    )\n",
    "\n",
    "fig.update_xaxes(rangeslider_visible=True)\n",
    "\n",
    "app.layout = html.Div(children=[\n",
    "    \n",
    "    \n",
    "     dcc.Graph(\n",
    "        id='example-graph',\n",
    "        figure=fig\n",
    "        , style={'width':'90%', \n",
    "                    'height':'90%',\n",
    "                    'margin-top': 30,\n",
    "                    'margin-rigt': 30, \n",
    "#                     'vertical-align': 'top', \n",
    "                    'horizontal-align': 'left',\n",
    "#                     'display':'inline-block'\n",
    "                })  \n",
    "\n",
    "    \n",
    "    \n",
    "])\n",
    "\n",
    "if __name__ == '__main__':\n",
    "    app.run_server()"
   ]
  },
  {
   "cell_type": "code",
   "execution_count": null,
   "metadata": {},
   "outputs": [],
   "source": []
  },
  {
   "cell_type": "markdown",
   "metadata": {},
   "source": [
    "### Add stylized logo"
   ]
  },
  {
   "cell_type": "code",
   "execution_count": 379,
   "metadata": {},
   "outputs": [
    {
     "name": "stdout",
     "output_type": "stream",
     "text": [
      "Dash is running on http://127.0.0.1:8050/\n",
      "\n",
      "Dash is running on http://127.0.0.1:8050/\n",
      "\n",
      "Dash is running on http://127.0.0.1:8050/\n",
      "\n",
      "Dash is running on http://127.0.0.1:8050/\n",
      "\n",
      "Dash is running on http://127.0.0.1:8050/\n",
      "\n",
      "Dash is running on http://127.0.0.1:8050/\n",
      "\n",
      "Dash is running on http://127.0.0.1:8050/\n",
      "\n",
      "Dash is running on http://127.0.0.1:8050/\n",
      "\n",
      "Dash is running on http://127.0.0.1:8050/\n",
      "\n",
      "Dash is running on http://127.0.0.1:8050/\n",
      "\n",
      "Dash is running on http://127.0.0.1:8050/\n",
      "\n",
      "Dash is running on http://127.0.0.1:8050/\n",
      "\n",
      "Dash is running on http://127.0.0.1:8050/\n",
      "\n",
      "Dash is running on http://127.0.0.1:8050/\n",
      "\n",
      "Dash is running on http://127.0.0.1:8050/\n",
      "\n",
      "Dash is running on http://127.0.0.1:8050/\n",
      "\n",
      "Dash is running on http://127.0.0.1:8050/\n",
      "\n",
      "Dash is running on http://127.0.0.1:8050/\n",
      "\n",
      "Dash is running on http://127.0.0.1:8050/\n",
      "\n",
      "Dash is running on http://127.0.0.1:8050/\n",
      "\n",
      "Dash is running on http://127.0.0.1:8050/\n",
      "\n",
      "Dash is running on http://127.0.0.1:8050/\n",
      "\n",
      "Dash is running on http://127.0.0.1:8050/\n",
      "\n",
      "Dash is running on http://127.0.0.1:8050/\n",
      "\n",
      "Dash is running on http://127.0.0.1:8050/\n",
      "\n",
      "Dash is running on http://127.0.0.1:8050/\n",
      "\n",
      "Dash is running on http://127.0.0.1:8050/\n",
      "\n",
      "Dash is running on http://127.0.0.1:8050/\n",
      "\n",
      "Dash is running on http://127.0.0.1:8050/\n",
      "\n",
      "Dash is running on http://127.0.0.1:8050/\n",
      "\n",
      "Dash is running on http://127.0.0.1:8050/\n",
      "\n",
      "Dash is running on http://127.0.0.1:8050/\n",
      "\n",
      "Dash is running on http://127.0.0.1:8050/\n",
      "\n",
      "Dash is running on http://127.0.0.1:8050/\n",
      "\n",
      "Dash is running on http://127.0.0.1:8050/\n",
      "\n",
      "Dash is running on http://127.0.0.1:8050/\n",
      "\n",
      "Dash is running on http://127.0.0.1:8050/\n",
      "\n",
      "Dash is running on http://127.0.0.1:8050/\n",
      "\n",
      "Dash is running on http://127.0.0.1:8050/\n",
      "\n",
      "Dash is running on http://127.0.0.1:8050/\n",
      "\n",
      "Dash is running on http://127.0.0.1:8050/\n",
      "\n",
      "Dash is running on http://127.0.0.1:8050/\n",
      "\n",
      "Dash is running on http://127.0.0.1:8050/\n",
      "\n",
      "Dash is running on http://127.0.0.1:8050/\n",
      "\n",
      "Dash is running on http://127.0.0.1:8050/\n",
      "\n",
      "Dash is running on http://127.0.0.1:8050/\n",
      "\n",
      "Dash is running on http://127.0.0.1:8050/\n",
      "\n",
      "Dash is running on http://127.0.0.1:8050/\n",
      "\n",
      "Dash is running on http://127.0.0.1:8050/\n",
      "\n",
      "Dash is running on http://127.0.0.1:8050/\n",
      "\n",
      "Dash is running on http://127.0.0.1:8050/\n",
      "\n",
      "Dash is running on http://127.0.0.1:8050/\n",
      "\n",
      "Dash is running on http://127.0.0.1:8050/\n",
      "\n",
      "Dash is running on http://127.0.0.1:8050/\n",
      "\n",
      "Dash is running on http://127.0.0.1:8050/\n",
      "\n",
      "Dash is running on http://127.0.0.1:8050/\n",
      "\n",
      "Dash is running on http://127.0.0.1:8050/\n",
      "\n",
      "Dash is running on http://127.0.0.1:8050/\n",
      "\n",
      "Dash is running on http://127.0.0.1:8050/\n",
      "\n",
      "Dash is running on http://127.0.0.1:8050/\n",
      "\n",
      "Dash is running on http://127.0.0.1:8050/\n",
      "\n",
      "Dash is running on http://127.0.0.1:8050/\n",
      "\n",
      "Dash is running on http://127.0.0.1:8050/\n",
      "\n",
      "Dash is running on http://127.0.0.1:8050/\n",
      "\n",
      "Dash is running on http://127.0.0.1:8050/\n",
      "\n",
      "Dash is running on http://127.0.0.1:8050/\n",
      "\n",
      "Dash is running on http://127.0.0.1:8050/\n",
      "\n",
      "Dash is running on http://127.0.0.1:8050/\n",
      "\n",
      "Dash is running on http://127.0.0.1:8050/\n",
      "\n",
      "Dash is running on http://127.0.0.1:8050/\n",
      "\n",
      "Dash is running on http://127.0.0.1:8050/\n",
      "\n",
      "Dash is running on http://127.0.0.1:8050/\n",
      "\n",
      "Dash is running on http://127.0.0.1:8050/\n",
      "\n",
      "Dash is running on http://127.0.0.1:8050/\n",
      "\n",
      "Dash is running on http://127.0.0.1:8050/\n",
      "\n",
      "Dash is running on http://127.0.0.1:8050/\n",
      "\n",
      "Dash is running on http://127.0.0.1:8050/\n",
      "\n",
      "Dash is running on http://127.0.0.1:8050/\n",
      "\n",
      "Dash is running on http://127.0.0.1:8050/\n",
      "\n",
      "Dash is running on http://127.0.0.1:8050/\n",
      "\n",
      "Dash is running on http://127.0.0.1:8050/\n",
      "\n",
      "Dash is running on http://127.0.0.1:8050/\n",
      "\n",
      "Dash is running on http://127.0.0.1:8050/\n",
      "\n",
      "Dash is running on http://127.0.0.1:8050/\n",
      "\n",
      "Dash is running on http://127.0.0.1:8050/\n",
      "\n",
      "Dash is running on http://127.0.0.1:8050/\n",
      "\n",
      "Dash is running on http://127.0.0.1:8050/\n",
      "\n",
      "Dash is running on http://127.0.0.1:8050/\n",
      "\n",
      "Dash is running on http://127.0.0.1:8050/\n",
      "\n",
      " * Serving Flask app \"__main__\" (lazy loading)\n",
      " * Environment: production\n",
      "   WARNING: This is a development server. Do not use it in a production deployment.\n",
      "   Use a production WSGI server instead.\n",
      " * Debug mode: off\n"
     ]
    },
    {
     "name": "stderr",
     "output_type": "stream",
     "text": [
      " * Running on http://127.0.0.1:8050/ (Press CTRL+C to quit)\n",
      "127.0.0.1 - - [15/Apr/2021 22:28:19] \"\u001b[37mGET / HTTP/1.1\u001b[0m\" 200 -\n",
      "127.0.0.1 - - [15/Apr/2021 22:28:20] \"\u001b[37mGET /_dash-layout HTTP/1.1\u001b[0m\" 200 -\n",
      "127.0.0.1 - - [15/Apr/2021 22:28:20] \"\u001b[37mGET /_dash-dependencies HTTP/1.1\u001b[0m\" 200 -\n",
      "127.0.0.1 - - [15/Apr/2021 22:28:20] \"\u001b[37mGET /assets/LB_Hudson_Thames_ProductLogos_ArbitrageLab-01.png HTTP/1.1\u001b[0m\" 200 -\n",
      "127.0.0.1 - - [15/Apr/2021 22:28:30] \"\u001b[37mGET / HTTP/1.1\u001b[0m\" 200 -\n",
      "127.0.0.1 - - [15/Apr/2021 22:28:30] \"\u001b[37mGET /_dash-component-suites/dash_table/bundle.v4_11_2m1617880301.js HTTP/1.1\u001b[0m\" 200 -\n",
      "127.0.0.1 - - [15/Apr/2021 22:28:30] \"\u001b[37mGET /_dash-component-suites/dash_renderer/polyfill@7.v1_9_0m1617880301.8.7.min.js HTTP/1.1\u001b[0m\" 200 -\n",
      "127.0.0.1 - - [15/Apr/2021 22:28:30] \"\u001b[37mGET /_dash-component-suites/dash_renderer/prop-types@15.v1_9_0m1617880301.7.2.min.js HTTP/1.1\u001b[0m\" 200 -\n",
      "127.0.0.1 - - [15/Apr/2021 22:28:30] \"\u001b[37mGET /_dash-component-suites/dash_html_components/dash_html_components.v1_1_2m1617880302.min.js HTTP/1.1\u001b[0m\" 200 -\n",
      "127.0.0.1 - - [15/Apr/2021 22:28:30] \"\u001b[37mGET /_dash-component-suites/dash_renderer/react-dom@16.v1_9_0m1617880301.14.0.min.js HTTP/1.1\u001b[0m\" 200 -\n",
      "127.0.0.1 - - [15/Apr/2021 22:28:30] \"\u001b[37mGET /_dash-component-suites/dash_renderer/react@16.v1_9_0m1617880301.14.0.min.js HTTP/1.1\u001b[0m\" 200 -\n",
      "127.0.0.1 - - [15/Apr/2021 22:28:30] \"\u001b[37mGET /_dash-component-suites/dash_core_components/dash_core_components-shared.v1_15_0m1617880302.js HTTP/1.1\u001b[0m\" 200 -\n",
      "127.0.0.1 - - [15/Apr/2021 22:28:30] \"\u001b[37mGET /_dash-component-suites/dash_core_components/dash_core_components.v1_15_0m1617880302.min.js HTTP/1.1\u001b[0m\" 200 -\n",
      "127.0.0.1 - - [15/Apr/2021 22:28:30] \"\u001b[37mGET /_dash-component-suites/dash_renderer/dash_renderer.v1_9_0m1617880301.min.js HTTP/1.1\u001b[0m\" 200 -\n",
      "127.0.0.1 - - [15/Apr/2021 22:28:31] \"\u001b[37mGET /_dash-layout HTTP/1.1\u001b[0m\" 200 -\n",
      "127.0.0.1 - - [15/Apr/2021 22:28:31] \"\u001b[37mGET /_dash-dependencies HTTP/1.1\u001b[0m\" 200 -\n",
      "127.0.0.1 - - [15/Apr/2021 22:28:31] \"\u001b[36mGET /assets/LB_Hudson_Thames_ProductLogos_ArbitrageLab-01.png HTTP/1.1\u001b[0m\" 304 -\n",
      "127.0.0.1 - - [15/Apr/2021 22:28:51] \"\u001b[37mGET / HTTP/1.1\u001b[0m\" 200 -\n",
      "127.0.0.1 - - [15/Apr/2021 22:28:52] \"\u001b[37mGET /_dash-component-suites/dash_table/bundle.v4_11_2m1617880301.js HTTP/1.1\u001b[0m\" 200 -\n",
      "127.0.0.1 - - [15/Apr/2021 22:28:52] \"\u001b[37mGET /_dash-component-suites/dash_renderer/polyfill@7.v1_9_0m1617880301.8.7.min.js HTTP/1.1\u001b[0m\" 200 -\n",
      "127.0.0.1 - - [15/Apr/2021 22:28:52] \"\u001b[37mGET /_dash-component-suites/dash_renderer/prop-types@15.v1_9_0m1617880301.7.2.min.js HTTP/1.1\u001b[0m\" 200 -\n",
      "127.0.0.1 - - [15/Apr/2021 22:28:52] \"\u001b[37mGET /_dash-component-suites/dash_html_components/dash_html_components.v1_1_2m1617880302.min.js HTTP/1.1\u001b[0m\" 200 -\n",
      "127.0.0.1 - - [15/Apr/2021 22:28:52] \"\u001b[37mGET /_dash-component-suites/dash_renderer/react-dom@16.v1_9_0m1617880301.14.0.min.js HTTP/1.1\u001b[0m\" 200 -\n",
      "127.0.0.1 - - [15/Apr/2021 22:28:52] \"\u001b[37mGET /_dash-component-suites/dash_renderer/react@16.v1_9_0m1617880301.14.0.min.js HTTP/1.1\u001b[0m\" 200 -\n",
      "127.0.0.1 - - [15/Apr/2021 22:28:52] \"\u001b[37mGET /_dash-component-suites/dash_core_components/dash_core_components.v1_15_0m1617880302.min.js HTTP/1.1\u001b[0m\" 200 -\n",
      "127.0.0.1 - - [15/Apr/2021 22:28:52] \"\u001b[37mGET /_dash-component-suites/dash_core_components/dash_core_components-shared.v1_15_0m1617880302.js HTTP/1.1\u001b[0m\" 200 -\n",
      "127.0.0.1 - - [15/Apr/2021 22:28:52] \"\u001b[37mGET /_dash-component-suites/dash_renderer/dash_renderer.v1_9_0m1617880301.min.js HTTP/1.1\u001b[0m\" 200 -\n",
      "127.0.0.1 - - [15/Apr/2021 22:28:52] \"\u001b[37mGET /_dash-layout HTTP/1.1\u001b[0m\" 200 -\n",
      "127.0.0.1 - - [15/Apr/2021 22:28:52] \"\u001b[37mGET /_dash-dependencies HTTP/1.1\u001b[0m\" 200 -\n",
      "127.0.0.1 - - [15/Apr/2021 22:28:52] \"\u001b[36mGET /assets/LB_Hudson_Thames_ProductLogos_ArbitrageLab-01.png HTTP/1.1\u001b[0m\" 304 -\n",
      "127.0.0.1 - - [15/Apr/2021 22:29:23] \"\u001b[37mGET / HTTP/1.1\u001b[0m\" 200 -\n",
      "127.0.0.1 - - [15/Apr/2021 22:29:23] \"\u001b[37mGET /_dash-layout HTTP/1.1\u001b[0m\" 200 -\n",
      "127.0.0.1 - - [15/Apr/2021 22:29:23] \"\u001b[37mGET /_dash-dependencies HTTP/1.1\u001b[0m\" 200 -\n"
     ]
    }
   ],
   "source": [
    "app = dash.Dash(__name__)\n",
    "\n",
    "app.layout = html.Div(\n",
    "    html.Img(src='assets/LB_Hudson_Thames_ProductLogos_ArbitrageLab-01.png', \n",
    "             style={'width':'11%', \n",
    "                    'height':'11%',\n",
    "                    'margin-top': 30,\n",
    "                    'margin-rigt': 30, \n",
    "                    'vertical-align': 'top', \n",
    "                    'horizontal-align': 'right',\n",
    "                    'display':'inline-block'}))\n",
    "\n",
    "if __name__ == '__main__':\n",
    "    app.run_server()"
   ]
  },
  {
   "cell_type": "markdown",
   "metadata": {},
   "source": [
    "## Color\n",
    "Munsell #0C9AAC\n",
    "\n",
    "Flame #DE612F\n",
    "\n",
    "Black #0B0D13\n",
    "\n",
    "Blue #072040\n",
    "\n",
    "Grey dark #949494\n",
    "\n",
    "Grey light #F2F3F4"
   ]
  },
  {
   "cell_type": "code",
   "execution_count": null,
   "metadata": {},
   "outputs": [],
   "source": [
    "! pip install dash-bootstrap-components\n"
   ]
  },
  {
   "cell_type": "code",
   "execution_count": null,
   "metadata": {},
   "outputs": [],
   "source": [
    "# import required packages\n",
    "import dash\n",
    "import dash_table\n",
    "import dash_core_components as dcc\n",
    "import dash_html_components as html\n",
    "import dash_bootstrap_components as dbc\n",
    "import plotly.graph_objs as go\n",
    "import numpy as np\n",
    "import pandas as pd\n",
    "\n",
    "\n",
    "# define figure creation function\n",
    "def create_figure():\n",
    "    N = 100\n",
    "    x_min = 0\n",
    "    x_max = 10\n",
    "    y_min = 0\n",
    "    y_max = 10\n",
    "\n",
    "    blue = '#6683f3'\n",
    "    orange = '#ff9266'\n",
    "    grey = '#e0e1f5'\n",
    "    black = '#212121'\n",
    "\n",
    "    x = np.linspace(x_min, x_max, N)\n",
    "    y = np.linspace(y_min, y_max, N)\n",
    "    XX, YY = np.meshgrid(x, y)\n",
    "\n",
    "    Z1 = XX*2*YY/10\n",
    "    Z2 = np.sin(XX)*YY**2\n",
    "\n",
    "    data = [go.Contour(z = Z1,\n",
    "                       name = 'Z1',\n",
    "                       contours_coloring = 'lines',\n",
    "                       line_width = 2,\n",
    "                       showscale = False,\n",
    "                       showlegend = True,\n",
    "                       colorscale = [[0, blue], [1, blue]],\n",
    "                       ncontours = 11,\n",
    "                       contours = dict(showlabels = True,\n",
    "                                       labelformat = '.0f')),\n",
    "\n",
    "            go.Contour(z = Z2,\n",
    "                       name = 'Z2',\n",
    "                       contours_coloring = 'lines',\n",
    "                       line_width = 2,\n",
    "                       showscale = False,\n",
    "                       showlegend = True,\n",
    "                       colorscale = [[0, orange], [1, orange]],\n",
    "                       ncontours = 21,\n",
    "                       contours = dict(showlabels = True,\n",
    "                                       labelformat = '.0f'))]\n",
    "\n",
    "    layout = go.Layout(plot_bgcolor = black,\n",
    "                       hovermode = 'x unified')\n",
    "\n",
    "    figure = go.Figure(data = data, layout = layout)\n",
    "\n",
    "    figure.update_xaxes(title_text = 'X',\n",
    "                        linewidth = 1,\n",
    "                        nticks = 11,\n",
    "                        gridwidth = 0.5,\n",
    "                        gridcolor = grey,\n",
    "                        tickformat = '.0f')\n",
    "\n",
    "    figure.update_yaxes(title_text = 'Y',\n",
    "                        linewidth = 1,\n",
    "                        nticks = 11,\n",
    "                        gridwidth = 0.5,\n",
    "                        gridcolor = grey,\n",
    "                        tickformat = '.0f')\n",
    "\n",
    "    figure.update_layout(legend = dict(itemsizing = 'constant'), margin = dict(t=0, b=0, l=0, r=0))\n",
    "\n",
    "    return figure\n",
    "\n",
    "# define dataframe creation function\n",
    "def create_dataframe():\n",
    "    rows = 6\n",
    "    df = pd.DataFrame(columns = list('ABCDEFGHIJ'))\n",
    "    data = np.random.random(size = (rows, len(df.columns)))\n",
    "\n",
    "    for line in data:\n",
    "        df = df.append(dict(zip(df.columns, line)), ignore_index=True)\n",
    "\n",
    "    return df\n",
    "\n",
    "\n",
    "# call figure and dataframe functions\n",
    "figure = create_figure()\n",
    "df = create_dataframe()\n",
    "\n",
    "\n",
    "# page layout\n",
    "app = dash.Dash(external_stylesheets = [dbc.themes.BOOTSTRAP])\n",
    "\n",
    "app.layout = html.Div([\n",
    "\n",
    "    # first row\n",
    "    html.Div(children=[\n",
    "\n",
    "        # first column of first row\n",
    "        html.Div(children=[\n",
    "\n",
    "            dcc.RadioItems(id = 'radio-item-1',\n",
    "                           options = [dict(label = 'option A', value = 'A'),\n",
    "                                      dict(label = 'option B', value = 'B'),\n",
    "                                      dict(label = 'option C', value = 'C')],\n",
    "                            value = 'A',\n",
    "                            labelStyle={'display': 'block'}),\n",
    "\n",
    "            html.P(id = 'text-1',\n",
    "                   children = 'First paragraph'),\n",
    "\n",
    "        ], style={'display': 'inline-block', 'vertical-align': 'top', 'margin-left': '3vw', 'margin-top': '3vw'}),\n",
    "\n",
    "        # second column of first row\n",
    "        html.Div(children=[\n",
    "\n",
    "            dcc.RadioItems(id = 'radio-item-2',\n",
    "                       options = [dict(label = 'option 1', value = '1'),\n",
    "                                  dict(label = 'option 2', value = '2'),\n",
    "                                  dict(label = 'option 3', value = '3')],\n",
    "                       value = '1',\n",
    "                       labelStyle={'display': 'block'}),\n",
    "\n",
    "            html.P(id='text-2',\n",
    "                   children='Second paragraph'),\n",
    "\n",
    "        ], style={'display': 'inline-block', 'vertical-align': 'top', 'margin-left': '3vw', 'margin-top': '3vw'}),\n",
    "\n",
    "        # third column of first row\n",
    "        html.Div(children=[\n",
    "\n",
    "            html.Div(dcc.Graph(id = 'main-graph',\n",
    "                               figure = figure)),\n",
    "\n",
    "        ], style={'display': 'inline-block', 'vertical-align': 'top', 'margin-left': '3vw', 'margin-top': '3vw'}),\n",
    "\n",
    "    ], className='row'),\n",
    "\n",
    "    # second row\n",
    "    html.Div(children=[\n",
    "\n",
    "        html.Div(dash_table.DataTable(id = 'main-table',\n",
    "                                      columns = [{\"name\": i, \"id\": i} for i in df.columns],\n",
    "                                      data = df.to_dict('records'),\n",
    "                                      style_table={'margin-left': '3vw', 'margin-top': '3vw'})),\n",
    "\n",
    "    ], className='row'),\n",
    "\n",
    "])\n",
    "\n",
    "if __name__ == \"__main__\":\n",
    "    app.run_server()"
   ]
  },
  {
   "cell_type": "code",
   "execution_count": null,
   "metadata": {},
   "outputs": [],
   "source": []
  },
  {
   "cell_type": "code",
   "execution_count": null,
   "metadata": {},
   "outputs": [],
   "source": []
  }
 ],
 "metadata": {
  "kernelspec": {
   "display_name": "ArbitrageLab",
   "language": "python",
   "name": "arbitragelab"
  },
  "language_info": {
   "codemirror_mode": {
    "name": "ipython",
    "version": 3
   },
   "file_extension": ".py",
   "mimetype": "text/x-python",
   "name": "python",
   "nbconvert_exporter": "python",
   "pygments_lexer": "ipython3",
   "version": "3.8.0"
  }
 },
 "nbformat": 4,
 "nbformat_minor": 4
}
